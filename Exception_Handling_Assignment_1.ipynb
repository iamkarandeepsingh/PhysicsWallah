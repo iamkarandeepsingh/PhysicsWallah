{
  "nbformat": 4,
  "nbformat_minor": 0,
  "metadata": {
    "colab": {
      "provenance": []
    },
    "kernelspec": {
      "name": "python3",
      "display_name": "Python 3"
    },
    "language_info": {
      "name": "python"
    }
  },
  "cells": [
    {
      "cell_type": "markdown",
      "source": [
        "Q1. What is an Exception in python? Write the difference\n",
        "between Exceptions and Syntax errors."
      ],
      "metadata": {
        "id": "UOnE265hHaJ5"
      }
    },
    {
      "cell_type": "code",
      "source": [],
      "metadata": {
        "id": "kv6sPEJbH78q"
      },
      "execution_count": null,
      "outputs": []
    },
    {
      "cell_type": "markdown",
      "source": [
        "Q2. Wh\n",
        "at happens when\n",
        "\n",
        "n ex,eption is not h\n",
        "\n",
        "ndled? Expl\n",
        "in with\n",
        "n ex\n",
        "mple"
      ],
      "metadata": {
        "id": "WwmEcoQqH-Xh"
      }
    }
  ]
}