{
  "nbformat": 4,
  "nbformat_minor": 0,
  "metadata": {
    "colab": {
      "provenance": []
    },
    "kernelspec": {
      "name": "python3",
      "display_name": "Python 3"
    },
    "language_info": {
      "name": "python"
    }
  },
  "cells": [
    {
      "cell_type": "markdown",
      "source": [
        "Q1. What is multithreading in python? hy is it used? Name the module used to handle threads in python"
      ],
      "metadata": {
        "id": "xXu0qiVoJD_1"
      }
    },
    {
      "cell_type": "code",
      "source": [],
      "metadata": {
        "id": "_TP_UuvSJM7R"
      },
      "execution_count": null,
      "outputs": []
    },
    {
      "cell_type": "markdown",
      "source": [
        "Q2. Why threading module used? Write the use of the following functions\n",
        "\n",
        "1.activeCount()\n",
        "\n",
        "2.currentThread()\n",
        "\n",
        "3.enumerate()"
      ],
      "metadata": {
        "id": "VBAHUjnfJN4C"
      }
    },
    {
      "cell_type": "code",
      "source": [],
      "metadata": {
        "id": "RlNdGUsSJb_r"
      },
      "execution_count": null,
      "outputs": []
    },
    {
      "cell_type": "markdown",
      "source": [
        "Q3. Explain the following functions:\n",
        "\n",
        "1.run()\n",
        "\n",
        "2.start()\n",
        "\n",
        "3.join()\n",
        "\n",
        "4.isAlive()"
      ],
      "metadata": {
        "id": "MHHZo3tYJmH9"
      }
    },
    {
      "cell_type": "code",
      "source": [],
      "metadata": {
        "id": "fzk0irb5J2VT"
      },
      "execution_count": null,
      "outputs": []
    },
    {
      "cell_type": "markdown",
      "source": [
        "Q4. Write a python program to create two threads. Thread one must print the list of squares and thread\n",
        "two must print the list of cubes."
      ],
      "metadata": {
        "id": "mhk5DsbKJ4c8"
      }
    },
    {
      "cell_type": "code",
      "source": [],
      "metadata": {
        "id": "jxiUpziYJ8LO"
      },
      "execution_count": null,
      "outputs": []
    },
    {
      "cell_type": "markdown",
      "source": [
        "Q5. State advantages and disadvantages of multithreading."
      ],
      "metadata": {
        "id": "OWUpskw2KCDx"
      }
    },
    {
      "cell_type": "code",
      "source": [],
      "metadata": {
        "id": "OXPc3BgQKFu1"
      },
      "execution_count": null,
      "outputs": []
    },
    {
      "cell_type": "markdown",
      "source": [
        "Q6. Explain deadlocks and race conditions."
      ],
      "metadata": {
        "id": "Ofym8CfEKLqG"
      }
    },
    {
      "cell_type": "code",
      "source": [],
      "metadata": {
        "id": "dexuaOPxKNKb"
      },
      "execution_count": null,
      "outputs": []
    }
  ]
}