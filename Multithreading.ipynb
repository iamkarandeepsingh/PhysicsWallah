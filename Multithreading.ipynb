{
  "nbformat": 4,
  "nbformat_minor": 0,
  "metadata": {
    "colab": {
      "provenance": [],
      "authorship_tag": "ABX9TyPEnsQLEYbvtanAyqX7uHVe",
      "include_colab_link": true
    },
    "kernelspec": {
      "name": "python3",
      "display_name": "Python 3"
    },
    "language_info": {
      "name": "python"
    }
  },
  "cells": [
    {
      "cell_type": "markdown",
      "metadata": {
        "id": "view-in-github",
        "colab_type": "text"
      },
      "source": [
        "<a href=\"https://colab.research.google.com/github/iamkarandeepsingh/PhysicsWallah/blob/main/Multithreading.ipynb\" target=\"_parent\"><img src=\"https://colab.research.google.com/assets/colab-badge.svg\" alt=\"Open In Colab\"/></a>"
      ]
    },
    {
      "cell_type": "markdown",
      "source": [
        "Q1. What is multithreading in python? Why it is used? Name the module used to handle threads in python."
      ],
      "metadata": {
        "id": "9rXdytO5uZ9L"
      }
    },
    {
      "cell_type": "markdown",
      "source": [
        "Ans1. Multithreaidng is used when we need to execute numerous threads i.e. programs with a single processor.\n",
        "It is basically used to ease the task and when a progam is set to sleep other set of programs can work with a single processor."
      ],
      "metadata": {
        "id": "PD4QJHWd3UFi"
      }
    },
    {
      "cell_type": "code",
      "source": [
        "# thread = [threading.Thread(target = abc , args=(i,)) for i in range(9))"
      ],
      "metadata": {
        "id": "uiP87pMu3-8y"
      },
      "execution_count": 2,
      "outputs": []
    },
    {
      "cell_type": "markdown",
      "source": [
        "Q2. Why threading module used? Write the use of the following functions\n",
        "\n",
        "1. activeCount()\n",
        "2. currentThread()\n",
        "3. enumerate()"
      ],
      "metadata": {
        "id": "TmH7e8lHuaD9"
      }
    },
    {
      "cell_type": "markdown",
      "source": [
        "Ans2. The threading module is used in Python to work with threads. It provides a high-level interface for creating and managing threads in a multi-threaded environment.\n",
        "\n",
        "activeCount(): This function returns the number of Thread objects currently alive. It returns an integer value representing the current number of active threads in the program.\n",
        "\n",
        "currentThread(): This function returns the Thread object corresponding to the current thread of execution. It allows you to obtain a reference to the thread object from within the thread itself.\n",
        "\n",
        "enumerate(): This function returns a list of all Thread objects currently alive. It returns a list of Thread objects that are currently running, including the main thread. Each thread in the list can be accessed and its attributes can be examined"
      ],
      "metadata": {
        "id": "400GgMHPDX_n"
      }
    },
    {
      "cell_type": "markdown",
      "source": [
        "Q3. Explain the following functions\n",
        "\n",
        "1. run()\n",
        "2. start()\n",
        "3. join()\n",
        "4. isAlive()"
      ],
      "metadata": {
        "id": "2Kxt2fyVuaKl"
      }
    },
    {
      "cell_type": "markdown",
      "source": [
        "Ans3. run(): This method is the entry point for the thread's activity. It defines the behavior of the thread when it is started. When a Thread object is created, its run() method is initially empty. You can override this method in a subclass to define the specific task or code that the thread should execute. When the start() method is called on the thread, it in turn calls the run() method to begin the execution of the thread's task.\n",
        "\n",
        "run(): This method is the entry point for the thread's activity. It defines the behavior of the thread when it is started. When a Thread object is created, its run() method is initially empty. You can override this method in a subclass to define the specific task or code that the thread should execute. When the start() method is called on the thread, it in turn calls the run() method to begin the execution of the thread's task.\n",
        "\n",
        "join(): This method blocks the calling thread until the thread on which it is called completes its execution. It allows one thread to wait for the completion of another thread. When the join() method is called, the calling thread is put into a blocked state until the specified thread finishes executing. This is useful when you want to ensure that a thread completes its execution before proceeding with the rest of the code.\n",
        "\n",
        "join(): This method blocks the calling thread until the thread on which it is called completes its execution. It allows one thread to wait for the completion of another thread. When the join() method is called, the calling thread is put into a blocked state until the specified thread finishes executing. This is useful when you want to ensure that a thread completes its execution before proceeding with the rest of the code.\n"
      ],
      "metadata": {
        "id": "Y5EEEHnMD1LZ"
      }
    },
    {
      "cell_type": "markdown",
      "source": [
        "Q4. Write a python program to create two threads. Thread one must print the list of squares and thread\n",
        "two must print the list of cubes."
      ],
      "metadata": {
        "id": "7s1QjdJwuaQt"
      }
    },
    {
      "cell_type": "code",
      "source": [
        "import threading\n",
        "\n",
        "def print_squares(n):\n",
        "    squares = [i ** 2 for i in range(1, n+1)]\n",
        "    print(\"List of squares:\", squares)\n",
        "\n",
        "def print_cubes(n):\n",
        "    cubes = [i ** 3 for i in range(1, n+1)]\n",
        "    print(\"List of cubes:\", cubes)\n",
        "\n",
        "if __name__ == \"__main__\":\n",
        "    n = 10\n",
        "    thread_one = threading.Thread(target=print_squares, args=(n,))\n",
        "    thread_two = threading.Thread(target=print_cubes, args=(n,))\n",
        "\n",
        "    thread_one.start()\n",
        "    thread_two.start()\n",
        "    thread_one.join()\n",
        "    thread_two.join()\n"
      ],
      "metadata": {
        "colab": {
          "base_uri": "https://localhost:8080/"
        },
        "id": "64VDDdgaEOMX",
        "outputId": "f40b840a-b789-42e4-979f-3e02faed584b"
      },
      "execution_count": 3,
      "outputs": [
        {
          "output_type": "stream",
          "name": "stdout",
          "text": [
            "List of squares: [1, 4, 9, 16, 25, 36, 49, 64, 81, 100]\n",
            "List of cubes: [1, 8, 27, 64, 125, 216, 343, 512, 729, 1000]\n"
          ]
        }
      ]
    },
    {
      "cell_type": "markdown",
      "source": [
        "Q5. State advantages and disadvantages of multithreading."
      ],
      "metadata": {
        "id": "UF8_sAbluaW5"
      }
    },
    {
      "cell_type": "markdown",
      "source": [
        "Ans5. Advantages of Multithreading:\n",
        "\n",
        "Increased Responsiveness: Multithreading allows a program to perform multiple tasks concurrently, making it more responsive. By dividing the workload among threads, a program can continue executing other tasks while waiting for slow I/O operations or performing computations in parallel.\n",
        "\n",
        "Enhanced Performance: Multithreading can improve the overall performance of a program by utilizing the available CPU resources efficiently. When multiple threads are executing concurrently, it can lead to faster execution and better resource utilization, especially in computationally intensive or parallelizable tasks.\n",
        "\n",
        "Resource Sharing: Threads within the same process share the same memory space, which allows for efficient data sharing and communication between threads. This makes it easier to share data and state between different parts of a program without the need for complex inter-process communication mechanisms.\n",
        "\n",
        "Simplified Programming: Multithreading simplifies the development of certain types of applications. For example, in GUI applications, using threads can help keep the user interface responsive while performing time-consuming tasks in the background. It allows for a more intuitive and interactive user experience.\n",
        "\n",
        "Disadvantages of Multithreading:\n",
        "\n",
        "Complexity and Difficulty: Multithreaded programming can be complex and challenging. Coordination and synchronization between threads need careful consideration to avoid race conditions, deadlocks, and other concurrency issues. Debugging and troubleshooting multithreaded programs can also be more difficult due to non-deterministic behavior caused by thread scheduling and timing issues.\n",
        "\n",
        "Increased Resource Consumption: Each thread requires system resources such as stack space, thread-specific data, and CPU time. Creating and managing multiple threads can increase the consumption of system resources, including memory and CPU overhead. In extreme cases, excessive multithreading can lead to resource exhaustion and degrade overall system performance.\n",
        "\n",
        "Synchronization Overhead: When multiple threads access shared resources concurrently, proper synchronization mechanisms must be employed to prevent data corruption or inconsistencies. This introduces additional overhead in terms of synchronization primitives (e.g., locks, semaphores) and can impact performance. Poorly designed synchronization can lead to bottlenecks and hinder the expected benefits of multithreading.\n",
        "\n",
        "Difficulty in Debugging and Testing: Multithreaded programs can exhibit complex and non-deterministic behavior, making them more challenging to debug and test. Timing-dependent bugs, race conditions, and deadlocks can be hard to reproduce and diagnose. Specialized debugging tools and techniques are often required to identify and resolve such issues."
      ],
      "metadata": {
        "id": "lrWVmMzoE_fy"
      }
    },
    {
      "cell_type": "markdown",
      "source": [
        "Q6. Explain deadlocks and race conditions.\n"
      ],
      "metadata": {
        "id": "KRrYBi973Pv2"
      }
    },
    {
      "cell_type": "markdown",
      "source": [
        "Ans6. Deadlocks:\n",
        "A deadlock occurs when two or more threads or processes are unable to proceed because each is waiting for a resource that is held by another. It is a situation where two or more threads are blocked forever, and none of them can proceed. Deadlocks typically occur due to a circular dependency between the threads' resource acquisitions.\n",
        "A deadlock situation generally involves four conditions known as the Coffman conditions:\n",
        "\n",
        "Mutual Exclusion: The resource in question cannot be simultaneously used or shared by multiple threads.\n",
        "Hold and Wait: A thread holding a resource requests another resource that is currently held by another thread, while still holding its own resource(s).\n",
        "No Preemption: Resources cannot be forcibly taken away from a thread; they can only be released voluntarily.\n",
        "Circular Wait: A circular chain of threads exists, where each thread is waiting for a resource held by another thread in the chain.\n",
        "To resolve deadlocks, various techniques can be employed, such as deadlock prevention, deadlock avoidance, and deadlock detection with resource allocation and scheduling strategies.\n",
        "\n",
        "Race Conditions:\n",
        "A race condition occurs when the behavior of a program depends on the relative timing or interleaving of multiple threads accessing shared resources or variables. It arises when multiple threads access and manipulate shared data simultaneously, leading to unexpected and undesired outcomes. The result of a race condition is unpredictable because it depends on the specific order of thread execution.\n",
        "Race conditions can manifest in different ways, such as:\n",
        "\n",
        "Read-Write Conflicts: When one thread is reading a shared variable while another thread is simultaneously modifying it.\n",
        "Write-Write Conflicts: When multiple threads are concurrently modifying a shared variable, leading to lost updates or inconsistent data.\n",
        "Read-Write or Write-Read Conflicts: When one thread is reading a shared variable while another thread is concurrently modifying it.\n",
        "Race conditions are typically resolved by applying proper synchronization techniques, such as locks, semaphores, or atomic operations, to ensure that critical sections of code are executed atomically or in a mutually exclusive manner. By synchronizing access to shared resources, race conditions can be avoided, and consistent and predictable program behavior can be achieved."
      ],
      "metadata": {
        "id": "g8Wk47IhFYsR"
      }
    },
    {
      "cell_type": "code",
      "source": [],
      "metadata": {
        "id": "aMy731LEFbia"
      },
      "execution_count": null,
      "outputs": []
    }
  ]
}