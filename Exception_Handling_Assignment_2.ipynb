{
  "nbformat": 4,
  "nbformat_minor": 0,
  "metadata": {
    "colab": {
      "provenance": []
    },
    "kernelspec": {
      "name": "python3",
      "display_name": "Python 3"
    },
    "language_info": {
      "name": "python"
    }
  },
  "cells": [
    {
      "cell_type": "markdown",
      "source": [
        "Q1. Explain why we have to use the Exception class while creating a Custom Exception.\n",
        "\n",
        "Note: Here Exception class refers to the base class for all the exceptions."
      ],
      "metadata": {
        "id": "ZQcCL8m1IZ6I"
      }
    },
    {
      "cell_type": "code",
      "source": [],
      "metadata": {
        "id": "be8EUkd9Ig33"
      },
      "execution_count": null,
      "outputs": []
    },
    {
      "cell_type": "markdown",
      "source": [
        "Q2. Write a python program to print Python Exception Hierarchy."
      ],
      "metadata": {
        "id": "2e0PO-O5ImWI"
      }
    },
    {
      "cell_type": "code",
      "source": [],
      "metadata": {
        "id": "KU745K8VIofd"
      },
      "execution_count": null,
      "outputs": []
    },
    {
      "cell_type": "markdown",
      "source": [
        "Q3. What errors are defined in the ArithmeticError class? Explain any two with an example."
      ],
      "metadata": {
        "id": "Xcxqs5N2Iqi_"
      }
    },
    {
      "cell_type": "code",
      "source": [],
      "metadata": {
        "id": "blnPFiLCIrfR"
      },
      "execution_count": null,
      "outputs": []
    },
    {
      "cell_type": "markdown",
      "source": [
        "Q4. Why LookupError class is used? Explain with an example KeyError and IndexError."
      ],
      "metadata": {
        "id": "a0iqFg0nItry"
      }
    },
    {
      "cell_type": "code",
      "source": [],
      "metadata": {
        "id": "Y1pT2DnMIuNN"
      },
      "execution_count": null,
      "outputs": []
    },
    {
      "cell_type": "markdown",
      "source": [
        "Q5. Explain ImportError. What is ModuleNotFoundError?"
      ],
      "metadata": {
        "id": "EfBIEvrBIuuq"
      }
    },
    {
      "cell_type": "code",
      "source": [],
      "metadata": {
        "id": "OKXoaZ1tIwx_"
      },
      "execution_count": null,
      "outputs": []
    },
    {
      "cell_type": "markdown",
      "source": [
        "Q6. List down some best practices for exception handling in python."
      ],
      "metadata": {
        "id": "FdDsZrn-IzVr"
      }
    },
    {
      "cell_type": "code",
      "source": [],
      "metadata": {
        "id": "-YJlp-V8I0Iu"
      },
      "execution_count": null,
      "outputs": []
    }
  ]
}