{
  "nbformat": 4,
  "nbformat_minor": 0,
  "metadata": {
    "colab": {
      "provenance": []
    },
    "kernelspec": {
      "name": "python3",
      "display_name": "Python 3"
    },
    "language_info": {
      "name": "python"
    }
  },
  "cells": [
    {
      "cell_type": "markdown",
      "source": [
        "Q1. Explain Class and Object with respect to Object-Oriented Programming. Give a suitable example."
      ],
      "metadata": {
        "id": "taAsXEACFKQ5"
      }
    },
    {
      "cell_type": "code",
      "source": [],
      "metadata": {
        "id": "usfjfMeQFNAF"
      },
      "execution_count": null,
      "outputs": []
    },
    {
      "cell_type": "markdown",
      "source": [
        "Q2. Name the four pillars of OOPs."
      ],
      "metadata": {
        "id": "TrSFUjFnFNmV"
      }
    },
    {
      "cell_type": "code",
      "source": [],
      "metadata": {
        "id": "I1_n6lCBFPob"
      },
      "execution_count": null,
      "outputs": []
    },
    {
      "cell_type": "markdown",
      "source": [
        "Q3. Explain why the __init__() function is used. Give a suitable example."
      ],
      "metadata": {
        "id": "TJejp_VmFQTv"
      }
    },
    {
      "cell_type": "code",
      "source": [],
      "metadata": {
        "id": "yW6ChtcwFSal"
      },
      "execution_count": null,
      "outputs": []
    },
    {
      "cell_type": "markdown",
      "source": [
        "Q4. Why self is used in OOPs?"
      ],
      "metadata": {
        "id": "bU6HeaoWFVpV"
      }
    },
    {
      "cell_type": "code",
      "source": [],
      "metadata": {
        "id": "2A09LSAVFWUZ"
      },
      "execution_count": null,
      "outputs": []
    },
    {
      "cell_type": "markdown",
      "source": [
        "Q5. What is inheritance? Give an example for each type of inheritance."
      ],
      "metadata": {
        "id": "mbM8yqbsFak0"
      }
    },
    {
      "cell_type": "code",
      "source": [],
      "metadata": {
        "id": "VTKjsQyhFbOP"
      },
      "execution_count": null,
      "outputs": []
    }
  ]
}