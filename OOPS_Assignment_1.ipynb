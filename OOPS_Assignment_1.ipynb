{
  "nbformat": 4,
  "nbformat_minor": 0,
  "metadata": {
    "colab": {
      "provenance": []
    },
    "kernelspec": {
      "name": "python3",
      "display_name": "Python 3"
    },
    "language_info": {
      "name": "python"
    }
  },
  "cells": [
    {
      "cell_type": "markdown",
      "source": [
        "Q1. Explain Class and Object with respect to Object-Oriented Programming. Give a suitable example."
      ],
      "metadata": {
        "id": "taAsXEACFKQ5"
      }
    },
    {
      "cell_type": "markdown",
      "source": [
        "Ans1. Class are basically classifications made to make code more modular and more accessible to the public. Classes are non real world etities basically used to give a blueprint of the opearations going in a perticular class.\n",
        "\n",
        "Objects on the other hand are real world entites used to assign a value to a varilable/object."
      ],
      "metadata": {
        "id": "wRVk4ahUhc2h"
      }
    },
    {
      "cell_type": "code",
      "source": [
        "a=1 #here a is the object to class 'int'."
      ],
      "metadata": {
        "id": "usfjfMeQFNAF"
      },
      "execution_count": null,
      "outputs": []
    },
    {
      "cell_type": "code",
      "source": [
        "print(type(a))"
      ],
      "metadata": {
        "colab": {
          "base_uri": "https://localhost:8080/"
        },
        "id": "Lx6j_bfHii1i",
        "outputId": "f7624ee1-a869-4c8a-acb8-dde58a7bed7c"
      },
      "execution_count": null,
      "outputs": [
        {
          "output_type": "stream",
          "name": "stdout",
          "text": [
            "<class 'int'>\n"
          ]
        }
      ]
    },
    {
      "cell_type": "code",
      "source": [
        "class test:\n",
        "  pass"
      ],
      "metadata": {
        "id": "6iJihPRGim1a"
      },
      "execution_count": null,
      "outputs": []
    },
    {
      "cell_type": "code",
      "source": [
        "b= test() #here b object is assigned to class test"
      ],
      "metadata": {
        "id": "yTABu-ZgiubB"
      },
      "execution_count": null,
      "outputs": []
    },
    {
      "cell_type": "code",
      "source": [
        "print(type(b))"
      ],
      "metadata": {
        "colab": {
          "base_uri": "https://localhost:8080/"
        },
        "id": "BpKZL0u6iyuM",
        "outputId": "f9ce1692-c47f-42a1-c69e-c02d489c101c"
      },
      "execution_count": null,
      "outputs": [
        {
          "output_type": "stream",
          "name": "stdout",
          "text": [
            "<class '__main__.test'>\n"
          ]
        }
      ]
    },
    {
      "cell_type": "markdown",
      "source": [
        "Q2. Name the four pillars of OOPs."
      ],
      "metadata": {
        "id": "TrSFUjFnFNmV"
      }
    },
    {
      "cell_type": "markdown",
      "source": [
        "Ans2. Four pillars of OOPs are:\n",
        "\n",
        "Inheritance\n",
        "\n",
        "Encapsulation\n",
        "\n",
        "Polymorphism\n",
        "\n",
        "Abstraction"
      ],
      "metadata": {
        "id": "ECfgHX6Nj7ua"
      }
    },
    {
      "cell_type": "markdown",
      "source": [
        "Q3. Explain why the __init__() function is used. Give a suitable example."
      ],
      "metadata": {
        "id": "TJejp_VmFQTv"
      }
    },
    {
      "cell_type": "markdown",
      "source": [
        "Ans3. init() is a pre defined function basically called a constructor used to pass data inside a class."
      ],
      "metadata": {
        "id": "P9oTw3mVkSgQ"
      }
    },
    {
      "cell_type": "code",
      "source": [
        "class datascience:\n",
        "\n",
        "  def __init__(self,studentid,phone_number,email_id):\n",
        "    self.studentid =studentid\n",
        "    self.phone_number =phone_number\n",
        "    self.email_id =email_id\n",
        "  \n",
        "  def student(self):\n",
        "    return self.studentid,self.phone_number,self.email_id"
      ],
      "metadata": {
        "id": "yW6ChtcwFSal"
      },
      "execution_count": 23,
      "outputs": []
    },
    {
      "cell_type": "code",
      "source": [
        "karan= datascience(102,998177345,\"karan@gmail.com\")"
      ],
      "metadata": {
        "id": "O60VmRXZq4n8"
      },
      "execution_count": 32,
      "outputs": []
    },
    {
      "cell_type": "code",
      "source": [
        "karan.student()"
      ],
      "metadata": {
        "colab": {
          "base_uri": "https://localhost:8080/"
        },
        "id": "p5ywLjrZrf4B",
        "outputId": "44174a2a-4ba0-4e7c-f94d-7960acff37cf"
      },
      "execution_count": 33,
      "outputs": [
        {
          "output_type": "execute_result",
          "data": {
            "text/plain": [
              "(102, 998177345, 'karan@gmail.com')"
            ]
          },
          "metadata": {},
          "execution_count": 33
        }
      ]
    },
    {
      "cell_type": "markdown",
      "source": [
        "Q4. Why self is used in OOPs?"
      ],
      "metadata": {
        "id": "bU6HeaoWFVpV"
      }
    },
    {
      "cell_type": "markdown",
      "source": [
        "Ans4. Self is a predefined keyword used in python basically to indicate the class that the function or varibales inside a perticular class belongs to it."
      ],
      "metadata": {
        "id": "n39YjSCqkYXS"
      }
    },
    {
      "cell_type": "markdown",
      "source": [
        "Q5. What is inheritance? Give an example for each type of inheritance."
      ],
      "metadata": {
        "id": "mbM8yqbsFak0"
      }
    },
    {
      "cell_type": "markdown",
      "source": [
        "Ans5. Inheritance can be defined as child class inheriting the functional properties of a single or many parent classes."
      ],
      "metadata": {
        "id": "zl10WMzAdDrf"
      }
    },
    {
      "cell_type": "code",
      "source": [
        "#example of multilevel inheritance\n",
        "class class1:\n",
        "\n",
        "  def func1(self):\n",
        "    return \"This is my class 1\""
      ],
      "metadata": {
        "id": "CtlBe5UBJYq9"
      },
      "execution_count": 1,
      "outputs": []
    },
    {
      "cell_type": "code",
      "source": [
        "class class2(class1):\n",
        "\n",
        "  def func2(self):\n",
        "    return \"This is my class 2\""
      ],
      "metadata": {
        "id": "4APBn63yJnQj"
      },
      "execution_count": 5,
      "outputs": []
    },
    {
      "cell_type": "code",
      "source": [
        "class class3(class2):\n",
        "  pass"
      ],
      "metadata": {
        "id": "XT5dGoFNJyTi"
      },
      "execution_count": 6,
      "outputs": []
    },
    {
      "cell_type": "code",
      "source": [
        "x= class3()"
      ],
      "metadata": {
        "id": "uRgHO4IkJ21k"
      },
      "execution_count": 7,
      "outputs": []
    },
    {
      "cell_type": "code",
      "source": [
        "x.func1()"
      ],
      "metadata": {
        "colab": {
          "base_uri": "https://localhost:8080/",
          "height": 36
        },
        "id": "ZvhwEHMmJ8qo",
        "outputId": "0e7fac06-f230-4019-8f27-1ef74b68ee44"
      },
      "execution_count": 9,
      "outputs": [
        {
          "output_type": "execute_result",
          "data": {
            "text/plain": [
              "'This is my class 1'"
            ],
            "application/vnd.google.colaboratory.intrinsic+json": {
              "type": "string"
            }
          },
          "metadata": {},
          "execution_count": 9
        }
      ]
    },
    {
      "cell_type": "code",
      "source": [
        "x.func2()"
      ],
      "metadata": {
        "colab": {
          "base_uri": "https://localhost:8080/",
          "height": 36
        },
        "id": "bLMn20qgKEZv",
        "outputId": "cdc24cb0-1fd1-40a8-f58b-72043ba3de50"
      },
      "execution_count": 10,
      "outputs": [
        {
          "output_type": "execute_result",
          "data": {
            "text/plain": [
              "'This is my class 2'"
            ],
            "application/vnd.google.colaboratory.intrinsic+json": {
              "type": "string"
            }
          },
          "metadata": {},
          "execution_count": 10
        }
      ]
    },
    {
      "cell_type": "code",
      "source": [
        "#example of multiple inheritance\n",
        "class test1:\n",
        "\n",
        "  def line1(self):\n",
        "    return \"This is my test1\""
      ],
      "metadata": {
        "id": "oQeQzsNHKKUF"
      },
      "execution_count": 11,
      "outputs": []
    },
    {
      "cell_type": "code",
      "source": [
        "class test2:\n",
        "\n",
        "  def line2(self):\n",
        "    return \"This is my test2\""
      ],
      "metadata": {
        "id": "RbrPeBtHKYmJ"
      },
      "execution_count": 12,
      "outputs": []
    },
    {
      "cell_type": "code",
      "source": [
        "class test3(test1,test2):\n",
        "  pass"
      ],
      "metadata": {
        "id": "9wb1lbQ3Klie"
      },
      "execution_count": 13,
      "outputs": []
    },
    {
      "cell_type": "code",
      "source": [
        "y=test3()"
      ],
      "metadata": {
        "id": "U8cvV7kGKtsJ"
      },
      "execution_count": 14,
      "outputs": []
    },
    {
      "cell_type": "code",
      "source": [
        "y.line1()"
      ],
      "metadata": {
        "colab": {
          "base_uri": "https://localhost:8080/",
          "height": 36
        },
        "id": "6A7zm6L7Kzer",
        "outputId": "2187a5a8-ebd4-4bf3-96f7-4cc86dcfb557"
      },
      "execution_count": 16,
      "outputs": [
        {
          "output_type": "execute_result",
          "data": {
            "text/plain": [
              "'This is my test1'"
            ],
            "application/vnd.google.colaboratory.intrinsic+json": {
              "type": "string"
            }
          },
          "metadata": {},
          "execution_count": 16
        }
      ]
    },
    {
      "cell_type": "code",
      "source": [
        "y.line2()"
      ],
      "metadata": {
        "colab": {
          "base_uri": "https://localhost:8080/",
          "height": 36
        },
        "id": "V5G2SuSrK2U4",
        "outputId": "b0bf39d6-2fab-4b53-aa04-efdcf8dc91c1"
      },
      "execution_count": 17,
      "outputs": [
        {
          "output_type": "execute_result",
          "data": {
            "text/plain": [
              "'This is my test2'"
            ],
            "application/vnd.google.colaboratory.intrinsic+json": {
              "type": "string"
            }
          },
          "metadata": {},
          "execution_count": 17
        }
      ]
    }
  ]
}