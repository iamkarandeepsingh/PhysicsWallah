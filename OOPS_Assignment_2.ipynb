{
  "nbformat": 4,
  "nbformat_minor": 0,
  "metadata": {
    "colab": {
      "provenance": []
    },
    "kernelspec": {
      "name": "python3",
      "display_name": "Python 3"
    },
    "language_info": {
      "name": "python"
    }
  },
  "cells": [
    {
      "cell_type": "markdown",
      "source": [
        "Q1. What is Abstraction in OOps? Explain with an example."
      ],
      "metadata": {
        "id": "LIZnDCFDGkLD"
      }
    },
    {
      "cell_type": "code",
      "source": [],
      "metadata": {
        "id": "qWI7DM10Gkx6"
      },
      "execution_count": null,
      "outputs": []
    },
    {
      "cell_type": "markdown",
      "source": [
        "Q2. Differentiate between Abstraction and Encapsulation. Explain with an example."
      ],
      "metadata": {
        "id": "Nq1q2eO4GmmW"
      }
    },
    {
      "cell_type": "code",
      "source": [],
      "metadata": {
        "id": "dJU7mI6aG6mK"
      },
      "execution_count": null,
      "outputs": []
    },
    {
      "cell_type": "markdown",
      "source": [
        "Q3. What is abc module in python? Why is it used?"
      ],
      "metadata": {
        "id": "0w_lDVY1HDge"
      }
    },
    {
      "cell_type": "code",
      "source": [],
      "metadata": {
        "id": "NLpT1e4vHFqm"
      },
      "execution_count": null,
      "outputs": []
    },
    {
      "cell_type": "markdown",
      "source": [
        "Q4. How can we achieve data abstraction?"
      ],
      "metadata": {
        "id": "YgRluCL8HGk_"
      }
    },
    {
      "cell_type": "code",
      "source": [],
      "metadata": {
        "id": "gSabpK-hHIkV"
      },
      "execution_count": null,
      "outputs": []
    },
    {
      "cell_type": "markdown",
      "source": [
        "Q5. Can we create an instance of an abstract class? Explain your answer."
      ],
      "metadata": {
        "id": "NrItCKB_HJMa"
      }
    },
    {
      "cell_type": "code",
      "source": [],
      "metadata": {
        "id": "Y-MRXCO8HLX0"
      },
      "execution_count": null,
      "outputs": []
    }
  ]
}