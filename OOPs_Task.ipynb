{
  "nbformat": 4,
  "nbformat_minor": 0,
  "metadata": {
    "colab": {
      "provenance": [],
      "authorship_tag": "ABX9TyMrfK5wyeczl1hi+IhDe5U7",
      "include_colab_link": true
    },
    "kernelspec": {
      "name": "python3",
      "display_name": "Python 3"
    },
    "language_info": {
      "name": "python"
    }
  },
  "cells": [
    {
      "cell_type": "markdown",
      "metadata": {
        "id": "view-in-github",
        "colab_type": "text"
      },
      "source": [
        "<a href=\"https://colab.research.google.com/github/iamkarandeepsingh/PhysicsWallah/blob/main/OOPs_Task.ipynb\" target=\"_parent\"><img src=\"https://colab.research.google.com/assets/colab-badge.svg\" alt=\"Open In Colab\"/></a>"
      ]
    },
    {
      "cell_type": "markdown",
      "source": [
        "Q1, Create a vehicle class with an init method having instance variables as name_of_vehicle, max_speed\n",
        "and average_of_vehicle."
      ],
      "metadata": {
        "id": "1f89OfDSingo"
      }
    },
    {
      "cell_type": "code",
      "execution_count": 1,
      "metadata": {
        "id": "CbX3-TVyilj-"
      },
      "outputs": [],
      "source": [
        "class Vehicle:\n",
        "    def __init__(self, name_of_vehicle, max_speed, average_of_vehicle):\n",
        "        self.name_of_vehicle = name_of_vehicle\n",
        "        self.max_speed = max_speed\n",
        "        self.average_of_vehicle = average_of_vehicle"
      ]
    },
    {
      "cell_type": "code",
      "source": [
        "car = Vehicle(\"Car\", 200, 50)\n",
        "print(car.name_of_vehicle)           # Output: Car\n",
        "print(car.max_speed)                 # Output: 200\n",
        "print(car.average_of_vehicle)        # Output: 50"
      ],
      "metadata": {
        "colab": {
          "base_uri": "https://localhost:8080/"
        },
        "id": "fsbf9NjPjVNJ",
        "outputId": "06e0a1ef-3881-4063-ce06-dad100096875"
      },
      "execution_count": 2,
      "outputs": [
        {
          "output_type": "stream",
          "name": "stdout",
          "text": [
            "Car\n",
            "200\n",
            "50\n"
          ]
        }
      ]
    },
    {
      "cell_type": "markdown",
      "source": [
        "Q2. Create a child class car from the vehicle class created in Que 1, which will inherit the vehicle class.\n",
        "Create a method named seating_capacity which takes capacity as an argument and returns the name of\n",
        "the vehicle and its seating capacity."
      ],
      "metadata": {
        "id": "U1HrsjF9i_jH"
      }
    },
    {
      "cell_type": "code",
      "source": [
        "class Car(Vehicle):\n",
        "    def seating_capacity(self, capacity):\n",
        "        return f\"{self.name_of_vehicle} has a seating capacity of {capacity}.\"\n"
      ],
      "metadata": {
        "id": "nZhGmbVijD9t"
      },
      "execution_count": 5,
      "outputs": []
    },
    {
      "cell_type": "code",
      "source": [
        "# Creating an instance of the Car class\n",
        "car = Car(\"Car\", 200, 50)\n",
        "\n",
        "# Calling the seating_capacity method\n",
        "capacity = 5\n",
        "result = car.seating_capacity(capacity)\n",
        "print(result)  # Output: Car has a seating capacity of 5."
      ],
      "metadata": {
        "colab": {
          "base_uri": "https://localhost:8080/"
        },
        "id": "q_UGMu5UjfPa",
        "outputId": "eddb0610-7413-4aba-f46e-32af8842ba93"
      },
      "execution_count": 6,
      "outputs": [
        {
          "output_type": "stream",
          "name": "stdout",
          "text": [
            "Car has a seating capacity of 5.\n"
          ]
        }
      ]
    },
    {
      "cell_type": "markdown",
      "source": [
        "Q3. What is multiple inheritance? Write a python code to demonstrate multiple inheritance."
      ],
      "metadata": {
        "id": "pNvmw79Tj9GJ"
      }
    },
    {
      "cell_type": "markdown",
      "source": [
        "Ans3. Multiple inheritance is a feature in object-oriented programming where a class can inherit attributes and methods from multiple parent classes. It allows a child class to inherit characteristics from more than one parent class.\n"
      ],
      "metadata": {
        "id": "-bPbi_3BkEx2"
      }
    },
    {
      "cell_type": "code",
      "source": [
        "class Animal:\n",
        "    def eat(self):\n",
        "        print(\"Animal is eating.\")\n",
        "\n",
        "\n",
        "class Mammal:\n",
        "    def walk(self):\n",
        "        print(\"Mammal is walking.\")\n",
        "\n",
        "\n",
        "class Dog(Animal, Mammal):\n",
        "    def bark(self):\n",
        "        print(\"Dog is barking.\")\n"
      ],
      "metadata": {
        "id": "YtQjLx3mkDKn"
      },
      "execution_count": 8,
      "outputs": []
    },
    {
      "cell_type": "code",
      "source": [
        "# Creating an instance of the Dog class\n",
        "dog = Dog()\n",
        "\n",
        "# Calling methods from Animal and Mammal classes\n",
        "dog.eat()    # Output: Animal is eating.\n",
        "dog.walk()   # Output: Mammal is walking.\n",
        "\n",
        "# Calling method from the Dog class\n",
        "dog.bark()   # Output: Dog is barking."
      ],
      "metadata": {
        "colab": {
          "base_uri": "https://localhost:8080/"
        },
        "id": "7S9s5ls7kO7w",
        "outputId": "e8b529c9-8fa1-4b4f-8361-113bd2a76bc7"
      },
      "execution_count": 9,
      "outputs": [
        {
          "output_type": "stream",
          "name": "stdout",
          "text": [
            "Animal is eating.\n",
            "Mammal is walking.\n",
            "Dog is barking.\n"
          ]
        }
      ]
    },
    {
      "cell_type": "markdown",
      "source": [
        "Q4. What are getter and setter in python? Create a class and create a getter and a setter method in this\n",
        "class."
      ],
      "metadata": {
        "id": "p_3AtRy4kchn"
      }
    },
    {
      "cell_type": "markdown",
      "source": [
        "Ans4. In Python, getters and setters are methods that provide access to the attributes (instance variables) of a class. They allow controlled access to the attributes by providing a way to get the value of an attribute (getter) or set the value of an attribute (setter)."
      ],
      "metadata": {
        "id": "SkmqHodfkh0d"
      }
    },
    {
      "cell_type": "code",
      "source": [
        "class Person:\n",
        "    def __init__(self, name):\n",
        "        self._name = name\n",
        "\n",
        "    def get_name(self):\n",
        "        return self._name\n",
        "\n",
        "    def set_name(self, new_name):\n",
        "        self._name = new_name"
      ],
      "metadata": {
        "id": "Ccmi3edPkn4y"
      },
      "execution_count": 10,
      "outputs": []
    },
    {
      "cell_type": "code",
      "source": [
        "person = Person(\"John\")\n",
        "name = person.get_name()\n",
        "print(name)"
      ],
      "metadata": {
        "colab": {
          "base_uri": "https://localhost:8080/"
        },
        "id": "A0SeZXMVkqbH",
        "outputId": "f24f9039-4ce5-46ef-dfb3-4206a297035e"
      },
      "execution_count": 11,
      "outputs": [
        {
          "output_type": "stream",
          "name": "stdout",
          "text": [
            "John\n"
          ]
        }
      ]
    },
    {
      "cell_type": "code",
      "source": [
        "person = Person(\"John\")\n",
        "person.set_name(\"Alice\")\n",
        "name = person.get_name()\n",
        "print(name)"
      ],
      "metadata": {
        "colab": {
          "base_uri": "https://localhost:8080/"
        },
        "id": "uEtAf7hvktfB",
        "outputId": "60a6b713-1412-4270-d254-7121c6015b8b"
      },
      "execution_count": 12,
      "outputs": [
        {
          "output_type": "stream",
          "name": "stdout",
          "text": [
            "Alice\n"
          ]
        }
      ]
    },
    {
      "cell_type": "markdown",
      "source": [
        "Q5.What is method overriding in python? Write a python code to demonstrate method overriding."
      ],
      "metadata": {
        "id": "3KsgOA7Uk2e8"
      }
    },
    {
      "cell_type": "markdown",
      "source": [
        "Ans5.Method overriding in Python is a feature that allows a subclass to provide its own implementation of a method that is already defined in its superclass. When a method is overridden, the version of the method defined in the subclass is called instead of the version defined in the superclass."
      ],
      "metadata": {
        "id": "9qfN0JTtk65W"
      }
    },
    {
      "cell_type": "code",
      "source": [
        "class Shape:\n",
        "    def area(self):\n",
        "        print(\"Calculating area in the Shape class.\")\n",
        "\n",
        "\n",
        "class Rectangle(Shape):\n",
        "    def area(self):\n",
        "        print(\"Calculating area in the Rectangle class.\")\n"
      ],
      "metadata": {
        "id": "bqDEfqx2k9bV"
      },
      "execution_count": 13,
      "outputs": []
    },
    {
      "cell_type": "code",
      "source": [
        "shape = Shape()\n",
        "rectangle = Rectangle()"
      ],
      "metadata": {
        "id": "zKLihQQ4lAme"
      },
      "execution_count": 14,
      "outputs": []
    },
    {
      "cell_type": "code",
      "source": [
        "shape.area()\n",
        "rectangle.area()"
      ],
      "metadata": {
        "colab": {
          "base_uri": "https://localhost:8080/"
        },
        "id": "N54AA9t-lCe-",
        "outputId": "53ec657f-3049-46a9-b74f-1de967970664"
      },
      "execution_count": 15,
      "outputs": [
        {
          "output_type": "stream",
          "name": "stdout",
          "text": [
            "Calculating area in the Shape class.\n",
            "Calculating area in the Rectangle class.\n"
          ]
        }
      ]
    },
    {
      "cell_type": "code",
      "source": [],
      "metadata": {
        "id": "W368xlBDlHo2"
      },
      "execution_count": null,
      "outputs": []
    }
  ]
}