{
  "nbformat": 4,
  "nbformat_minor": 0,
  "metadata": {
    "colab": {
      "provenance": [],
      "authorship_tag": "ABX9TyP3W7ZMSKsmd2gnrv1l76nW",
      "include_colab_link": true
    },
    "kernelspec": {
      "name": "python3",
      "display_name": "Python 3"
    },
    "language_info": {
      "name": "python"
    }
  },
  "cells": [
    {
      "cell_type": "markdown",
      "metadata": {
        "id": "view-in-github",
        "colab_type": "text"
      },
      "source": [
        "<a href=\"https://colab.research.google.com/github/iamkarandeepsingh/PhysicsWallah/blob/main/Multiprocessing.ipynb\" target=\"_parent\"><img src=\"https://colab.research.google.com/assets/colab-badge.svg\" alt=\"Open In Colab\"/></a>"
      ]
    },
    {
      "cell_type": "markdown",
      "source": [
        "Q1. What is multiprocessing in python? Why is it useful?"
      ],
      "metadata": {
        "id": "LRa8trNkuvlK"
      }
    },
    {
      "cell_type": "markdown",
      "source": [
        "Ans1. Multiprocessing is a technique in which multiple processors are indulged in processing programs unlike multithreading in which a single processor is indulged into processing multiple programs.\n",
        "\n",
        "Muliprocessing is useful as it saves time to due to multiple processors indulged in performing various tasks."
      ],
      "metadata": {
        "id": "9GJJQvcDfsXV"
      }
    },
    {
      "cell_type": "markdown",
      "source": [
        "Q2. What are the differences between multiprocessing and multithreading?"
      ],
      "metadata": {
        "id": "693WKzpSuvuy"
      }
    },
    {
      "cell_type": "markdown",
      "source": [
        "Ans2. Multiprocessing is a technique in which multiple processors are indulged in processing programs unlike multithreading in which a single processor is indulged into processing multiple programs."
      ],
      "metadata": {
        "id": "LYIV01X_1jEy"
      }
    },
    {
      "cell_type": "markdown",
      "source": [
        "Q3. Write a python code to create a process using the multiprocessing module."
      ],
      "metadata": {
        "id": "4hFVZAPzu01m"
      }
    },
    {
      "cell_type": "code",
      "source": [
        "import multiprocessing\n",
        "def test():\n",
        "    print(\"this is my multiprocessing prog\")\n",
        "\n",
        "if __name__ == '__main__':\n",
        "    m = multiprocessing.Process(target=test)\n",
        "    print(\"this is my main prog\")\n",
        "    m.start()\n",
        "    m.join()\n",
        ""
      ],
      "metadata": {
        "colab": {
          "base_uri": "https://localhost:8080/"
        },
        "id": "SZwQR1eNMOQy",
        "outputId": "d460848f-dd14-4b27-f7fc-e1c531889d70"
      },
      "execution_count": 3,
      "outputs": [
        {
          "output_type": "stream",
          "name": "stdout",
          "text": [
            "this is my main prog\n",
            "this is my multiprocessing prog\n"
          ]
        }
      ]
    },
    {
      "cell_type": "markdown",
      "source": [
        "Q4. What is a multiprocessing pool in python? Why is it used?"
      ],
      "metadata": {
        "id": "efUZHYw3uv5F"
      }
    },
    {
      "cell_type": "markdown",
      "source": [
        "Ans4.\n",
        "In Python, the multiprocessing.Pool class is part of the multiprocessing module, which provides support for executing code in parallel using multiple processes. The Pool class represents a pool of worker processes that can be used to distribute tasks across multiple processors.\n",
        "\n",
        "Using multiprocessing.Pool can be beneficial when you have computationally intensive tasks that can be parallelized or when you need to process large amounts of data concurrently. It allows you to take advantage of multiple CPU cores or machines, thereby accelerating the execution of your code and improving performance."
      ],
      "metadata": {
        "id": "DMPW0Hs8MiwJ"
      }
    },
    {
      "cell_type": "markdown",
      "source": [
        "Q5. How can we create a pool of worker processes in python using the multiprocessing module?"
      ],
      "metadata": {
        "id": "CBut2rw9u_La"
      }
    },
    {
      "cell_type": "code",
      "source": [
        "# import multiprocessing\n",
        "# def process_task(input_value):\n",
        "# pool = multiprocessing.Pool()\n",
        "# input_values = [1, 2, 3, 4, 5]\n",
        "# results = pool.map(process_task, input_values)\n",
        "# pool.close()\n",
        "# pool.join()\n",
        "\n"
      ],
      "metadata": {
        "id": "7Nwd68EENC1i"
      },
      "execution_count": 5,
      "outputs": []
    },
    {
      "cell_type": "markdown",
      "source": [
        "Q6. Write a python program to create 4 processes, each process should print a different number using the\n",
        "multiprocessing module in python."
      ],
      "metadata": {
        "id": "KlCr8J7ruv9s"
      }
    },
    {
      "cell_type": "code",
      "source": [
        "import multiprocessing\n",
        "\n",
        "def print_number(number):\n",
        "    print(\"Number:\", number)\n",
        "\n",
        "if __name__ == \"__main__\":\n",
        "    processes = []\n",
        "\n",
        "    for i in range(4):\n",
        "        process = multiprocessing.Process(target=print_number, args=(i,))\n",
        "        processes.append(process)\n",
        "\n",
        "    for process in processes:\n",
        "        process.start()\n",
        "\n",
        "    for process in processes:\n",
        "        process.join()\n"
      ],
      "metadata": {
        "colab": {
          "base_uri": "https://localhost:8080/"
        },
        "id": "L1etvNaFNaoZ",
        "outputId": "c875bcda-20b6-4aaf-cb06-cd880502e76f"
      },
      "execution_count": 6,
      "outputs": [
        {
          "output_type": "stream",
          "name": "stdout",
          "text": [
            "Number: 0\n",
            "Number: Number:1\n",
            " 2\n",
            "Number: 3\n"
          ]
        }
      ]
    },
    {
      "cell_type": "code",
      "source": [],
      "metadata": {
        "id": "iHmlHi6RNbWB"
      },
      "execution_count": null,
      "outputs": []
    }
  ]
}