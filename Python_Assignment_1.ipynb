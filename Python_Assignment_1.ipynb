{
  "cells": [
    {
      "cell_type": "markdown",
      "id": "e5d01d27",
      "metadata": {
        "id": "e5d01d27"
      },
      "source": [
        "Q1. Which keyword is used to create a function? Create a function to return a list of odd numbers in the range of 1 to 25."
      ]
    },
    {
      "cell_type": "code",
      "execution_count": 1,
      "id": "45380437",
      "metadata": {
        "id": "45380437"
      },
      "outputs": [],
      "source": [
        "#Ans1\n",
        "# def function is used to create a function.\n",
        "def odd(n):\n",
        "    l1=[]\n",
        "    for i in range(1,n+1):\n",
        "        if i==1:\n",
        "            l1.append(i)\n",
        "        elif i%2!=0:\n",
        "            l1.append(i)\n",
        "    return l1\n",
        "    \n"
      ]
    },
    {
      "cell_type": "code",
      "execution_count": 2,
      "id": "edf6f9fe",
      "metadata": {
        "colab": {
          "base_uri": "https://localhost:8080/"
        },
        "id": "edf6f9fe",
        "outputId": "88a5f6c1-23b6-49f1-d59f-f943010e8a0b"
      },
      "outputs": [
        {
          "output_type": "execute_result",
          "data": {
            "text/plain": [
              "[1, 3, 5, 7, 9, 11, 13, 15, 17, 19, 21, 23, 25]"
            ]
          },
          "metadata": {},
          "execution_count": 2
        }
      ],
      "source": [
        "odd(25)"
      ]
    },
    {
      "cell_type": "markdown",
      "id": "1ad2ee44",
      "metadata": {
        "id": "1ad2ee44"
      },
      "source": [
        "Q2. Why *args and **kwargs is used in some functions? Create a function each for *args and **kwargs to demonstrate their use."
      ]
    },
    {
      "cell_type": "markdown",
      "id": "e44ff715",
      "metadata": {
        "id": "e44ff715"
      },
      "source": [
        "Ans2. *args and **kwargs are used in some functions to input indefinate number of arguments in a given function as **args will hold the values as tuples and **kwargs will hold it in the form of dictionary."
      ]
    },
    {
      "cell_type": "code",
      "execution_count": 3,
      "id": "a894cf5b",
      "metadata": {
        "id": "a894cf5b"
      },
      "outputs": [],
      "source": [
        "def sample(*agrs):\n",
        "    return(agrs)"
      ]
    },
    {
      "cell_type": "code",
      "execution_count": 4,
      "id": "3ae8367b",
      "metadata": {
        "colab": {
          "base_uri": "https://localhost:8080/"
        },
        "id": "3ae8367b",
        "outputId": "ef17ef68-3d06-4569-dc0f-b086cf1fd45f"
      },
      "outputs": [
        {
          "output_type": "execute_result",
          "data": {
            "text/plain": [
              "(1, 2, 3, 4, 89.6, 'karan', [1, 2, 3, 4])"
            ]
          },
          "metadata": {},
          "execution_count": 4
        }
      ],
      "source": [
        "sample(1,2,3,4,89.6,\"karan\",[1,2,3,4])"
      ]
    },
    {
      "cell_type": "code",
      "execution_count": 5,
      "id": "70b427f3",
      "metadata": {
        "id": "70b427f3"
      },
      "outputs": [],
      "source": [
        "def sample1(**kwargs):\n",
        "    return(kwargs)"
      ]
    },
    {
      "cell_type": "markdown",
      "id": "767a1ce1",
      "metadata": {
        "id": "767a1ce1"
      },
      "source": [
        "sample1(a=1,b=2,c=3,d=4,e=89.6,f=\"karan\",g=[1,2,3,4])"
      ]
    },
    {
      "cell_type": "code",
      "execution_count": 6,
      "id": "7a49512e",
      "metadata": {
        "colab": {
          "base_uri": "https://localhost:8080/"
        },
        "id": "7a49512e",
        "outputId": "f2efc968-ea57-40bc-dd2b-cb7215a4a537"
      },
      "outputs": [
        {
          "output_type": "execute_result",
          "data": {
            "text/plain": [
              "tuple"
            ]
          },
          "metadata": {},
          "execution_count": 6
        }
      ],
      "source": [
        "type(sample())"
      ]
    },
    {
      "cell_type": "code",
      "execution_count": 7,
      "id": "cd55c2ad",
      "metadata": {
        "colab": {
          "base_uri": "https://localhost:8080/"
        },
        "id": "cd55c2ad",
        "outputId": "40cd8e78-1b53-4994-afcc-53fbf49e443c"
      },
      "outputs": [
        {
          "output_type": "execute_result",
          "data": {
            "text/plain": [
              "dict"
            ]
          },
          "metadata": {},
          "execution_count": 7
        }
      ],
      "source": [
        "type(sample1())"
      ]
    },
    {
      "cell_type": "markdown",
      "id": "17cf2953",
      "metadata": {
        "id": "17cf2953"
      },
      "source": [
        "Q3. What is an iterator in python? Name the method used to initialise the iterator object and the method used for iteration. Use these methods to print the first five elements of the given list [2, 4, 6, 8, 10, 12, 14,16, 18, 20]."
      ]
    },
    {
      "cell_type": "markdown",
      "id": "98516d1a",
      "metadata": {
        "id": "98516d1a"
      },
      "source": [
        "Ans3. An iterator is an object whose value can be iterated.For exapmle int is not an iterator because value of int can not be iterated but on the other hand  values contained in strings, lists, tuples are #iterable. iter function is used to iterate a given object."
      ]
    },
    {
      "cell_type": "code",
      "execution_count": 8,
      "id": "f6b4659c",
      "metadata": {
        "id": "f6b4659c"
      },
      "outputs": [],
      "source": [
        "l=[2,4,6,8,10,12,14,16,18,20]"
      ]
    },
    {
      "cell_type": "code",
      "execution_count": 9,
      "id": "957b91b2",
      "metadata": {
        "colab": {
          "base_uri": "https://localhost:8080/"
        },
        "id": "957b91b2",
        "outputId": "63f02a0c-71f7-4659-8dd0-f21982a0a8df"
      },
      "outputs": [
        {
          "output_type": "execute_result",
          "data": {
            "text/plain": [
              "[2, 4, 6, 8, 10, 12, 14, 16, 18, 20]"
            ]
          },
          "metadata": {},
          "execution_count": 9
        }
      ],
      "source": [
        "l"
      ]
    },
    {
      "cell_type": "code",
      "execution_count": 10,
      "id": "ad2a11b0",
      "metadata": {
        "colab": {
          "base_uri": "https://localhost:8080/",
          "height": 169
        },
        "id": "ad2a11b0",
        "outputId": "cd45ce26-6adb-4fcf-ba05-a09cce766fa4"
      },
      "outputs": [
        {
          "output_type": "error",
          "ename": "TypeError",
          "evalue": "ignored",
          "traceback": [
            "\u001b[0;31m---------------------------------------------------------------------------\u001b[0m",
            "\u001b[0;31mTypeError\u001b[0m                                 Traceback (most recent call last)",
            "\u001b[0;32m<ipython-input-10-c43aa76b661c>\u001b[0m in \u001b[0;36m<cell line: 1>\u001b[0;34m()\u001b[0m\n\u001b[0;32m----> 1\u001b[0;31m \u001b[0mnext\u001b[0m\u001b[0;34m(\u001b[0m\u001b[0ml\u001b[0m\u001b[0;34m)\u001b[0m \u001b[0;31m#since list is not a iterator but it is iterable\u001b[0m\u001b[0;34m\u001b[0m\u001b[0;34m\u001b[0m\u001b[0m\n\u001b[0m",
            "\u001b[0;31mTypeError\u001b[0m: 'list' object is not an iterator"
          ]
        }
      ],
      "source": [
        "next(l) #since list is not a iterator but it is iterable"
      ]
    },
    {
      "cell_type": "code",
      "execution_count": 11,
      "id": "4dbeb866",
      "metadata": {
        "id": "4dbeb866"
      },
      "outputs": [],
      "source": [
        "l1= iter(l) #using iter function we converted iterable list to iterator"
      ]
    },
    {
      "cell_type": "code",
      "execution_count": 12,
      "id": "7fa032cd",
      "metadata": {
        "colab": {
          "base_uri": "https://localhost:8080/"
        },
        "id": "7fa032cd",
        "outputId": "a1e81875-44fa-40c9-dd5c-20618702ce5d"
      },
      "outputs": [
        {
          "output_type": "execute_result",
          "data": {
            "text/plain": [
              "2"
            ]
          },
          "metadata": {},
          "execution_count": 12
        }
      ],
      "source": [
        "next(l1)"
      ]
    },
    {
      "cell_type": "code",
      "execution_count": 13,
      "id": "0544ca5c",
      "metadata": {
        "colab": {
          "base_uri": "https://localhost:8080/"
        },
        "id": "0544ca5c",
        "outputId": "5a31c3c9-6831-4a71-d99f-d370b3199b1a"
      },
      "outputs": [
        {
          "output_type": "execute_result",
          "data": {
            "text/plain": [
              "4"
            ]
          },
          "metadata": {},
          "execution_count": 13
        }
      ],
      "source": [
        "next(l1)"
      ]
    },
    {
      "cell_type": "code",
      "execution_count": 14,
      "id": "9bf8f843",
      "metadata": {
        "colab": {
          "base_uri": "https://localhost:8080/"
        },
        "id": "9bf8f843",
        "outputId": "93d0e775-341f-4010-d6a2-900939a1546a"
      },
      "outputs": [
        {
          "output_type": "execute_result",
          "data": {
            "text/plain": [
              "6"
            ]
          },
          "metadata": {},
          "execution_count": 14
        }
      ],
      "source": [
        "next(l1)"
      ]
    },
    {
      "cell_type": "code",
      "execution_count": 15,
      "id": "d2419019",
      "metadata": {
        "colab": {
          "base_uri": "https://localhost:8080/"
        },
        "id": "d2419019",
        "outputId": "62d2d180-9e66-4dac-fa98-266b3bc551d6"
      },
      "outputs": [
        {
          "output_type": "execute_result",
          "data": {
            "text/plain": [
              "8"
            ]
          },
          "metadata": {},
          "execution_count": 15
        }
      ],
      "source": [
        "next(l1)"
      ]
    },
    {
      "cell_type": "code",
      "execution_count": 16,
      "id": "b12140d1",
      "metadata": {
        "colab": {
          "base_uri": "https://localhost:8080/"
        },
        "id": "b12140d1",
        "outputId": "f3156db1-5def-4fd8-d8a7-169ce03af2fa"
      },
      "outputs": [
        {
          "output_type": "execute_result",
          "data": {
            "text/plain": [
              "10"
            ]
          },
          "metadata": {},
          "execution_count": 16
        }
      ],
      "source": [
        "next(l1)"
      ]
    },
    {
      "cell_type": "markdown",
      "id": "4c52b375",
      "metadata": {
        "id": "4c52b375"
      },
      "source": [
        "Q4. What is a generator function in python? Why yield keyword is used? Give an example of a generator\n",
        "function."
      ]
    },
    {
      "cell_type": "markdown",
      "id": "2833bb79",
      "metadata": {
        "id": "2833bb79"
      },
      "source": [
        "Ans4.A generator function is that type of function that does not hold a value and returns it at the end of the code but it will produce the outcomes on the spot. These types of techniques are usefull when we have a large amount of data and by holding the values and returning it as a whole will consume a lot of memory on the whole so in these types of situations generator functions comes into place.Yield keyword is used to throw the value as an outcome as it does not hold it as in the case or return. "
      ]
    },
    {
      "cell_type": "code",
      "execution_count": 17,
      "id": "bc3be819",
      "metadata": {
        "id": "bc3be819"
      },
      "outputs": [],
      "source": [
        "def fib(n):\n",
        "    a=0\n",
        "    b=1\n",
        "    for i in range(n):\n",
        "        yield a\n",
        "        a,b=b,a+b\n",
        "        "
      ]
    },
    {
      "cell_type": "code",
      "execution_count": 18,
      "id": "562958f6",
      "metadata": {
        "colab": {
          "base_uri": "https://localhost:8080/"
        },
        "id": "562958f6",
        "outputId": "b1433320-ac25-4c80-9436-8d75e3271ff1"
      },
      "outputs": [
        {
          "output_type": "execute_result",
          "data": {
            "text/plain": [
              "<generator object fib at 0x7fe22afd1d90>"
            ]
          },
          "metadata": {},
          "execution_count": 18
        }
      ],
      "source": [
        "fib(9)"
      ]
    },
    {
      "cell_type": "code",
      "execution_count": 19,
      "id": "ca60493f",
      "metadata": {
        "colab": {
          "base_uri": "https://localhost:8080/"
        },
        "id": "ca60493f",
        "outputId": "72d7c944-97ce-4081-adea-caa5231ae1f9"
      },
      "outputs": [
        {
          "output_type": "stream",
          "name": "stdout",
          "text": [
            "0\n",
            "1\n",
            "1\n",
            "2\n",
            "3\n",
            "5\n",
            "8\n",
            "13\n",
            "21\n"
          ]
        }
      ],
      "source": [
        "for j in fib(9):\n",
        "    print (j)"
      ]
    },
    {
      "cell_type": "markdown",
      "id": "78999f21",
      "metadata": {
        "id": "78999f21"
      },
      "source": [
        "Q5. Create a generator function for prime numbers less than 1000. Use the next() method to print the\n",
        "first 20 prime numbers."
      ]
    },
    {
      "cell_type": "code",
      "source": [
        "def prime_numbers():\n",
        "    num = 2\n",
        "    for i in range(2, num):\n",
        "            if num % i == 0:\n",
        "                break\n",
        "    else:\n",
        "        yield num\n",
        "        num += 1\n"
      ],
      "metadata": {
        "id": "8JKypI5Ufjs7"
      },
      "id": "8JKypI5Ufjs7",
      "execution_count": 10,
      "outputs": []
    },
    {
      "cell_type": "code",
      "execution_count": 17,
      "id": "264080b8",
      "metadata": {
        "id": "264080b8"
      },
      "outputs": [],
      "source": [
        "prime = prime_numbers()"
      ]
    },
    {
      "cell_type": "code",
      "execution_count": 18,
      "id": "e2d8199b",
      "metadata": {
        "colab": {
          "base_uri": "https://localhost:8080/"
        },
        "id": "e2d8199b",
        "outputId": "9bdbffdf-1726-48c0-a826-e0136f056f9b"
      },
      "outputs": [
        {
          "output_type": "stream",
          "name": "stdout",
          "text": [
            "2\n",
            "3\n",
            "5\n",
            "7\n",
            "11\n",
            "13\n",
            "17\n",
            "19\n",
            "23\n",
            "29\n",
            "31\n",
            "37\n",
            "41\n",
            "43\n",
            "47\n",
            "53\n",
            "59\n",
            "61\n",
            "67\n",
            "71\n"
          ]
        }
      ],
      "source": [
        "for i in range(20):\n",
        "  print(next(prime))"
      ]
    },
    {
      "cell_type": "markdown",
      "id": "10a4cc4f",
      "metadata": {
        "id": "10a4cc4f"
      },
      "source": [
        "Q6. Write a python program to print the first 10 Fibonacci numbers using a while loop."
      ]
    },
    {
      "cell_type": "code",
      "execution_count": 24,
      "id": "e878bd95",
      "metadata": {
        "id": "e878bd95"
      },
      "outputs": [],
      "source": [
        "#Ans6\n",
        "def fib1():\n",
        "    a=0\n",
        "    b=1\n",
        "    while True:\n",
        "        yield a\n",
        "        a,b=b,a+b"
      ]
    },
    {
      "cell_type": "code",
      "execution_count": 25,
      "id": "51308670",
      "metadata": {
        "id": "51308670"
      },
      "outputs": [],
      "source": [
        "f= fib1()"
      ]
    },
    {
      "cell_type": "code",
      "execution_count": 26,
      "id": "96daf110",
      "metadata": {
        "colab": {
          "base_uri": "https://localhost:8080/"
        },
        "id": "96daf110",
        "outputId": "5de25a9e-1ea7-49df-9ff1-4bd5b91d64cd"
      },
      "outputs": [
        {
          "output_type": "execute_result",
          "data": {
            "text/plain": [
              "generator"
            ]
          },
          "metadata": {},
          "execution_count": 26
        }
      ],
      "source": [
        "type(fib1())"
      ]
    },
    {
      "cell_type": "code",
      "execution_count": 27,
      "id": "463a1693",
      "metadata": {
        "colab": {
          "base_uri": "https://localhost:8080/"
        },
        "id": "463a1693",
        "outputId": "a99253c4-ba61-4881-c4d3-3c5317b914b3"
      },
      "outputs": [
        {
          "output_type": "stream",
          "name": "stdout",
          "text": [
            "0\n",
            "1\n",
            "1\n",
            "2\n",
            "3\n",
            "5\n",
            "8\n",
            "13\n",
            "21\n",
            "34\n"
          ]
        }
      ],
      "source": [
        "for k in range(10):\n",
        "    print(next(f))"
      ]
    },
    {
      "cell_type": "markdown",
      "id": "3d5c0279",
      "metadata": {
        "id": "3d5c0279"
      },
      "source": [
        "Q7. Write a List Comprehension to iterate through the given string: ‘pwskills’.\n",
        "Expected output: ['p', 'w', 's', 'k', 'i', 'l', 'l', 's']"
      ]
    },
    {
      "cell_type": "code",
      "execution_count": 28,
      "id": "6966ef2f",
      "metadata": {
        "colab": {
          "base_uri": "https://localhost:8080/"
        },
        "id": "6966ef2f",
        "outputId": "7b6e007a-c999-4370-e78f-3ab0a6f954d7"
      },
      "outputs": [
        {
          "output_type": "execute_result",
          "data": {
            "text/plain": [
              "['p', 'w', 's', 'k', 'i', 'l', 'l', 's']"
            ]
          },
          "metadata": {},
          "execution_count": 28
        }
      ],
      "source": [
        "s = \"pwskills\"\n",
        "list(map(lambda s : s.lower() , s))"
      ]
    },
    {
      "cell_type": "markdown",
      "id": "62941978",
      "metadata": {
        "id": "62941978"
      },
      "source": [
        "Q8. Write a python program to check whether a given number is Palindrome or not using a while loop."
      ]
    },
    {
      "cell_type": "code",
      "execution_count": 29,
      "id": "2362236d",
      "metadata": {
        "colab": {
          "base_uri": "https://localhost:8080/"
        },
        "id": "2362236d",
        "outputId": "ef07c2b3-c822-46b8-dcd5-ada6dc4dfa4a"
      },
      "outputs": [
        {
          "output_type": "stream",
          "name": "stdout",
          "text": [
            "Enter a number: 1234321\n",
            "The number is a palindrome!\n"
          ]
        }
      ],
      "source": [
        "num = int(input(\"Enter a number: \"))\n",
        "temp = num\n",
        "rev = 0\n",
        "\n",
        "while num > 0:\n",
        "    dig = num % 10\n",
        "    rev = rev * 10 + dig\n",
        "    num = num // 10\n",
        "\n",
        "if temp == rev:\n",
        "    print(\"The number is a palindrome!\")\n",
        "else:\n",
        "    print(\"The number isn't a palindrome!\")\n"
      ]
    },
    {
      "cell_type": "markdown",
      "id": "c1014e00",
      "metadata": {
        "id": "c1014e00"
      },
      "source": [
        "Q9. Write a code to print odd numbers from 1 to 100 using list comprehension."
      ]
    },
    {
      "cell_type": "code",
      "execution_count": 33,
      "id": "ad0f2756",
      "metadata": {
        "colab": {
          "base_uri": "https://localhost:8080/"
        },
        "id": "ad0f2756",
        "outputId": "2ee25412-106c-43f7-8bdc-06b2bc60d948"
      },
      "outputs": [
        {
          "output_type": "stream",
          "name": "stdout",
          "text": [
            "[1, 3, 5, 7, 9, 11, 13, 15, 17, 19, 21, 23, 25, 27, 29, 31, 33, 35, 37, 39, 41, 43, 45, 47, 49, 51, 53, 55, 57, 59, 61, 63, 65, 67, 69, 71, 73, 75, 77, 79, 81, 83, 85, 87, 89, 91, 93, 95, 97, 99]\n"
          ]
        }
      ],
      "source": [
        "odd_numbers = list(filter(lambda x: x % 2 != 0, range(1, 101)))\n",
        "print(odd_numbers)"
      ]
    },
    {
      "cell_type": "code",
      "source": [],
      "metadata": {
        "id": "x58YEgaaYQvQ"
      },
      "id": "x58YEgaaYQvQ",
      "execution_count": null,
      "outputs": []
    }
  ],
  "metadata": {
    "kernelspec": {
      "display_name": "Python 3 (ipykernel)",
      "language": "python",
      "name": "python3"
    },
    "language_info": {
      "codemirror_mode": {
        "name": "ipython",
        "version": 3
      },
      "file_extension": ".py",
      "mimetype": "text/x-python",
      "name": "python",
      "nbconvert_exporter": "python",
      "pygments_lexer": "ipython3",
      "version": "3.10.9"
    },
    "colab": {
      "provenance": []
    }
  },
  "nbformat": 4,
  "nbformat_minor": 5
}