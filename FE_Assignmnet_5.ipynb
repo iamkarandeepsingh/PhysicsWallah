{
  "cells": [
    {
      "cell_type": "markdown",
      "metadata": {
        "id": "view-in-github",
        "colab_type": "text"
      },
      "source": [
        "<a href=\"https://colab.research.google.com/github/iamkarandeepsingh/PhysicsWallah/blob/main/FE_Assignmnet_5.ipynb\" target=\"_parent\"><img src=\"https://colab.research.google.com/assets/colab-badge.svg\" alt=\"Open In Colab\"/></a>"
      ]
    },
    {
      "cell_type": "markdown",
      "id": "98d97f6e",
      "metadata": {
        "id": "98d97f6e"
      },
      "source": [
        "**Q1. Pearson correlation coefficient is a measure of the linear relationship between two variables. Suppose you have collected data on the amount of time students spend studying for an exam and their final exam scores. Calculate the Pearson correlation coefficient between these two variables and interpret the result.**"
      ]
    },
    {
      "cell_type": "code",
      "execution_count": null,
      "id": "452c384f",
      "metadata": {
        "id": "452c384f",
        "outputId": "e8b218b5-3c30-4895-9520-d5cc939e8621"
      },
      "outputs": [
        {
          "data": {
            "text/html": [
              "<div>\n",
              "<style scoped>\n",
              "    .dataframe tbody tr th:only-of-type {\n",
              "        vertical-align: middle;\n",
              "    }\n",
              "\n",
              "    .dataframe tbody tr th {\n",
              "        vertical-align: top;\n",
              "    }\n",
              "\n",
              "    .dataframe thead th {\n",
              "        text-align: right;\n",
              "    }\n",
              "</style>\n",
              "<table border=\"1\" class=\"dataframe\">\n",
              "  <thead>\n",
              "    <tr style=\"text-align: right;\">\n",
              "      <th></th>\n",
              "      <th>Time_Studied</th>\n",
              "      <th>Marks_Obtained</th>\n",
              "    </tr>\n",
              "  </thead>\n",
              "  <tbody>\n",
              "    <tr>\n",
              "      <th>0</th>\n",
              "      <td>4</td>\n",
              "      <td>60</td>\n",
              "    </tr>\n",
              "    <tr>\n",
              "      <th>1</th>\n",
              "      <td>3</td>\n",
              "      <td>45</td>\n",
              "    </tr>\n",
              "    <tr>\n",
              "      <th>2</th>\n",
              "      <td>5</td>\n",
              "      <td>70</td>\n",
              "    </tr>\n",
              "    <tr>\n",
              "      <th>3</th>\n",
              "      <td>7</td>\n",
              "      <td>90</td>\n",
              "    </tr>\n",
              "    <tr>\n",
              "      <th>4</th>\n",
              "      <td>6</td>\n",
              "      <td>83</td>\n",
              "    </tr>\n",
              "  </tbody>\n",
              "</table>\n",
              "</div>"
            ],
            "text/plain": [
              "   Time_Studied  Marks_Obtained\n",
              "0             4              60\n",
              "1             3              45\n",
              "2             5              70\n",
              "3             7              90\n",
              "4             6              83"
            ]
          },
          "execution_count": 1,
          "metadata": {},
          "output_type": "execute_result"
        }
      ],
      "source": [
        "import pandas as pd\n",
        "df = pd.DataFrame({\n",
        "    'Time_Studied': [4,3,5,7,6],\n",
        "    'Marks_Obtained': [60 ,45, 70, 90, 83]\n",
        "})\n",
        "df"
      ]
    },
    {
      "cell_type": "markdown",
      "id": "d775ddcf",
      "metadata": {
        "id": "d775ddcf"
      },
      "source": [
        "The formula for finding Pearson's correlation between both the variables is:\n",
        "\n",
        "![image.png](attachment:image.png)\n",
        "\n",
        "We can also find the Pearson's correlation using Python:"
      ]
    },
    {
      "cell_type": "code",
      "execution_count": null,
      "id": "e3716f3c",
      "metadata": {
        "id": "e3716f3c",
        "outputId": "187ce9c5-271b-41b1-f20f-d14489fb6789"
      },
      "outputs": [
        {
          "data": {
            "text/html": [
              "<div>\n",
              "<style scoped>\n",
              "    .dataframe tbody tr th:only-of-type {\n",
              "        vertical-align: middle;\n",
              "    }\n",
              "\n",
              "    .dataframe tbody tr th {\n",
              "        vertical-align: top;\n",
              "    }\n",
              "\n",
              "    .dataframe thead th {\n",
              "        text-align: right;\n",
              "    }\n",
              "</style>\n",
              "<table border=\"1\" class=\"dataframe\">\n",
              "  <thead>\n",
              "    <tr style=\"text-align: right;\">\n",
              "      <th></th>\n",
              "      <th>Time_Studied</th>\n",
              "      <th>Marks_Obtained</th>\n",
              "    </tr>\n",
              "  </thead>\n",
              "  <tbody>\n",
              "    <tr>\n",
              "      <th>Time_Studied</th>\n",
              "      <td>1.000000</td>\n",
              "      <td>0.993678</td>\n",
              "    </tr>\n",
              "    <tr>\n",
              "      <th>Marks_Obtained</th>\n",
              "      <td>0.993678</td>\n",
              "      <td>1.000000</td>\n",
              "    </tr>\n",
              "  </tbody>\n",
              "</table>\n",
              "</div>"
            ],
            "text/plain": [
              "                Time_Studied  Marks_Obtained\n",
              "Time_Studied        1.000000        0.993678\n",
              "Marks_Obtained      0.993678        1.000000"
            ]
          },
          "execution_count": 2,
          "metadata": {},
          "output_type": "execute_result"
        }
      ],
      "source": [
        "df.corr(method='pearson')"
      ]
    },
    {
      "cell_type": "markdown",
      "id": "1a3ed46e",
      "metadata": {
        "id": "1a3ed46e"
      },
      "source": [
        "**Interpretation:**<br>\n",
        "The Pearson's correlation coefficients in the given results indicate a very strong positive correlation between the variables of \"Time_Studied\" and \"Marks_Obtained\".\n",
        "\n",
        "Both correlation coefficients are close to 1.000, which means that there is a very strong positive relationship between the two variables. This suggests that as \"Time_Studied\" increases, \"Marks_Obtained\" also increases."
      ]
    },
    {
      "cell_type": "markdown",
      "id": "237f38df",
      "metadata": {
        "id": "237f38df"
      },
      "source": [
        "**Q2. Spearman's rank correlation is a measure of the monotonic relationship between two variables. Suppose you have collected data on the amount of sleep individuals get each night and their overall job satisfaction level on a scale of 1 to 10. Calculate the Spearman's rank correlation between these two variables and interpret the result.**"
      ]
    },
    {
      "cell_type": "code",
      "execution_count": null,
      "id": "75424c5d",
      "metadata": {
        "id": "75424c5d",
        "outputId": "99b80b33-a222-4c17-a59e-875e3d5f8204"
      },
      "outputs": [
        {
          "data": {
            "text/html": [
              "<div>\n",
              "<style scoped>\n",
              "    .dataframe tbody tr th:only-of-type {\n",
              "        vertical-align: middle;\n",
              "    }\n",
              "\n",
              "    .dataframe tbody tr th {\n",
              "        vertical-align: top;\n",
              "    }\n",
              "\n",
              "    .dataframe thead th {\n",
              "        text-align: right;\n",
              "    }\n",
              "</style>\n",
              "<table border=\"1\" class=\"dataframe\">\n",
              "  <thead>\n",
              "    <tr style=\"text-align: right;\">\n",
              "      <th></th>\n",
              "      <th>Sleep_Amount</th>\n",
              "      <th>Job_Satisfaction</th>\n",
              "    </tr>\n",
              "  </thead>\n",
              "  <tbody>\n",
              "    <tr>\n",
              "      <th>0</th>\n",
              "      <td>6</td>\n",
              "      <td>8</td>\n",
              "    </tr>\n",
              "    <tr>\n",
              "      <th>1</th>\n",
              "      <td>7</td>\n",
              "      <td>9</td>\n",
              "    </tr>\n",
              "    <tr>\n",
              "      <th>2</th>\n",
              "      <td>5</td>\n",
              "      <td>4</td>\n",
              "    </tr>\n",
              "    <tr>\n",
              "      <th>3</th>\n",
              "      <td>8</td>\n",
              "      <td>7</td>\n",
              "    </tr>\n",
              "    <tr>\n",
              "      <th>4</th>\n",
              "      <td>7</td>\n",
              "      <td>6</td>\n",
              "    </tr>\n",
              "    <tr>\n",
              "      <th>5</th>\n",
              "      <td>6</td>\n",
              "      <td>5</td>\n",
              "    </tr>\n",
              "    <tr>\n",
              "      <th>6</th>\n",
              "      <td>5</td>\n",
              "      <td>3</td>\n",
              "    </tr>\n",
              "    <tr>\n",
              "      <th>7</th>\n",
              "      <td>9</td>\n",
              "      <td>10</td>\n",
              "    </tr>\n",
              "    <tr>\n",
              "      <th>8</th>\n",
              "      <td>8</td>\n",
              "      <td>9</td>\n",
              "    </tr>\n",
              "    <tr>\n",
              "      <th>9</th>\n",
              "      <td>7</td>\n",
              "      <td>8</td>\n",
              "    </tr>\n",
              "  </tbody>\n",
              "</table>\n",
              "</div>"
            ],
            "text/plain": [
              "   Sleep_Amount  Job_Satisfaction\n",
              "0             6                 8\n",
              "1             7                 9\n",
              "2             5                 4\n",
              "3             8                 7\n",
              "4             7                 6\n",
              "5             6                 5\n",
              "6             5                 3\n",
              "7             9                10\n",
              "8             8                 9\n",
              "9             7                 8"
            ]
          },
          "execution_count": 3,
          "metadata": {},
          "output_type": "execute_result"
        }
      ],
      "source": [
        "df = pd.DataFrame({\n",
        "    'Sleep_Amount': [6, 7, 5, 8, 7, 6, 5, 9, 8, 7],\n",
        "    'Job_Satisfaction': [8, 9, 4, 7, 6, 5, 3, 10, 9, 8]\n",
        "})\n",
        "df"
      ]
    },
    {
      "cell_type": "markdown",
      "id": "4e31f702",
      "metadata": {
        "id": "4e31f702"
      },
      "source": [
        "The formula for calculating Spearman's correlation coefficient between the two variables is:\n",
        "\n",
        "![image.png](attachment:image.png)\n",
        "\n",
        "We can also find the Pearson's correlation using Python:"
      ]
    },
    {
      "cell_type": "code",
      "execution_count": null,
      "id": "2510821d",
      "metadata": {
        "id": "2510821d",
        "outputId": "0fc66df6-5db2-4088-c26a-d4509ba3e028"
      },
      "outputs": [
        {
          "data": {
            "text/plain": [
              "0.7976045521851899"
            ]
          },
          "execution_count": 4,
          "metadata": {},
          "output_type": "execute_result"
        }
      ],
      "source": [
        "df['Sleep_Amount'].corr(df['Job_Satisfaction'], method='spearman')"
      ]
    },
    {
      "cell_type": "code",
      "execution_count": null,
      "id": "e4c1048d",
      "metadata": {
        "id": "e4c1048d",
        "outputId": "f3fe08b7-9cda-45cf-e37b-2ee48c42a33c"
      },
      "outputs": [
        {
          "data": {
            "text/html": [
              "<div>\n",
              "<style scoped>\n",
              "    .dataframe tbody tr th:only-of-type {\n",
              "        vertical-align: middle;\n",
              "    }\n",
              "\n",
              "    .dataframe tbody tr th {\n",
              "        vertical-align: top;\n",
              "    }\n",
              "\n",
              "    .dataframe thead th {\n",
              "        text-align: right;\n",
              "    }\n",
              "</style>\n",
              "<table border=\"1\" class=\"dataframe\">\n",
              "  <thead>\n",
              "    <tr style=\"text-align: right;\">\n",
              "      <th></th>\n",
              "      <th>Sleep_Amount</th>\n",
              "      <th>Job_Satisfaction</th>\n",
              "    </tr>\n",
              "  </thead>\n",
              "  <tbody>\n",
              "    <tr>\n",
              "      <th>Sleep_Amount</th>\n",
              "      <td>1.000000</td>\n",
              "      <td>0.797605</td>\n",
              "    </tr>\n",
              "    <tr>\n",
              "      <th>Job_Satisfaction</th>\n",
              "      <td>0.797605</td>\n",
              "      <td>1.000000</td>\n",
              "    </tr>\n",
              "  </tbody>\n",
              "</table>\n",
              "</div>"
            ],
            "text/plain": [
              "                  Sleep_Amount  Job_Satisfaction\n",
              "Sleep_Amount          1.000000          0.797605\n",
              "Job_Satisfaction      0.797605          1.000000"
            ]
          },
          "execution_count": 5,
          "metadata": {},
          "output_type": "execute_result"
        }
      ],
      "source": [
        "df.corr(method='spearman')"
      ]
    },
    {
      "cell_type": "markdown",
      "id": "f1a49a08",
      "metadata": {
        "id": "f1a49a08"
      },
      "source": [
        "**Interpretation:**<br>\n",
        "The correlation coefficient between Sleep Amount and Job Satisfaction is 0.797605, which is close to +1. This indicates a strong positive monotonic correlation between these two variables.\n",
        "\n",
        "As the amount of sleep individuals get each night increases, their overall job satisfaction level tends to increase as well. Conversely, as the amount of sleep decreases, job satisfaction tends to decrease."
      ]
    },
    {
      "cell_type": "markdown",
      "id": "b27595f4",
      "metadata": {
        "id": "b27595f4"
      },
      "source": [
        "**Q3. Suppose you are conducting a study to examine the relationship between the number of hours of exercise per week and body mass index (BMI) in a sample of adults. You collected data on both variables for 50 participants. Calculate the Pearson correlation coefficient and the Spearman's rank correlation between these two variables and compare the results.**\n",
        "\n",
        "To calculate the Pearson correlation coefficient and the Spearman's rank correlation between the number of hours of exercise per week and body mass index (BMI) in a sample of 50 adults, we need to have data for both variables.\n",
        "\n",
        "We can use Python to generate random data for both variables and then calculate the Pearson and Spearman's rank correlation between them:"
      ]
    },
    {
      "cell_type": "code",
      "execution_count": null,
      "id": "b7993519",
      "metadata": {
        "id": "b7993519",
        "outputId": "eeb569d6-6aab-4ef5-eafd-fd31869cdc9f"
      },
      "outputs": [
        {
          "data": {
            "text/html": [
              "<div>\n",
              "<style scoped>\n",
              "    .dataframe tbody tr th:only-of-type {\n",
              "        vertical-align: middle;\n",
              "    }\n",
              "\n",
              "    .dataframe tbody tr th {\n",
              "        vertical-align: top;\n",
              "    }\n",
              "\n",
              "    .dataframe thead th {\n",
              "        text-align: right;\n",
              "    }\n",
              "</style>\n",
              "<table border=\"1\" class=\"dataframe\">\n",
              "  <thead>\n",
              "    <tr style=\"text-align: right;\">\n",
              "      <th></th>\n",
              "      <th>num_of_hours</th>\n",
              "      <th>bmi</th>\n",
              "    </tr>\n",
              "  </thead>\n",
              "  <tbody>\n",
              "    <tr>\n",
              "      <th>0</th>\n",
              "      <td>4.850243</td>\n",
              "      <td>26.921540</td>\n",
              "    </tr>\n",
              "    <tr>\n",
              "      <th>1</th>\n",
              "      <td>2.927887</td>\n",
              "      <td>26.710031</td>\n",
              "    </tr>\n",
              "    <tr>\n",
              "      <th>2</th>\n",
              "      <td>5.714134</td>\n",
              "      <td>22.121598</td>\n",
              "    </tr>\n",
              "    <tr>\n",
              "      <th>3</th>\n",
              "      <td>6.485821</td>\n",
              "      <td>26.825400</td>\n",
              "    </tr>\n",
              "    <tr>\n",
              "      <th>4</th>\n",
              "      <td>8.962386</td>\n",
              "      <td>19.065979</td>\n",
              "    </tr>\n",
              "  </tbody>\n",
              "</table>\n",
              "</div>"
            ],
            "text/plain": [
              "   num_of_hours        bmi\n",
              "0      4.850243  26.921540\n",
              "1      2.927887  26.710031\n",
              "2      5.714134  22.121598\n",
              "3      6.485821  26.825400\n",
              "4      8.962386  19.065979"
            ]
          },
          "execution_count": 6,
          "metadata": {},
          "output_type": "execute_result"
        }
      ],
      "source": [
        "import numpy as np\n",
        "num_of_hours = np.random.normal(5, 2, 50)\n",
        "bmi = np.random.normal(25, 5, 50)\n",
        "df = pd.DataFrame({\n",
        "    'num_of_hours': num_of_hours,\n",
        "    'bmi': bmi\n",
        "})\n",
        "df.head()"
      ]
    },
    {
      "cell_type": "markdown",
      "id": "33578694",
      "metadata": {
        "id": "33578694"
      },
      "source": [
        "**Pearson's Coefficient Correlation:**"
      ]
    },
    {
      "cell_type": "code",
      "execution_count": null,
      "id": "78a1321e",
      "metadata": {
        "id": "78a1321e",
        "outputId": "08520eae-a82d-4fed-82b1-1dd93aae603b"
      },
      "outputs": [
        {
          "data": {
            "text/html": [
              "<div>\n",
              "<style scoped>\n",
              "    .dataframe tbody tr th:only-of-type {\n",
              "        vertical-align: middle;\n",
              "    }\n",
              "\n",
              "    .dataframe tbody tr th {\n",
              "        vertical-align: top;\n",
              "    }\n",
              "\n",
              "    .dataframe thead th {\n",
              "        text-align: right;\n",
              "    }\n",
              "</style>\n",
              "<table border=\"1\" class=\"dataframe\">\n",
              "  <thead>\n",
              "    <tr style=\"text-align: right;\">\n",
              "      <th></th>\n",
              "      <th>num_of_hours</th>\n",
              "      <th>bmi</th>\n",
              "    </tr>\n",
              "  </thead>\n",
              "  <tbody>\n",
              "    <tr>\n",
              "      <th>num_of_hours</th>\n",
              "      <td>1.000000</td>\n",
              "      <td>-0.161281</td>\n",
              "    </tr>\n",
              "    <tr>\n",
              "      <th>bmi</th>\n",
              "      <td>-0.161281</td>\n",
              "      <td>1.000000</td>\n",
              "    </tr>\n",
              "  </tbody>\n",
              "</table>\n",
              "</div>"
            ],
            "text/plain": [
              "              num_of_hours       bmi\n",
              "num_of_hours      1.000000 -0.161281\n",
              "bmi              -0.161281  1.000000"
            ]
          },
          "execution_count": 7,
          "metadata": {},
          "output_type": "execute_result"
        }
      ],
      "source": [
        "df.corr(method='pearson')"
      ]
    },
    {
      "cell_type": "markdown",
      "id": "d256b4fb",
      "metadata": {
        "id": "d256b4fb"
      },
      "source": [
        "**Spearman's Rank Correlation:**"
      ]
    },
    {
      "cell_type": "code",
      "execution_count": null,
      "id": "1bdfdd2a",
      "metadata": {
        "id": "1bdfdd2a",
        "outputId": "80d8aa31-8de7-41dd-8409-228d316a8a29"
      },
      "outputs": [
        {
          "data": {
            "text/html": [
              "<div>\n",
              "<style scoped>\n",
              "    .dataframe tbody tr th:only-of-type {\n",
              "        vertical-align: middle;\n",
              "    }\n",
              "\n",
              "    .dataframe tbody tr th {\n",
              "        vertical-align: top;\n",
              "    }\n",
              "\n",
              "    .dataframe thead th {\n",
              "        text-align: right;\n",
              "    }\n",
              "</style>\n",
              "<table border=\"1\" class=\"dataframe\">\n",
              "  <thead>\n",
              "    <tr style=\"text-align: right;\">\n",
              "      <th></th>\n",
              "      <th>num_of_hours</th>\n",
              "      <th>bmi</th>\n",
              "    </tr>\n",
              "  </thead>\n",
              "  <tbody>\n",
              "    <tr>\n",
              "      <th>num_of_hours</th>\n",
              "      <td>1.000000</td>\n",
              "      <td>-0.103481</td>\n",
              "    </tr>\n",
              "    <tr>\n",
              "      <th>bmi</th>\n",
              "      <td>-0.103481</td>\n",
              "      <td>1.000000</td>\n",
              "    </tr>\n",
              "  </tbody>\n",
              "</table>\n",
              "</div>"
            ],
            "text/plain": [
              "              num_of_hours       bmi\n",
              "num_of_hours      1.000000 -0.103481\n",
              "bmi              -0.103481  1.000000"
            ]
          },
          "execution_count": 8,
          "metadata": {},
          "output_type": "execute_result"
        }
      ],
      "source": [
        "df.corr(method='spearman')"
      ]
    },
    {
      "cell_type": "markdown",
      "id": "d23798bc",
      "metadata": {
        "id": "d23798bc"
      },
      "source": [
        "**Results Comparison:**\n",
        "\n",
        "The Pearson correlation coefficient measures the linear relationship between two variables, and it ranges from -1 (perfect negative correlation) to +1 (perfect positive correlation), with 0 indicating no correlation. In this case, the Pearson correlation coefficient between num_of_hours and bmi is 0.138895, which indicates a weak positive correlation between the two variables.\n",
        "\n",
        "On the other hand, the Spearman correlation coefficient measures the monotonic relationship between two variables, which means it assesses the strength and direction of a relationship between two variables, without assuming any particular functional form of the relationship. It also ranges from -1 to +1, with 0 indicating no correlation. In this case, the Spearman correlation coefficient between num_of_hours and bmi is 0.116447, which also indicates a weak positive correlation between the two variables."
      ]
    },
    {
      "cell_type": "markdown",
      "id": "2ef429dc",
      "metadata": {
        "id": "2ef429dc"
      },
      "source": [
        "**Q4. A researcher is interested in examining the relationship between the number of hours individuals spend watching television per day and their level of physical activity. The researcher collected data on both variables from a sample of 50 participants. Calculate the Pearson correlation coefficient between these two variables.**\n",
        "\n",
        "To calculate the Pearson correlation coefficient between the number of hours individuals spend watching television per day and their level of physical activity of hours of exercise per week in a sample of 50 pariticipants, we need to have data for both variables.\n",
        "\n",
        "We can use Python to generate random data for both variables and then calculate the Pearson correlation coeffiecients:"
      ]
    },
    {
      "cell_type": "code",
      "execution_count": null,
      "id": "35d70671",
      "metadata": {
        "id": "35d70671",
        "outputId": "7639d766-b062-45a1-e6f7-75ec31e31e10"
      },
      "outputs": [
        {
          "data": {
            "text/html": [
              "<div>\n",
              "<style scoped>\n",
              "    .dataframe tbody tr th:only-of-type {\n",
              "        vertical-align: middle;\n",
              "    }\n",
              "\n",
              "    .dataframe tbody tr th {\n",
              "        vertical-align: top;\n",
              "    }\n",
              "\n",
              "    .dataframe thead th {\n",
              "        text-align: right;\n",
              "    }\n",
              "</style>\n",
              "<table border=\"1\" class=\"dataframe\">\n",
              "  <thead>\n",
              "    <tr style=\"text-align: right;\">\n",
              "      <th></th>\n",
              "      <th>num_of_hours</th>\n",
              "      <th>physical_activity</th>\n",
              "    </tr>\n",
              "  </thead>\n",
              "  <tbody>\n",
              "    <tr>\n",
              "      <th>0</th>\n",
              "      <td>2.967697</td>\n",
              "      <td>15.074671</td>\n",
              "    </tr>\n",
              "    <tr>\n",
              "      <th>1</th>\n",
              "      <td>2.798661</td>\n",
              "      <td>5.715256</td>\n",
              "    </tr>\n",
              "    <tr>\n",
              "      <th>2</th>\n",
              "      <td>5.109797</td>\n",
              "      <td>6.470502</td>\n",
              "    </tr>\n",
              "    <tr>\n",
              "      <th>3</th>\n",
              "      <td>4.191582</td>\n",
              "      <td>15.256605</td>\n",
              "    </tr>\n",
              "    <tr>\n",
              "      <th>4</th>\n",
              "      <td>8.276066</td>\n",
              "      <td>13.528612</td>\n",
              "    </tr>\n",
              "  </tbody>\n",
              "</table>\n",
              "</div>"
            ],
            "text/plain": [
              "   num_of_hours  physical_activity\n",
              "0      2.967697          15.074671\n",
              "1      2.798661           5.715256\n",
              "2      5.109797           6.470502\n",
              "3      4.191582          15.256605\n",
              "4      8.276066          13.528612"
            ]
          },
          "execution_count": 9,
          "metadata": {},
          "output_type": "execute_result"
        }
      ],
      "source": [
        "num_of_hours = np.random.normal(6, 4, 50)\n",
        "amount_of_activity= np.random.normal(10, 6, 50)\n",
        "df = pd.DataFrame({\n",
        "    'num_of_hours': num_of_hours,\n",
        "    'physical_activity': amount_of_activity\n",
        "})\n",
        "df.head()"
      ]
    },
    {
      "cell_type": "markdown",
      "id": "65638345",
      "metadata": {
        "id": "65638345"
      },
      "source": [
        "**Pearson's Coefficient Correlation:**"
      ]
    },
    {
      "cell_type": "code",
      "execution_count": null,
      "id": "7190df63",
      "metadata": {
        "id": "7190df63",
        "outputId": "4d504d38-55a5-46d3-9e68-8f15f65e220f"
      },
      "outputs": [
        {
          "data": {
            "text/html": [
              "<div>\n",
              "<style scoped>\n",
              "    .dataframe tbody tr th:only-of-type {\n",
              "        vertical-align: middle;\n",
              "    }\n",
              "\n",
              "    .dataframe tbody tr th {\n",
              "        vertical-align: top;\n",
              "    }\n",
              "\n",
              "    .dataframe thead th {\n",
              "        text-align: right;\n",
              "    }\n",
              "</style>\n",
              "<table border=\"1\" class=\"dataframe\">\n",
              "  <thead>\n",
              "    <tr style=\"text-align: right;\">\n",
              "      <th></th>\n",
              "      <th>num_of_hours</th>\n",
              "      <th>physical_activity</th>\n",
              "    </tr>\n",
              "  </thead>\n",
              "  <tbody>\n",
              "    <tr>\n",
              "      <th>num_of_hours</th>\n",
              "      <td>1.00000</td>\n",
              "      <td>0.05195</td>\n",
              "    </tr>\n",
              "    <tr>\n",
              "      <th>physical_activity</th>\n",
              "      <td>0.05195</td>\n",
              "      <td>1.00000</td>\n",
              "    </tr>\n",
              "  </tbody>\n",
              "</table>\n",
              "</div>"
            ],
            "text/plain": [
              "                   num_of_hours  physical_activity\n",
              "num_of_hours            1.00000            0.05195\n",
              "physical_activity       0.05195            1.00000"
            ]
          },
          "execution_count": 10,
          "metadata": {},
          "output_type": "execute_result"
        }
      ],
      "source": [
        "df.corr(method='pearson')"
      ]
    },
    {
      "cell_type": "markdown",
      "id": "eb3455da",
      "metadata": {
        "id": "eb3455da"
      },
      "source": [
        "**Q5. A survey was conducted to examine the relationship between age and preference for a particular brand of soft drink. The survey results are shown below:**\n",
        "\n",
        "![image.png](attachment:image.png)"
      ]
    },
    {
      "cell_type": "code",
      "execution_count": null,
      "id": "ce51c62b",
      "metadata": {
        "id": "ce51c62b",
        "outputId": "f058c4c9-0240-4f67-f65a-a92a8a7fa57c"
      },
      "outputs": [
        {
          "data": {
            "text/html": [
              "<div>\n",
              "<style scoped>\n",
              "    .dataframe tbody tr th:only-of-type {\n",
              "        vertical-align: middle;\n",
              "    }\n",
              "\n",
              "    .dataframe tbody tr th {\n",
              "        vertical-align: top;\n",
              "    }\n",
              "\n",
              "    .dataframe thead th {\n",
              "        text-align: right;\n",
              "    }\n",
              "</style>\n",
              "<table border=\"1\" class=\"dataframe\">\n",
              "  <thead>\n",
              "    <tr style=\"text-align: right;\">\n",
              "      <th></th>\n",
              "      <th>Age(Years)</th>\n",
              "      <th>Soft Drink Preference</th>\n",
              "    </tr>\n",
              "  </thead>\n",
              "  <tbody>\n",
              "    <tr>\n",
              "      <th>0</th>\n",
              "      <td>25</td>\n",
              "      <td>Coke</td>\n",
              "    </tr>\n",
              "    <tr>\n",
              "      <th>1</th>\n",
              "      <td>42</td>\n",
              "      <td>Pepsi</td>\n",
              "    </tr>\n",
              "    <tr>\n",
              "      <th>2</th>\n",
              "      <td>37</td>\n",
              "      <td>Mountain Dew</td>\n",
              "    </tr>\n",
              "    <tr>\n",
              "      <th>3</th>\n",
              "      <td>19</td>\n",
              "      <td>Coke</td>\n",
              "    </tr>\n",
              "    <tr>\n",
              "      <th>4</th>\n",
              "      <td>31</td>\n",
              "      <td>Pepsi</td>\n",
              "    </tr>\n",
              "    <tr>\n",
              "      <th>5</th>\n",
              "      <td>28</td>\n",
              "      <td>Coke</td>\n",
              "    </tr>\n",
              "  </tbody>\n",
              "</table>\n",
              "</div>"
            ],
            "text/plain": [
              "   Age(Years) Soft Drink Preference\n",
              "0          25                  Coke\n",
              "1          42                 Pepsi\n",
              "2          37          Mountain Dew\n",
              "3          19                  Coke\n",
              "4          31                 Pepsi\n",
              "5          28                  Coke"
            ]
          },
          "execution_count": 11,
          "metadata": {},
          "output_type": "execute_result"
        }
      ],
      "source": [
        "df = pd.DataFrame({\n",
        "    \"Age(Years)\": [25, 42, 37, 19, 31, 28],\n",
        "    \"Soft Drink Preference\": ['Coke', 'Pepsi', 'Mountain Dew', 'Coke', 'Pepsi', 'Coke']\n",
        "})\n",
        "df"
      ]
    },
    {
      "cell_type": "markdown",
      "id": "d3bc5662",
      "metadata": {
        "id": "d3bc5662"
      },
      "source": [
        "For finding Pearson correlation, we first need to convert the categorical variable to numerical variable. We can do so by encoding it:"
      ]
    },
    {
      "cell_type": "code",
      "execution_count": null,
      "id": "77c6d4b3",
      "metadata": {
        "id": "77c6d4b3",
        "outputId": "e7934a78-133a-4663-db01-67635da96211"
      },
      "outputs": [
        {
          "data": {
            "text/html": [
              "<div>\n",
              "<style scoped>\n",
              "    .dataframe tbody tr th:only-of-type {\n",
              "        vertical-align: middle;\n",
              "    }\n",
              "\n",
              "    .dataframe tbody tr th {\n",
              "        vertical-align: top;\n",
              "    }\n",
              "\n",
              "    .dataframe thead th {\n",
              "        text-align: right;\n",
              "    }\n",
              "</style>\n",
              "<table border=\"1\" class=\"dataframe\">\n",
              "  <thead>\n",
              "    <tr style=\"text-align: right;\">\n",
              "      <th></th>\n",
              "      <th>Age(Years)</th>\n",
              "      <th>Soft Drink Preference Enc</th>\n",
              "    </tr>\n",
              "  </thead>\n",
              "  <tbody>\n",
              "    <tr>\n",
              "      <th>0</th>\n",
              "      <td>25</td>\n",
              "      <td>0</td>\n",
              "    </tr>\n",
              "    <tr>\n",
              "      <th>1</th>\n",
              "      <td>42</td>\n",
              "      <td>2</td>\n",
              "    </tr>\n",
              "    <tr>\n",
              "      <th>2</th>\n",
              "      <td>37</td>\n",
              "      <td>1</td>\n",
              "    </tr>\n",
              "    <tr>\n",
              "      <th>3</th>\n",
              "      <td>19</td>\n",
              "      <td>0</td>\n",
              "    </tr>\n",
              "    <tr>\n",
              "      <th>4</th>\n",
              "      <td>31</td>\n",
              "      <td>2</td>\n",
              "    </tr>\n",
              "    <tr>\n",
              "      <th>5</th>\n",
              "      <td>28</td>\n",
              "      <td>0</td>\n",
              "    </tr>\n",
              "  </tbody>\n",
              "</table>\n",
              "</div>"
            ],
            "text/plain": [
              "   Age(Years)  Soft Drink Preference Enc\n",
              "0          25                          0\n",
              "1          42                          2\n",
              "2          37                          1\n",
              "3          19                          0\n",
              "4          31                          2\n",
              "5          28                          0"
            ]
          },
          "execution_count": 12,
          "metadata": {},
          "output_type": "execute_result"
        }
      ],
      "source": [
        "from sklearn.preprocessing import LabelEncoder\n",
        "encoder = LabelEncoder()\n",
        "encoded_col = encoder.fit_transform(df['Soft Drink Preference'])\n",
        "df_encoded = pd.DataFrame(encoded_col, columns=['Soft Drink Preference Enc'])\n",
        "df_new = pd.concat([df, df_encoded], axis=1)\n",
        "df_new = df_new.drop('Soft Drink Preference', axis=1)\n",
        "df_new"
      ]
    },
    {
      "cell_type": "markdown",
      "id": "0bf584f8",
      "metadata": {
        "id": "0bf584f8"
      },
      "source": [
        "**Pearson's Coefficient Correlation:**"
      ]
    },
    {
      "cell_type": "code",
      "execution_count": null,
      "id": "e239dc2a",
      "metadata": {
        "id": "e239dc2a",
        "outputId": "792fcab1-f43f-4178-f0c1-aee81abe383f"
      },
      "outputs": [
        {
          "data": {
            "text/html": [
              "<div>\n",
              "<style scoped>\n",
              "    .dataframe tbody tr th:only-of-type {\n",
              "        vertical-align: middle;\n",
              "    }\n",
              "\n",
              "    .dataframe tbody tr th {\n",
              "        vertical-align: top;\n",
              "    }\n",
              "\n",
              "    .dataframe thead th {\n",
              "        text-align: right;\n",
              "    }\n",
              "</style>\n",
              "<table border=\"1\" class=\"dataframe\">\n",
              "  <thead>\n",
              "    <tr style=\"text-align: right;\">\n",
              "      <th></th>\n",
              "      <th>Age(Years)</th>\n",
              "      <th>Soft Drink Preference Enc</th>\n",
              "    </tr>\n",
              "  </thead>\n",
              "  <tbody>\n",
              "    <tr>\n",
              "      <th>Age(Years)</th>\n",
              "      <td>1.000000</td>\n",
              "      <td>0.769175</td>\n",
              "    </tr>\n",
              "    <tr>\n",
              "      <th>Soft Drink Preference Enc</th>\n",
              "      <td>0.769175</td>\n",
              "      <td>1.000000</td>\n",
              "    </tr>\n",
              "  </tbody>\n",
              "</table>\n",
              "</div>"
            ],
            "text/plain": [
              "                           Age(Years)  Soft Drink Preference Enc\n",
              "Age(Years)                   1.000000                   0.769175\n",
              "Soft Drink Preference Enc    0.769175                   1.000000"
            ]
          },
          "execution_count": 13,
          "metadata": {},
          "output_type": "execute_result"
        }
      ],
      "source": [
        "df_new.corr(method='pearson')"
      ]
    },
    {
      "cell_type": "markdown",
      "id": "5cb7b04a",
      "metadata": {
        "id": "5cb7b04a"
      },
      "source": [
        "**Q6. A company is interested in examining the relationship between the number of sales calls made per day and the number of sales made per week. The company collected data on both variables from a sample of 30 sales representatives. Calculate the Pearson correlation coefficient between these two variables.**\n",
        "\n",
        "Rather than generating 30 random values for both the variables, I'm taking 10 values for each variable."
      ]
    },
    {
      "cell_type": "code",
      "execution_count": null,
      "id": "b40aaddc",
      "metadata": {
        "id": "b40aaddc",
        "outputId": "d6a2aa7f-7f21-450a-90cf-d76d41c5437c"
      },
      "outputs": [
        {
          "data": {
            "text/html": [
              "<div>\n",
              "<style scoped>\n",
              "    .dataframe tbody tr th:only-of-type {\n",
              "        vertical-align: middle;\n",
              "    }\n",
              "\n",
              "    .dataframe tbody tr th {\n",
              "        vertical-align: top;\n",
              "    }\n",
              "\n",
              "    .dataframe thead th {\n",
              "        text-align: right;\n",
              "    }\n",
              "</style>\n",
              "<table border=\"1\" class=\"dataframe\">\n",
              "  <thead>\n",
              "    <tr style=\"text-align: right;\">\n",
              "      <th></th>\n",
              "      <th>num_of_calls</th>\n",
              "      <th>num_of_sales</th>\n",
              "    </tr>\n",
              "  </thead>\n",
              "  <tbody>\n",
              "    <tr>\n",
              "      <th>0</th>\n",
              "      <td>20</td>\n",
              "      <td>2</td>\n",
              "    </tr>\n",
              "    <tr>\n",
              "      <th>1</th>\n",
              "      <td>30</td>\n",
              "      <td>3</td>\n",
              "    </tr>\n",
              "    <tr>\n",
              "      <th>2</th>\n",
              "      <td>10</td>\n",
              "      <td>2</td>\n",
              "    </tr>\n",
              "    <tr>\n",
              "      <th>3</th>\n",
              "      <td>40</td>\n",
              "      <td>5</td>\n",
              "    </tr>\n",
              "    <tr>\n",
              "      <th>4</th>\n",
              "      <td>60</td>\n",
              "      <td>5</td>\n",
              "    </tr>\n",
              "    <tr>\n",
              "      <th>5</th>\n",
              "      <td>80</td>\n",
              "      <td>6</td>\n",
              "    </tr>\n",
              "    <tr>\n",
              "      <th>6</th>\n",
              "      <td>60</td>\n",
              "      <td>8</td>\n",
              "    </tr>\n",
              "    <tr>\n",
              "      <th>7</th>\n",
              "      <td>50</td>\n",
              "      <td>5</td>\n",
              "    </tr>\n",
              "    <tr>\n",
              "      <th>8</th>\n",
              "      <td>40</td>\n",
              "      <td>7</td>\n",
              "    </tr>\n",
              "    <tr>\n",
              "      <th>9</th>\n",
              "      <td>100</td>\n",
              "      <td>20</td>\n",
              "    </tr>\n",
              "  </tbody>\n",
              "</table>\n",
              "</div>"
            ],
            "text/plain": [
              "   num_of_calls  num_of_sales\n",
              "0            20             2\n",
              "1            30             3\n",
              "2            10             2\n",
              "3            40             5\n",
              "4            60             5\n",
              "5            80             6\n",
              "6            60             8\n",
              "7            50             5\n",
              "8            40             7\n",
              "9           100            20"
            ]
          },
          "execution_count": 14,
          "metadata": {},
          "output_type": "execute_result"
        }
      ],
      "source": [
        "num_of_calls = [20, 30, 10, 40, 60, 80, 60, 50, 40, 100]\n",
        "num_of_sales = [2, 3, 2, 5, 5, 6, 8, 5, 7, 20]\n",
        "df = pd.DataFrame({\n",
        "    'num_of_calls': num_of_calls,\n",
        "    'num_of_sales': num_of_sales\n",
        "})\n",
        "df"
      ]
    },
    {
      "cell_type": "markdown",
      "id": "cc370fc6",
      "metadata": {
        "id": "cc370fc6"
      },
      "source": [
        "**Pearson's Coefficient Correlation:**"
      ]
    },
    {
      "cell_type": "code",
      "execution_count": null,
      "id": "d011fd91",
      "metadata": {
        "id": "d011fd91",
        "outputId": "c301b4c3-6da4-4071-9089-4f3ff0b95912"
      },
      "outputs": [
        {
          "data": {
            "text/html": [
              "<div>\n",
              "<style scoped>\n",
              "    .dataframe tbody tr th:only-of-type {\n",
              "        vertical-align: middle;\n",
              "    }\n",
              "\n",
              "    .dataframe tbody tr th {\n",
              "        vertical-align: top;\n",
              "    }\n",
              "\n",
              "    .dataframe thead th {\n",
              "        text-align: right;\n",
              "    }\n",
              "</style>\n",
              "<table border=\"1\" class=\"dataframe\">\n",
              "  <thead>\n",
              "    <tr style=\"text-align: right;\">\n",
              "      <th></th>\n",
              "      <th>num_of_calls</th>\n",
              "      <th>num_of_sales</th>\n",
              "    </tr>\n",
              "  </thead>\n",
              "  <tbody>\n",
              "    <tr>\n",
              "      <th>num_of_calls</th>\n",
              "      <td>1.000000</td>\n",
              "      <td>0.824008</td>\n",
              "    </tr>\n",
              "    <tr>\n",
              "      <th>num_of_sales</th>\n",
              "      <td>0.824008</td>\n",
              "      <td>1.000000</td>\n",
              "    </tr>\n",
              "  </tbody>\n",
              "</table>\n",
              "</div>"
            ],
            "text/plain": [
              "              num_of_calls  num_of_sales\n",
              "num_of_calls      1.000000      0.824008\n",
              "num_of_sales      0.824008      1.000000"
            ]
          },
          "execution_count": 15,
          "metadata": {},
          "output_type": "execute_result"
        }
      ],
      "source": [
        "df.corr(method='pearson')"
      ]
    },
    {
      "cell_type": "markdown",
      "id": "ff7e9c38-b933-4d11-b84a-6972fc069602",
      "metadata": {
        "id": "ff7e9c38-b933-4d11-b84a-6972fc069602"
      },
      "source": [
        "**Spearman's Rank Correlation:**"
      ]
    },
    {
      "cell_type": "code",
      "execution_count": null,
      "id": "5d742b21-b4f4-4e15-97cd-e4e477959d42",
      "metadata": {
        "id": "5d742b21-b4f4-4e15-97cd-e4e477959d42",
        "outputId": "25c156d2-4143-4fc8-ad06-8ea0e8a2302b"
      },
      "outputs": [
        {
          "data": {
            "text/html": [
              "<div>\n",
              "<style scoped>\n",
              "    .dataframe tbody tr th:only-of-type {\n",
              "        vertical-align: middle;\n",
              "    }\n",
              "\n",
              "    .dataframe tbody tr th {\n",
              "        vertical-align: top;\n",
              "    }\n",
              "\n",
              "    .dataframe thead th {\n",
              "        text-align: right;\n",
              "    }\n",
              "</style>\n",
              "<table border=\"1\" class=\"dataframe\">\n",
              "  <thead>\n",
              "    <tr style=\"text-align: right;\">\n",
              "      <th></th>\n",
              "      <th>num_of_calls</th>\n",
              "      <th>num_of_sales</th>\n",
              "    </tr>\n",
              "  </thead>\n",
              "  <tbody>\n",
              "    <tr>\n",
              "      <th>num_of_calls</th>\n",
              "      <td>1.000000</td>\n",
              "      <td>0.835949</td>\n",
              "    </tr>\n",
              "    <tr>\n",
              "      <th>num_of_sales</th>\n",
              "      <td>0.835949</td>\n",
              "      <td>1.000000</td>\n",
              "    </tr>\n",
              "  </tbody>\n",
              "</table>\n",
              "</div>"
            ],
            "text/plain": [
              "              num_of_calls  num_of_sales\n",
              "num_of_calls      1.000000      0.835949\n",
              "num_of_sales      0.835949      1.000000"
            ]
          },
          "execution_count": 17,
          "metadata": {},
          "output_type": "execute_result"
        }
      ],
      "source": [
        "df.corr(method='spearman')"
      ]
    }
  ],
  "metadata": {
    "kernelspec": {
      "display_name": "Python 3 (ipykernel)",
      "language": "python",
      "name": "python3"
    },
    "language_info": {
      "codemirror_mode": {
        "name": "ipython",
        "version": 3
      },
      "file_extension": ".py",
      "mimetype": "text/x-python",
      "name": "python",
      "nbconvert_exporter": "python",
      "pygments_lexer": "ipython3",
      "version": "3.10.8"
    },
    "colab": {
      "provenance": [],
      "include_colab_link": true
    }
  },
  "nbformat": 4,
  "nbformat_minor": 5
}