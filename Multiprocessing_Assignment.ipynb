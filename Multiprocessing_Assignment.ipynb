{
  "nbformat": 4,
  "nbformat_minor": 0,
  "metadata": {
    "colab": {
      "provenance": []
    },
    "kernelspec": {
      "name": "python3",
      "display_name": "Python 3"
    },
    "language_info": {
      "name": "python"
    }
  },
  "cells": [
    {
      "cell_type": "markdown",
      "source": [
        "Q1. What is multiprocessing in python? Why is it useful?"
      ],
      "metadata": {
        "id": "wXv473MFKbx1"
      }
    },
    {
      "cell_type": "code",
      "source": [],
      "metadata": {
        "id": "2kx9Y08oKdiU"
      },
      "execution_count": null,
      "outputs": []
    },
    {
      "cell_type": "markdown",
      "source": [
        "Q2. What are the differences between multiprocessing and multithreading?"
      ],
      "metadata": {
        "id": "fChi_wavKeJW"
      }
    },
    {
      "cell_type": "code",
      "source": [],
      "metadata": {
        "id": "4e2haZtYKgBd"
      },
      "execution_count": null,
      "outputs": []
    },
    {
      "cell_type": "markdown",
      "source": [
        "Q3. Write a python code to create a process using the multiprocessing module."
      ],
      "metadata": {
        "id": "K0oaCF-PKgz_"
      }
    },
    {
      "cell_type": "code",
      "source": [],
      "metadata": {
        "id": "47kMDxB4KjAs"
      },
      "execution_count": null,
      "outputs": []
    },
    {
      "cell_type": "markdown",
      "source": [
        "Q4. What is a multiprocessing pool in python? Why is it used?"
      ],
      "metadata": {
        "id": "MKk_5kVvKkAg"
      }
    },
    {
      "cell_type": "code",
      "source": [],
      "metadata": {
        "id": "xRctTEzvKlu5"
      },
      "execution_count": null,
      "outputs": []
    },
    {
      "cell_type": "markdown",
      "source": [
        "Q5. How can we create a pool of worker processes in python using the multiprocessing module?"
      ],
      "metadata": {
        "id": "_b4xsG_YKn2I"
      }
    },
    {
      "cell_type": "code",
      "source": [],
      "metadata": {
        "id": "PEl-72c4KomA"
      },
      "execution_count": null,
      "outputs": []
    },
    {
      "cell_type": "markdown",
      "source": [
        "Q6. Write a python program to create 4 processes, each process should print a different number using the\n",
        "multiprocessing module in python."
      ],
      "metadata": {
        "id": "S1PPpf5DKpH2"
      }
    },
    {
      "cell_type": "code",
      "source": [],
      "metadata": {
        "id": "JVwvjwRcKwB_"
      },
      "execution_count": null,
      "outputs": []
    }
  ]
}