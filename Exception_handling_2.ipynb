{
  "nbformat": 4,
  "nbformat_minor": 0,
  "metadata": {
    "colab": {
      "provenance": [],
      "authorship_tag": "ABX9TyM+EM5XENWXco7tGAy9x6i5",
      "include_colab_link": true
    },
    "kernelspec": {
      "name": "python3",
      "display_name": "Python 3"
    },
    "language_info": {
      "name": "python"
    }
  },
  "cells": [
    {
      "cell_type": "markdown",
      "metadata": {
        "id": "view-in-github",
        "colab_type": "text"
      },
      "source": [
        "<a href=\"https://colab.research.google.com/github/iamkarandeepsingh/PhysicsWallah/blob/main/Exception_handling_2.ipynb\" target=\"_parent\"><img src=\"https://colab.research.google.com/assets/colab-badge.svg\" alt=\"Open In Colab\"/></a>"
      ]
    },
    {
      "cell_type": "markdown",
      "source": [
        "Q1. Explain why we have to use the Exception class while creating a Custom Exception.\n",
        "\n",
        "Note: Here Exception class refers to the base class for all the exceptions."
      ],
      "metadata": {
        "id": "SArbXDV-icSo"
      }
    },
    {
      "cell_type": "markdown",
      "source": [
        "Ans1. We use Exception class to inherit all the properties of Super Class Exception into the custom exception."
      ],
      "metadata": {
        "id": "T7h5mgSEi8L8"
      }
    },
    {
      "cell_type": "markdown",
      "source": [
        "Q2. Write a python program to print Python Exception Hierarchy."
      ],
      "metadata": {
        "id": "IyH-GK_Wimpv"
      }
    },
    {
      "cell_type": "code",
      "source": [
        "dir (Exception)"
      ],
      "metadata": {
        "colab": {
          "base_uri": "https://localhost:8080/"
        },
        "id": "J8SxUmO1m0M1",
        "outputId": "8afc7aef-78f8-4637-b4ea-35f52acdd2fd"
      },
      "execution_count": 1,
      "outputs": [
        {
          "output_type": "execute_result",
          "data": {
            "text/plain": [
              "['__cause__',\n",
              " '__class__',\n",
              " '__context__',\n",
              " '__delattr__',\n",
              " '__dict__',\n",
              " '__dir__',\n",
              " '__doc__',\n",
              " '__eq__',\n",
              " '__format__',\n",
              " '__ge__',\n",
              " '__getattribute__',\n",
              " '__gt__',\n",
              " '__hash__',\n",
              " '__init__',\n",
              " '__init_subclass__',\n",
              " '__le__',\n",
              " '__lt__',\n",
              " '__ne__',\n",
              " '__new__',\n",
              " '__reduce__',\n",
              " '__reduce_ex__',\n",
              " '__repr__',\n",
              " '__setattr__',\n",
              " '__setstate__',\n",
              " '__sizeof__',\n",
              " '__str__',\n",
              " '__subclasshook__',\n",
              " '__suppress_context__',\n",
              " '__traceback__',\n",
              " 'args',\n",
              " 'with_traceback']"
            ]
          },
          "metadata": {},
          "execution_count": 1
        }
      ]
    },
    {
      "cell_type": "markdown",
      "source": [
        "Q3. What errors are defined in the ArithmeticError class? Explain any two with an example."
      ],
      "metadata": {
        "id": "8QwVlea4im79"
      }
    },
    {
      "cell_type": "markdown",
      "source": [
        "Ans3. Errors with"
      ],
      "metadata": {
        "id": "Qsv7Bq4Nm6JY"
      }
    },
    {
      "cell_type": "markdown",
      "source": [
        "Q4. Why LookupError class is used? Explain with an example KeyError and IndexError."
      ],
      "metadata": {
        "id": "D227BmGbim9T"
      }
    },
    {
      "cell_type": "markdown",
      "source": [
        "Ans4. LookupError Exception is the Base class for errors raised when something can't be found."
      ],
      "metadata": {
        "id": "Nb5ABZoNi_XR"
      }
    },
    {
      "cell_type": "code",
      "source": [
        "#key error\n",
        "try :\n",
        "    d = {\"key\" :\"sudh\" , 1 : [2,3,4,5]}\n",
        "    print(d[\"key2\"])\n",
        "except KeyError as e :\n",
        "    print(e)"
      ],
      "metadata": {
        "colab": {
          "base_uri": "https://localhost:8080/"
        },
        "id": "Q9T8rKUIpcgy",
        "outputId": "a5ba5378-2cde-411b-e5c3-6809de65f48c"
      },
      "execution_count": 2,
      "outputs": [
        {
          "output_type": "stream",
          "name": "stdout",
          "text": [
            "'key2'\n"
          ]
        }
      ]
    },
    {
      "cell_type": "code",
      "source": [
        "#index error\n",
        "try :\n",
        "    l = [2,3,4,5]\n",
        "    print(l[6])\n",
        "except IndexError as e :\n",
        "    print(e)"
      ],
      "metadata": {
        "colab": {
          "base_uri": "https://localhost:8080/"
        },
        "id": "lWEPV5_hpko9",
        "outputId": "b572b76c-069e-458a-8668-4b47ea893770"
      },
      "execution_count": 3,
      "outputs": [
        {
          "output_type": "stream",
          "name": "stdout",
          "text": [
            "list index out of range\n"
          ]
        }
      ]
    },
    {
      "cell_type": "markdown",
      "source": [
        "Q5. Explain ImportError. What is ModuleNotFoundError?"
      ],
      "metadata": {
        "id": "bnkjAGLuiqGJ"
      }
    },
    {
      "cell_type": "markdown",
      "source": [
        "Ans5. An import error is caused when we import a file that generally does not exist.\n",
        "\n",
        "The 'module not found' error is a syntax error that appears when the static import statement cannot find the file at the declared path."
      ],
      "metadata": {
        "id": "fioBiYm7qQbX"
      }
    },
    {
      "cell_type": "markdown",
      "source": [
        "Q6. List down some best practices for exception handling in python."
      ],
      "metadata": {
        "id": "bb7wf0FViqST"
      }
    },
    {
      "cell_type": "code",
      "source": [
        "#use always a specific exception\n",
        "try :\n",
        "    10/0\n",
        "except Exception as e :\n",
        "    print(e)"
      ],
      "metadata": {
        "colab": {
          "base_uri": "https://localhost:8080/"
        },
        "id": "xzVMn_dLtSTw",
        "outputId": "7ec5f264-26ca-43c6-8bb6-4414df575374"
      },
      "execution_count": 4,
      "outputs": [
        {
          "output_type": "stream",
          "name": "stdout",
          "text": [
            "division by zero\n"
          ]
        }
      ]
    },
    {
      "cell_type": "code",
      "source": [
        "#print always a proper message\n",
        "try :\n",
        "    10/0\n",
        "except ZeroDivisionError as e :\n",
        "    print(\"i am trying to handle a zerodivision error\"  , e)"
      ],
      "metadata": {
        "colab": {
          "base_uri": "https://localhost:8080/"
        },
        "id": "TSUKcGl5tS4_",
        "outputId": "d3c3eb61-8cd6-411c-e6fb-4998c7f78fda"
      },
      "execution_count": 5,
      "outputs": [
        {
          "output_type": "stream",
          "name": "stdout",
          "text": [
            "i am trying to handle a zerodivision error division by zero\n"
          ]
        }
      ]
    },
    {
      "cell_type": "code",
      "source": [
        "#always try to log your error\n",
        "import logging\n",
        "logging.basicConfig(filename = \"error.log\" , level = logging.ERROR)\n",
        "try :\n",
        "    10/0\n",
        "except ZeroDivisionError as e :\n",
        "    logging.error(\"i am trying to handle a zerodivision error {} \".format(e) )"
      ],
      "metadata": {
        "colab": {
          "base_uri": "https://localhost:8080/"
        },
        "id": "rBVsste6taAn",
        "outputId": "8eea5292-b2c1-49b5-fd80-ed8ed150ea31"
      },
      "execution_count": 6,
      "outputs": [
        {
          "output_type": "stream",
          "name": "stderr",
          "text": [
            "ERROR:root:i am trying to handle a zerodivision error division by zero \n"
          ]
        }
      ]
    },
    {
      "cell_type": "code",
      "source": [
        "#always avoid to write a multiple exception handling\n",
        "try :\n",
        "    10/0\n",
        "except FileNotFoundError as e :\n",
        "    logging.error(\"i am handling file not found  {} \".format(e) )\n",
        "except AttributeError as e :\n",
        "    logging.error(\"i am handling Attribute error  {} \".format(e) )\n",
        "except ZeroDivisionError as e :\n",
        "    logging.error(\"i am trying to handle a zerodivision error {} \".format(e) )"
      ],
      "metadata": {
        "colab": {
          "base_uri": "https://localhost:8080/"
        },
        "id": "Sv3ILUGxtcB9",
        "outputId": "2fabddc4-8005-46c3-aaff-fdda1e88dcce"
      },
      "execution_count": 7,
      "outputs": [
        {
          "output_type": "stream",
          "name": "stderr",
          "text": [
            "ERROR:root:i am trying to handle a zerodivision error division by zero \n"
          ]
        }
      ]
    },
    {
      "cell_type": "code",
      "source": [
        "#Document all the error\n",
        "#cleanup all the resources\n",
        "try :\n",
        "    with open(\"test.txt\" , 'w') as f :\n",
        "        f.write(\"this is my data to file \" )\n",
        "except FileNotFoundError as e :\n",
        "    logging.error(\"i am handling file not found  {} \".format(e) )\n",
        "finally :\n",
        "    f.close()"
      ],
      "metadata": {
        "id": "jtbGSyqptiBI"
      },
      "execution_count": 8,
      "outputs": []
    }
  ]
}