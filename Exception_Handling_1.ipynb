{
  "nbformat": 4,
  "nbformat_minor": 0,
  "metadata": {
    "colab": {
      "provenance": [],
      "authorship_tag": "ABX9TyP4vA+s902qhsu7sr+y7yXh",
      "include_colab_link": true
    },
    "kernelspec": {
      "name": "python3",
      "display_name": "Python 3"
    },
    "language_info": {
      "name": "python"
    }
  },
  "cells": [
    {
      "cell_type": "markdown",
      "metadata": {
        "id": "view-in-github",
        "colab_type": "text"
      },
      "source": [
        "<a href=\"https://colab.research.google.com/github/iamkarandeepsingh/PhysicsWallah/blob/main/Exception_Handling_1.ipynb\" target=\"_parent\"><img src=\"https://colab.research.google.com/assets/colab-badge.svg\" alt=\"Open In Colab\"/></a>"
      ]
    },
    {
      "cell_type": "markdown",
      "source": [
        "Q1. What is an Exception in python? Write the difference between Exceptions and Syntax errors."
      ],
      "metadata": {
        "id": "Sd5_WsAhEorK"
      }
    },
    {
      "cell_type": "markdown",
      "source": [
        "Ans1. An exception is caused when due to the error in the above code leads to cause errors in the following codes even if there might not be any syntactial or any other types or errors in the following lines of codes\n",
        "\n",
        "On the other hand syntax errors are those types of errors that are caused due to mistakes in the source code such as indentation error, punctuation errors and so on."
      ],
      "metadata": {
        "id": "7-GcHVHLgLdP"
      }
    },
    {
      "cell_type": "markdown",
      "source": [
        "Q2. What happens when an exception is not handled? Explain with\n",
        "an example.\n"
      ],
      "metadata": {
        "id": "mgn_uZrVFOw5"
      }
    },
    {
      "cell_type": "markdown",
      "source": [
        "Ans2. When an exception is not handled it causes all below codes to form an error. In the given example text.txt can not be until writing something in it.Therefore causing an error statement. But on the other side the next line of statement i.e. print statement is not having any error but due to the error statement in the above line it is not able to excute."
      ],
      "metadata": {
        "id": "tElCX0H0tFTi"
      }
    },
    {
      "cell_type": "code",
      "source": [
        "d = open(\"text.txt\",\"r\")\n",
        "print(\"This is my print.\")"
      ],
      "metadata": {
        "colab": {
          "base_uri": "https://localhost:8080/",
          "height": 187
        },
        "id": "mJWQPY5cFnmU",
        "outputId": "10682ee8-4179-4079-fadc-308e1df89552"
      },
      "execution_count": null,
      "outputs": [
        {
          "output_type": "error",
          "ename": "FileNotFoundError",
          "evalue": "ignored",
          "traceback": [
            "\u001b[0;31m---------------------------------------------------------------------------\u001b[0m",
            "\u001b[0;31mFileNotFoundError\u001b[0m                         Traceback (most recent call last)",
            "\u001b[0;32m<ipython-input-1-7a4361d32a63>\u001b[0m in \u001b[0;36m<cell line: 1>\u001b[0;34m()\u001b[0m\n\u001b[0;32m----> 1\u001b[0;31m \u001b[0md\u001b[0m \u001b[0;34m=\u001b[0m \u001b[0mopen\u001b[0m\u001b[0;34m(\u001b[0m\u001b[0;34m\"text.txt\"\u001b[0m\u001b[0;34m,\u001b[0m\u001b[0;34m\"r\"\u001b[0m\u001b[0;34m)\u001b[0m\u001b[0;34m\u001b[0m\u001b[0;34m\u001b[0m\u001b[0m\n\u001b[0m\u001b[1;32m      2\u001b[0m \u001b[0mprint\u001b[0m\u001b[0;34m(\u001b[0m\u001b[0;34m\"This is my print.\"\u001b[0m\u001b[0;34m)\u001b[0m\u001b[0;34m\u001b[0m\u001b[0;34m\u001b[0m\u001b[0m\n",
            "\u001b[0;31mFileNotFoundError\u001b[0m: [Errno 2] No such file or directory: 'text.txt'"
          ]
        }
      ]
    },
    {
      "cell_type": "markdown",
      "source": [
        "Q3. Which python statement is used to catch and handle exceptions? Explain with example."
      ],
      "metadata": {
        "id": "iAvOKKL3FoRJ"
      }
    },
    {
      "cell_type": "markdown",
      "source": [
        "Ans3. Try and except statements are used to handle exceptions."
      ],
      "metadata": {
        "id": "-ZlTrCp7wp_X"
      }
    },
    {
      "cell_type": "code",
      "source": [
        "try:\n",
        "  q= open(\"text1.txt\",'r')\n",
        "except Exception as a:\n",
        "  print(\"This is an exception\",a )"
      ],
      "metadata": {
        "id": "KW9DAnnTF6Pc",
        "colab": {
          "base_uri": "https://localhost:8080/"
        },
        "outputId": "408d988b-655a-41df-fb24-dcf689c26426"
      },
      "execution_count": null,
      "outputs": [
        {
          "output_type": "stream",
          "name": "stdout",
          "text": [
            "This is an exception [Errno 2] No such file or directory: 'text1.txt'\n"
          ]
        }
      ]
    },
    {
      "cell_type": "markdown",
      "source": [
        "Q4. Explain with an example\n",
        "\n",
        "a. try and else\n",
        "\n",
        "b. finally\n",
        "\n",
        "c. raise\n"
      ],
      "metadata": {
        "id": "llP79hRjF6qT"
      }
    },
    {
      "cell_type": "code",
      "source": [
        "# try and else\n",
        "try:\n",
        "  q= open(\"text1.txt\",'w')\n",
        "except Exception as a:\n",
        "  print(\"This is an exception\",a )\n",
        "else:\n",
        "  q.close()\n",
        "  print(\"This is an else statement in exception handling.\")"
      ],
      "metadata": {
        "id": "CsVVnrJzGNc8",
        "colab": {
          "base_uri": "https://localhost:8080/"
        },
        "outputId": "91da4119-7ea6-47e7-e695-e3bab65a9a63"
      },
      "execution_count": null,
      "outputs": [
        {
          "output_type": "stream",
          "name": "stdout",
          "text": [
            "This is an else statement in exception handling.\n"
          ]
        }
      ]
    },
    {
      "cell_type": "code",
      "source": [
        "#finally\n",
        "try:\n",
        "  q= open(\"text1.txt\",'r')\n",
        "except Exception as a:\n",
        "  print(\"This is an exception\",a )\n",
        "finally:\n",
        "  print(\"This statement will print no matter what error any of the above statements indicate\")"
      ],
      "metadata": {
        "colab": {
          "base_uri": "https://localhost:8080/"
        },
        "id": "b-a_oQQ6On10",
        "outputId": "b60516b3-129b-4390-e335-a8b721b0bb65"
      },
      "execution_count": null,
      "outputs": [
        {
          "output_type": "stream",
          "name": "stdout",
          "text": [
            "This statement will print no matter what error any of the above statements indicate\n"
          ]
        }
      ]
    },
    {
      "cell_type": "code",
      "source": [
        "#raise\n",
        "class validateage(Exception):\n",
        "\n",
        "  def __init__(self, msg):\n",
        "    self.msg = msg"
      ],
      "metadata": {
        "id": "Naw5RSJPO89A"
      },
      "execution_count": null,
      "outputs": []
    },
    {
      "cell_type": "code",
      "source": [
        "def validate_age(age):\n",
        "\n",
        "  if age < 0:\n",
        "    raise validateage (\"You entered a negative age\")\n",
        "\n",
        "  elif age > 200:\n",
        "    raise validateage (\"You entered very long age\")\n",
        "\n",
        "  else:\n",
        "    print (\"Age is valid\")"
      ],
      "metadata": {
        "id": "nhcSqBkLYfYI"
      },
      "execution_count": null,
      "outputs": []
    },
    {
      "cell_type": "code",
      "source": [
        "try:\n",
        "  age= int(input(\"Enter your age\"))\n",
        "  validate_age(age)\n",
        "except validateage as a:\n",
        "  print(a)"
      ],
      "metadata": {
        "colab": {
          "base_uri": "https://localhost:8080/"
        },
        "id": "5mqQomDmZMO6",
        "outputId": "1f98b457-1e19-4a6a-ef36-f04efc2234d7"
      },
      "execution_count": null,
      "outputs": [
        {
          "output_type": "stream",
          "name": "stdout",
          "text": [
            "Enter your age-90\n",
            "You entered a negative age\n"
          ]
        }
      ]
    },
    {
      "cell_type": "markdown",
      "source": [
        "Q5. What are custom exceptions in python? Why do we need custom exceptions? Explain with example."
      ],
      "metadata": {
        "id": "jjE3zHYvGYEQ"
      }
    },
    {
      "cell_type": "markdown",
      "source": [
        "Ans5. Custom exceptions are those exceptions that are not availabe in Exception Superclass. We need to have custom exceptions because if we need to create a exception that is not available in Exception Superclass we can do so. Basicially we need to make a custom class and inherit exception class properties to do so."
      ],
      "metadata": {
        "id": "ZPMFfXPVaAKH"
      }
    },
    {
      "cell_type": "code",
      "source": [
        "#For Example\n",
        "class validateage(Exception):\n",
        "\n",
        "  def __init__(self, msg):\n",
        "    self.msg = msg"
      ],
      "metadata": {
        "id": "UB3SMeZjGheZ"
      },
      "execution_count": null,
      "outputs": []
    },
    {
      "cell_type": "code",
      "source": [
        "def validate_age(age):\n",
        "\n",
        "  if age < 0:\n",
        "    raise validateage (\"You entered a negative age.\")\n",
        "\n",
        "  elif age > 200:\n",
        "    raise validateage (\"You entered very long age.\")\n",
        "\n",
        "  else:\n",
        "    print (\"Age is valid\")"
      ],
      "metadata": {
        "id": "xB3vN-zEasTP"
      },
      "execution_count": null,
      "outputs": []
    },
    {
      "cell_type": "code",
      "source": [
        "try:\n",
        "  age= int(input(\"Enter your age: \"))\n",
        "  validate_age(age)\n",
        "except validateage as a:\n",
        "  print(a)"
      ],
      "metadata": {
        "colab": {
          "base_uri": "https://localhost:8080/"
        },
        "id": "WrGlihgQawyW",
        "outputId": "deec57e6-74be-466a-c442-8e5a395918c8"
      },
      "execution_count": null,
      "outputs": [
        {
          "output_type": "stream",
          "name": "stdout",
          "text": [
            "Enter your age: 789\n",
            "You entered very long age.\n"
          ]
        }
      ]
    },
    {
      "cell_type": "markdown",
      "source": [
        "Q6. Create a custom exception class. Use this class to handle an exception."
      ],
      "metadata": {
        "id": "1h9IydYSGiNu"
      }
    },
    {
      "cell_type": "code",
      "source": [
        "class validateage(Exception):\n",
        "\n",
        "  def __init__(self, msg):\n",
        "    self.msg = msg"
      ],
      "metadata": {
        "id": "25B63UUKawTk"
      },
      "execution_count": null,
      "outputs": []
    },
    {
      "cell_type": "code",
      "source": [
        "def validate_age(age):\n",
        "\n",
        "  if age < 0:\n",
        "    raise validateage (\"You entered a negative age.\")\n",
        "\n",
        "  elif age > 200:\n",
        "    raise validateage (\"You entered very long age.\")\n",
        "\n",
        "  else:\n",
        "    print (\"Age is valid\")"
      ],
      "metadata": {
        "id": "WmFbKYrtbpVx"
      },
      "execution_count": null,
      "outputs": []
    },
    {
      "cell_type": "code",
      "source": [
        "try:\n",
        "  age= int(input(\"Enter your age: \"))\n",
        "  validate_age(age)\n",
        "except validateage as a:\n",
        "  print(a)"
      ],
      "metadata": {
        "colab": {
          "base_uri": "https://localhost:8080/"
        },
        "id": "FJ7Khy9Cbu2i",
        "outputId": "97ddb0d4-be41-482b-862a-ebe15ed6a9a7"
      },
      "execution_count": null,
      "outputs": [
        {
          "output_type": "stream",
          "name": "stdout",
          "text": [
            "Enter your age: 90\n",
            "Age is valid\n"
          ]
        }
      ]
    },
    {
      "cell_type": "code",
      "source": [],
      "metadata": {
        "id": "yCiltZ3Fbyr2"
      },
      "execution_count": null,
      "outputs": []
    }
  ]
}