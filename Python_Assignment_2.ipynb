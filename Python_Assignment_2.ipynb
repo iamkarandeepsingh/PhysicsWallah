{
  "nbformat": 4,
  "nbformat_minor": 0,
  "metadata": {
    "colab": {
      "provenance": []
    },
    "kernelspec": {
      "name": "python3",
      "display_name": "Python 3"
    },
    "language_info": {
      "name": "python"
    }
  },
  "cells": [
    {
      "cell_type": "markdown",
      "source": [
        "Q1. Create a python program to sort the given list of tuples based on integer value using a\n",
        "lambda function.\n",
        "[('Sachin Tendulkar', 34357), ('Ricky Ponting', 27483), ('Jack Kallis', 25534), ('Virat Kohli', 24936)]"
      ],
      "metadata": {
        "id": "WQk4H3jDaLb6"
      }
    },
    {
      "cell_type": "code",
      "source": [
        "players = [('Sachin Tendulkar', 34357), ('Ricky Ponting', 27483), ('Jack Kallis', 25534), ('Virat Kohli', 24936)]"
      ],
      "metadata": {
        "id": "I9OZb74daPPk"
      },
      "execution_count": 38,
      "outputs": []
    },
    {
      "cell_type": "code",
      "source": [
        "sort=(lambda x: x[1])"
      ],
      "metadata": {
        "id": "ZJoDeIPpc9y4"
      },
      "execution_count": 39,
      "outputs": []
    },
    {
      "cell_type": "code",
      "source": [
        "players"
      ],
      "metadata": {
        "colab": {
          "base_uri": "https://localhost:8080/"
        },
        "id": "1gB7GFEvdFRt",
        "outputId": "36590cb7-85a3-483f-b3fc-23187b50927d"
      },
      "execution_count": 40,
      "outputs": [
        {
          "output_type": "execute_result",
          "data": {
            "text/plain": [
              "[('Sachin Tendulkar', 34357),\n",
              " ('Ricky Ponting', 27483),\n",
              " ('Jack Kallis', 25534),\n",
              " ('Virat Kohli', 24936)]"
            ]
          },
          "metadata": {},
          "execution_count": 40
        }
      ]
    },
    {
      "cell_type": "markdown",
      "source": [
        "Q2. Write a Python Program to find the squares of all the numbers in the given list of integers using\n",
        "lambda and map functions.\n",
        "[1, 2, 3, 4, 5, 6, 7, 8, 9, 10]"
      ],
      "metadata": {
        "id": "fs9qtDgtafxL"
      }
    },
    {
      "cell_type": "code",
      "source": [
        "l=[1,2,3,4,5,6,7,8,9,10]"
      ],
      "metadata": {
        "id": "aa6kdtSSajgd"
      },
      "execution_count": 41,
      "outputs": []
    },
    {
      "cell_type": "code",
      "source": [
        "l"
      ],
      "metadata": {
        "colab": {
          "base_uri": "https://localhost:8080/"
        },
        "id": "LdWMC4zVbFCn",
        "outputId": "b7e15457-d4e8-4e3d-96df-9c885452556a"
      },
      "execution_count": 42,
      "outputs": [
        {
          "output_type": "execute_result",
          "data": {
            "text/plain": [
              "[1, 2, 3, 4, 5, 6, 7, 8, 9, 10]"
            ]
          },
          "metadata": {},
          "execution_count": 42
        }
      ]
    },
    {
      "cell_type": "code",
      "source": [
        "list(map(lambda l: l**2,l))"
      ],
      "metadata": {
        "colab": {
          "base_uri": "https://localhost:8080/"
        },
        "id": "-nFCeRCqbHq3",
        "outputId": "07a6af08-c557-40f8-9300-fd73b4982b80"
      },
      "execution_count": 43,
      "outputs": [
        {
          "output_type": "execute_result",
          "data": {
            "text/plain": [
              "[1, 4, 9, 16, 25, 36, 49, 64, 81, 100]"
            ]
          },
          "metadata": {},
          "execution_count": 43
        }
      ]
    },
    {
      "cell_type": "markdown",
      "source": [
        "Q3. Write a python program to convert the given list of integers into a tuple of strings. Use map and\n",
        "lambda functions\n",
        "Given String: [1, 2, 3, 4, 5, 6, 7, 8, 9, 10]\n",
        "Expected output: ('1', '2', '3', '4', '5', '6', '7', '8', '9', '10')"
      ],
      "metadata": {
        "id": "A8L9mKQ6akcB"
      }
    },
    {
      "cell_type": "code",
      "source": [
        "l=[1,2,3,4,5,6,7,8,9,10]"
      ],
      "metadata": {
        "id": "_S2ogAoJbGvP"
      },
      "execution_count": 44,
      "outputs": []
    },
    {
      "cell_type": "code",
      "source": [
        "l"
      ],
      "metadata": {
        "colab": {
          "base_uri": "https://localhost:8080/"
        },
        "id": "s1pIu7iAanap",
        "outputId": "83f95854-ebcb-4ab5-fb4f-ecf90574d466"
      },
      "execution_count": 45,
      "outputs": [
        {
          "output_type": "execute_result",
          "data": {
            "text/plain": [
              "[1, 2, 3, 4, 5, 6, 7, 8, 9, 10]"
            ]
          },
          "metadata": {},
          "execution_count": 45
        }
      ]
    },
    {
      "cell_type": "code",
      "source": [
        "tuple(map(lambda l: str(l),l))"
      ],
      "metadata": {
        "colab": {
          "base_uri": "https://localhost:8080/"
        },
        "id": "21Zcz6tfbuhI",
        "outputId": "c8205395-69ff-4beb-9ea7-21e14502eb7a"
      },
      "execution_count": 46,
      "outputs": [
        {
          "output_type": "execute_result",
          "data": {
            "text/plain": [
              "('1', '2', '3', '4', '5', '6', '7', '8', '9', '10')"
            ]
          },
          "metadata": {},
          "execution_count": 46
        }
      ]
    },
    {
      "cell_type": "markdown",
      "source": [
        "Q4. Write a python program using reduce function to compute the product of a list containing numbers\n",
        "from 1 to 25."
      ],
      "metadata": {
        "id": "_NyuP2l5asDD"
      }
    },
    {
      "cell_type": "code",
      "source": [
        "from functools import reduce"
      ],
      "metadata": {
        "id": "hJ9IFZzAeKSn"
      },
      "execution_count": 47,
      "outputs": []
    },
    {
      "cell_type": "code",
      "source": [
        "l=list(range(1,26))"
      ],
      "metadata": {
        "id": "emX-YfrxaszX"
      },
      "execution_count": 48,
      "outputs": []
    },
    {
      "cell_type": "code",
      "source": [
        "l"
      ],
      "metadata": {
        "colab": {
          "base_uri": "https://localhost:8080/"
        },
        "id": "fs1Q0hbRcMAk",
        "outputId": "994d7bf0-f8d5-4e3c-8dc6-2221a2d6c39a"
      },
      "execution_count": 49,
      "outputs": [
        {
          "output_type": "execute_result",
          "data": {
            "text/plain": [
              "[1,\n",
              " 2,\n",
              " 3,\n",
              " 4,\n",
              " 5,\n",
              " 6,\n",
              " 7,\n",
              " 8,\n",
              " 9,\n",
              " 10,\n",
              " 11,\n",
              " 12,\n",
              " 13,\n",
              " 14,\n",
              " 15,\n",
              " 16,\n",
              " 17,\n",
              " 18,\n",
              " 19,\n",
              " 20,\n",
              " 21,\n",
              " 22,\n",
              " 23,\n",
              " 24,\n",
              " 25]"
            ]
          },
          "metadata": {},
          "execution_count": 49
        }
      ]
    },
    {
      "cell_type": "code",
      "source": [
        "reduce(lambda x,y: x*y,l)"
      ],
      "metadata": {
        "colab": {
          "base_uri": "https://localhost:8080/"
        },
        "id": "-Efn1wBpea-2",
        "outputId": "07d3e6b1-3932-4c23-c9a3-98017723e40d"
      },
      "execution_count": 50,
      "outputs": [
        {
          "output_type": "execute_result",
          "data": {
            "text/plain": [
              "15511210043330985984000000"
            ]
          },
          "metadata": {},
          "execution_count": 50
        }
      ]
    },
    {
      "cell_type": "markdown",
      "source": [
        "Q5. Write a python program to filter the numbers in a given list that are divisible by 2 and 3 using the\n",
        "filter function.\n",
        "[2, 3, 6, 9, 27, 60, 90, 120, 55, 46]"
      ],
      "metadata": {
        "id": "ULJz_es7awYK"
      }
    },
    {
      "cell_type": "code",
      "source": [
        "l=[2,3,6,9,27,60,90,120,55,46]"
      ],
      "metadata": {
        "id": "FO4kX7WraxFl"
      },
      "execution_count": 51,
      "outputs": []
    },
    {
      "cell_type": "code",
      "source": [
        "l"
      ],
      "metadata": {
        "colab": {
          "base_uri": "https://localhost:8080/"
        },
        "id": "dUDSrb8PfAjF",
        "outputId": "185e3c5a-a386-42f7-f46f-fd36b3464a93"
      },
      "execution_count": 52,
      "outputs": [
        {
          "output_type": "execute_result",
          "data": {
            "text/plain": [
              "[2, 3, 6, 9, 27, 60, 90, 120, 55, 46]"
            ]
          },
          "metadata": {},
          "execution_count": 52
        }
      ]
    },
    {
      "cell_type": "code",
      "source": [
        "list(filter(lambda x: x%2==0 and x%3==0, l))"
      ],
      "metadata": {
        "colab": {
          "base_uri": "https://localhost:8080/"
        },
        "id": "h72R95ZHfA3D",
        "outputId": "d51f9ffe-5b5d-4c1e-cb0f-93248f37f2f3"
      },
      "execution_count": 53,
      "outputs": [
        {
          "output_type": "execute_result",
          "data": {
            "text/plain": [
              "[6, 60, 90, 120]"
            ]
          },
          "metadata": {},
          "execution_count": 53
        }
      ]
    },
    {
      "cell_type": "markdown",
      "source": [
        "Q6. Write a python program to find palindromes in the given list of strings using lambda and filter\n",
        "function.\n",
        "['python', 'php', 'aba', 'radar', 'level']"
      ],
      "metadata": {
        "id": "ViyMTTH5az8_"
      }
    },
    {
      "cell_type": "code",
      "source": [
        "l=['python', 'php', 'aba', 'radar', 'level']"
      ],
      "metadata": {
        "id": "fAtkQGnua0lC"
      },
      "execution_count": 54,
      "outputs": []
    },
    {
      "cell_type": "code",
      "source": [
        "l"
      ],
      "metadata": {
        "colab": {
          "base_uri": "https://localhost:8080/"
        },
        "id": "A4at-tCAfk2u",
        "outputId": "6c670020-3b06-4217-f509-9e852a04525a"
      },
      "execution_count": 55,
      "outputs": [
        {
          "output_type": "execute_result",
          "data": {
            "text/plain": [
              "['python', 'php', 'aba', 'radar', 'level']"
            ]
          },
          "metadata": {},
          "execution_count": 55
        }
      ]
    },
    {
      "cell_type": "code",
      "source": [
        "list(filter(lambda s: s==s[::-1],l))"
      ],
      "metadata": {
        "colab": {
          "base_uri": "https://localhost:8080/"
        },
        "id": "TOOe3wJDflcz",
        "outputId": "60636dcf-750c-4c57-df77-84e67e30f47a"
      },
      "execution_count": 56,
      "outputs": [
        {
          "output_type": "execute_result",
          "data": {
            "text/plain": [
              "['php', 'aba', 'radar', 'level']"
            ]
          },
          "metadata": {},
          "execution_count": 56
        }
      ]
    }
  ]
}