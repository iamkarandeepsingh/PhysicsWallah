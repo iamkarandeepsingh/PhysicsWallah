{
  "nbformat": 4,
  "nbformat_minor": 0,
  "metadata": {
    "colab": {
      "provenance": [],
      "authorship_tag": "ABX9TyM6ym7jQyinYEWienW/m/Hh",
      "include_colab_link": true
    },
    "kernelspec": {
      "name": "python3",
      "display_name": "Python 3"
    },
    "language_info": {
      "name": "python"
    }
  },
  "cells": [
    {
      "cell_type": "markdown",
      "metadata": {
        "id": "view-in-github",
        "colab_type": "text"
      },
      "source": [
        "<a href=\"https://colab.research.google.com/github/iamkarandeepsingh/PhysicsWallah/blob/main/Abstraction_and_Encapsulation.ipynb\" target=\"_parent\"><img src=\"https://colab.research.google.com/assets/colab-badge.svg\" alt=\"Open In Colab\"/></a>"
      ]
    },
    {
      "cell_type": "markdown",
      "source": [
        "Q1. What is Abstraction in OOps? Explain with an example."
      ],
      "metadata": {
        "id": "iT_7D1vGl-p7"
      }
    },
    {
      "cell_type": "markdown",
      "source": [
        "Ans1. Abstraction in object-oriented programming (OOP) is a concept that focuses on hiding unnecessary details and exposing only essential information and functionality to the user. It allows us to create a simplified and more manageable representation of real-world entities by defining abstract classes or interfaces.\n",
        "\n",
        "Abstraction helps in managing complexity by providing a high-level view of objects and their interactions. It allows us to work with objects at a conceptual level, without worrying about the internal implementation details."
      ],
      "metadata": {
        "id": "aW1LnVJGmBjk"
      }
    },
    {
      "cell_type": "code",
      "execution_count": 1,
      "metadata": {
        "id": "5iKmdQfLl8z0"
      },
      "outputs": [],
      "source": [
        "from abc import ABC, abstractmethod\n",
        "\n",
        "class Shape(ABC):\n",
        "    @abstractmethod\n",
        "    def area(self):\n",
        "        pass\n",
        "\n",
        "    @abstractmethod\n",
        "    def perimeter(self):\n",
        "        pass\n",
        "\n",
        "class Rectangle(Shape):\n",
        "    def __init__(self, length, width):\n",
        "        self.length = length\n",
        "        self.width = width\n",
        "\n",
        "    def area(self):\n",
        "        return self.length * self.width\n",
        "\n",
        "    def perimeter(self):\n",
        "        return 2 * (self.length + self.width)\n",
        "\n",
        "class Circle(Shape):\n",
        "    def __init__(self, radius):\n",
        "        self.radius = radius\n",
        "\n",
        "    def area(self):\n",
        "        return 3.14 * self.radius**2\n",
        "\n",
        "    def perimeter(self):\n",
        "        return 2 * 3.14 * self.radius"
      ]
    },
    {
      "cell_type": "markdown",
      "source": [
        "Q2. Differentiate between Abstraction and Encapsulation. Explain with an example."
      ],
      "metadata": {
        "id": "7pClPGTbmYCQ"
      }
    },
    {
      "cell_type": "markdown",
      "source": [
        "Ans2. Abstraction and encapsulation are two important concepts in object-oriented programming (OOP), but they serve different purposes. Let's differentiate between them and provide examples for better understanding:\n",
        "\n",
        "Abstraction:\n",
        "\n",
        "Abstraction focuses on providing a high-level view of objects and their interactions while hiding unnecessary details.\n",
        "It allows us to create simplified and more manageable representations of real-world entities by defining abstract classes or interfaces.\n",
        "Abstraction helps in managing complexity and enables us to work with objects at a conceptual level.\n",
        "It provides a way to define common characteristics and behaviors of objects through abstract classes or interfaces.\n",
        "Example: In a banking system, we may have different types of accounts like savings account, current account, and fixed deposit account. We can define an abstract class called Account that declares common methods like deposit(), withdraw(), and getBalance(). The subclasses (e.g., SavingsAccount, CurrentAccount) then provide their specific implementations of these methods. The abstraction allows us to treat all types of accounts uniformly at a higher level without worrying about the specific details of each account type.\n",
        "Encapsulation:\n",
        "\n",
        "Encapsulation is the process of hiding the internal details and data of an object, and exposing only the necessary information through methods.\n",
        "It combines the data (attributes) and methods (behaviors) into a single unit (class) and provides control over their accessibility.\n",
        "Encapsulation helps in achieving data abstraction and protects the data from unwanted modifications or direct access.\n",
        "It promotes data integrity and allows us to apply logic or validation rules while accessing or modifying the data.\n",
        "Example: Consider a class called Employee that represents an employee in an organization. The class may have private data members like name, salary, and designation. By encapsulating these data members as private, we can ensure that they are not directly accessible or modified from outside the class. Instead, we provide public methods like getName(), getSalary(), and setSalary() to access and modify the data in a controlled manner. Encapsulation provides encapsulated access to the data and allows us to enforce business rules or validation logic while interacting with the data.\n",
        "In summary, abstraction focuses on providing a high-level view of objects and their interactions by hiding unnecessary details, while encapsulation focuses on bundling data and methods into a single unit (class) and controlling their accessibility. Both concepts play important roles in achieving modular and maintainable code in object-oriented programming."
      ],
      "metadata": {
        "id": "hbFamAEmmg9j"
      }
    },
    {
      "cell_type": "markdown",
      "source": [
        "Q3. What is abc module in python? Why is it used?"
      ],
      "metadata": {
        "id": "0xTWIA5OmrCl"
      }
    },
    {
      "cell_type": "markdown",
      "source": [
        "Ans3 .The abc module in Python stands for \"Abstract Base Classes\". It provides tools for creating abstract base classes, which are classes that cannot be instantiated directly but serve as blueprints for concrete subclasses. The abc module is used to implement and enforce abstract methods and abstract properties in Python."
      ],
      "metadata": {
        "id": "0eGbIbL6mxA7"
      }
    },
    {
      "cell_type": "markdown",
      "source": [
        "Q4. How can we achieve data abstraction?"
      ],
      "metadata": {
        "id": "JKBzD-4DoGKz"
      }
    },
    {
      "cell_type": "markdown",
      "source": [
        "Ans4. In Python, we can achieve data abstraction through the use of abstract classes, interfaces, and access modifiers. Here are some techniques to achieve data abstraction:\n",
        "\n",
        "Abstract Classes: Abstract classes are classes that cannot be instantiated directly and are meant to serve as blueprints for subclasses. They can define abstract methods, which are declared but have no implementation in the abstract class itself. Subclasses must provide implementations for these abstract methods. By defining abstract classes, you can enforce a common interface and abstract away the implementation details.\n",
        "\n",
        "Interfaces: Although Python does not have a built-in interface keyword like some other programming languages, you can achieve interface-like behavior using abstract classes. By defining an abstract class with only abstract methods, you can create a contract or interface that other classes must adhere to. Classes that inherit from this abstract class must implement all the abstract methods, effectively adhering to the interface.\n",
        "\n",
        "Access Modifiers: Python provides access modifiers to control the visibility and accessibility of class members (attributes and methods). By using access modifiers like public, private, and protected, you can restrict direct access to data members and provide controlled access through getter and setter methods. This encapsulation of data ensures that the internal representation is hidden and accessed only through the defined methods, promoting data abstraction."
      ],
      "metadata": {
        "id": "GEzOiq09oOZw"
      }
    },
    {
      "cell_type": "markdown",
      "source": [
        "Q5. Can we create an instance of an abstract class? Explain your answer."
      ],
      "metadata": {
        "id": "U_0EigTsoHRa"
      }
    },
    {
      "cell_type": "code",
      "source": [
        "from abc import ABC, abstractmethod\n",
        "\n",
        "class AbstractClass(ABC):\n",
        "    def __init__(self):\n",
        "        self.public_data = \"Public data\"\n",
        "        self._protected_data = \"Protected data\"\n",
        "        self.__private_data = \"Private data\"\n",
        "\n",
        "    @abstractmethod\n",
        "    def abstract_method(self):\n",
        "        pass\n",
        "\n",
        "    def public_method(self):\n",
        "        print(\"This is a public method.\")\n",
        "\n",
        "    def _protected_method(self):\n",
        "        print(\"This is a protected method.\")\n",
        "\n",
        "    def __private_method(self):\n",
        "        print(\"This is a private method.\")\n",
        "\n",
        "\n",
        "class ConcreteClass(AbstractClass):\n",
        "    def abstract_method(self):\n",
        "        print(\"Concrete implementation of the abstract method.\")\n"
      ],
      "metadata": {
        "id": "xi3JlVLvrxZU"
      },
      "execution_count": 4,
      "outputs": []
    },
    {
      "cell_type": "code",
      "source": [
        "obj = ConcreteClass()"
      ],
      "metadata": {
        "id": "O1_I4yWyrx1N"
      },
      "execution_count": 5,
      "outputs": []
    },
    {
      "cell_type": "code",
      "source": [
        "print(obj.public_data)\n",
        "obj.public_method()"
      ],
      "metadata": {
        "colab": {
          "base_uri": "https://localhost:8080/"
        },
        "id": "-SiYTZ3HrzoP",
        "outputId": "6baf1c1b-a2e2-49c7-c9d0-1d58e03b4429"
      },
      "execution_count": 6,
      "outputs": [
        {
          "output_type": "stream",
          "name": "stdout",
          "text": [
            "Public data\n",
            "This is a public method.\n"
          ]
        }
      ]
    },
    {
      "cell_type": "code",
      "source": [
        "print(obj._protected_data)\n",
        "obj._protected_method()"
      ],
      "metadata": {
        "colab": {
          "base_uri": "https://localhost:8080/"
        },
        "id": "Le1E5nWMr2S9",
        "outputId": "c732a60b-b58b-4654-a9c9-755c25fdedf4"
      },
      "execution_count": 7,
      "outputs": [
        {
          "output_type": "stream",
          "name": "stdout",
          "text": [
            "Protected data\n",
            "This is a protected method.\n"
          ]
        }
      ]
    },
    {
      "cell_type": "code",
      "source": [],
      "metadata": {
        "id": "jRLhFuifr6LA"
      },
      "execution_count": null,
      "outputs": []
    }
  ]
}