{
  "cells": [
    {
      "cell_type": "markdown",
      "metadata": {
        "id": "view-in-github",
        "colab_type": "text"
      },
      "source": [
        "<a href=\"https://colab.research.google.com/github/iamkarandeepsingh/PhysicsWallah/blob/main/Pandas_Assignment_2.ipynb\" target=\"_parent\"><img src=\"https://colab.research.google.com/assets/colab-badge.svg\" alt=\"Open In Colab\"/></a>"
      ]
    },
    {
      "cell_type": "code",
      "execution_count": null,
      "id": "886c7356",
      "metadata": {
        "id": "886c7356"
      },
      "outputs": [],
      "source": [
        "import pandas as pd"
      ]
    },
    {
      "cell_type": "markdown",
      "id": "8970da76",
      "metadata": {
        "id": "8970da76"
      },
      "source": [
        "#### Q1. List any five functions of the pandas library with execution.\n"
      ]
    },
    {
      "cell_type": "markdown",
      "id": "56521c35",
      "metadata": {
        "id": "56521c35"
      },
      "source": [
        "**1. pd.DataFrame()** :   used to create a new dataframe"
      ]
    },
    {
      "cell_type": "code",
      "execution_count": null,
      "id": "07428846",
      "metadata": {
        "id": "07428846",
        "outputId": "267113f3-ce05-4699-b397-5f528039180c"
      },
      "outputs": [
        {
          "data": {
            "text/html": [
              "<div>\n",
              "<style scoped>\n",
              "    .dataframe tbody tr th:only-of-type {\n",
              "        vertical-align: middle;\n",
              "    }\n",
              "\n",
              "    .dataframe tbody tr th {\n",
              "        vertical-align: top;\n",
              "    }\n",
              "\n",
              "    .dataframe thead th {\n",
              "        text-align: right;\n",
              "    }\n",
              "</style>\n",
              "<table border=\"1\" class=\"dataframe\">\n",
              "  <thead>\n",
              "    <tr style=\"text-align: right;\">\n",
              "      <th></th>\n",
              "      <th>0</th>\n",
              "      <th>1</th>\n",
              "      <th>2</th>\n",
              "      <th>3</th>\n",
              "      <th>4</th>\n",
              "    </tr>\n",
              "  </thead>\n",
              "  <tbody>\n",
              "    <tr>\n",
              "      <th>0</th>\n",
              "      <td>3</td>\n",
              "      <td>4</td>\n",
              "      <td>5</td>\n",
              "      <td>6</td>\n",
              "      <td>7</td>\n",
              "    </tr>\n",
              "    <tr>\n",
              "      <th>1</th>\n",
              "      <td>3</td>\n",
              "      <td>0</td>\n",
              "      <td>9</td>\n",
              "      <td>8</td>\n",
              "      <td>7</td>\n",
              "    </tr>\n",
              "    <tr>\n",
              "      <th>2</th>\n",
              "      <td>4</td>\n",
              "      <td>3</td>\n",
              "      <td>5</td>\n",
              "      <td>6</td>\n",
              "      <td>7</td>\n",
              "    </tr>\n",
              "  </tbody>\n",
              "</table>\n",
              "</div>"
            ],
            "text/plain": [
              "   0  1  2  3  4\n",
              "0  3  4  5  6  7\n",
              "1  3  0  9  8  7\n",
              "2  4  3  5  6  7"
            ]
          },
          "execution_count": 2,
          "metadata": {},
          "output_type": "execute_result"
        }
      ],
      "source": [
        "data = [[3,4,5,6,7],[3,0,9,8,7],[4,3,5,6,7]]\n",
        "df = pd.DataFrame(data)\n",
        "df"
      ]
    },
    {
      "cell_type": "markdown",
      "id": "1d123a05",
      "metadata": {
        "id": "1d123a05"
      },
      "source": [
        "**2. mean()** : used to get mean all numeric values column"
      ]
    },
    {
      "cell_type": "code",
      "execution_count": null,
      "id": "01a937ad",
      "metadata": {
        "id": "01a937ad",
        "outputId": "740a534c-8ba9-4e9a-9246-d2c397f4ed91"
      },
      "outputs": [
        {
          "data": {
            "text/plain": [
              "0    3.333333\n",
              "1    2.333333\n",
              "2    6.333333\n",
              "3    6.666667\n",
              "4    7.000000\n",
              "dtype: float64"
            ]
          },
          "execution_count": 3,
          "metadata": {},
          "output_type": "execute_result"
        }
      ],
      "source": [
        "df.mean()"
      ]
    },
    {
      "cell_type": "markdown",
      "id": "83b36fa9",
      "metadata": {
        "id": "83b36fa9"
      },
      "source": [
        "**3. pd.Series( )** create a pandas series"
      ]
    },
    {
      "cell_type": "code",
      "execution_count": null,
      "id": "22c137a3",
      "metadata": {
        "id": "22c137a3",
        "outputId": "9ce52ab2-c8d5-4fdc-8f95-a238724cacaa"
      },
      "outputs": [
        {
          "data": {
            "text/plain": [
              "pandas.core.series.Series"
            ]
          },
          "execution_count": 4,
          "metadata": {},
          "output_type": "execute_result"
        }
      ],
      "source": [
        "df = pd.Series([4,5,6,7,8,9])\n",
        "type(df)"
      ]
    },
    {
      "cell_type": "markdown",
      "id": "68c783dd",
      "metadata": {
        "id": "68c783dd"
      },
      "source": [
        "**4. pd.read_csv()** used to read a csv file in pandas"
      ]
    },
    {
      "cell_type": "code",
      "execution_count": null,
      "id": "acd7c318",
      "metadata": {
        "id": "acd7c318"
      },
      "outputs": [],
      "source": [
        "df = pd.read_csv(\"data.csv\")"
      ]
    },
    {
      "cell_type": "markdown",
      "id": "c0b154ae",
      "metadata": {
        "id": "c0b154ae"
      },
      "source": [
        "**5.df.sum()** used to sum all numeric data columns"
      ]
    },
    {
      "cell_type": "code",
      "execution_count": null,
      "id": "dfb13fb8",
      "metadata": {
        "id": "dfb13fb8",
        "outputId": "07dcd169-f6c2-4d2c-d4f0-4c87c4516902"
      },
      "outputs": [
        {
          "data": {
            "text/plain": [
              "39"
            ]
          },
          "execution_count": 6,
          "metadata": {},
          "output_type": "execute_result"
        }
      ],
      "source": [
        "df.sum()"
      ]
    },
    {
      "cell_type": "markdown",
      "id": "8a10c628",
      "metadata": {
        "id": "8a10c628"
      },
      "source": [
        "#### Q2. Given a Pandas DataFrame df with columns 'A', 'B', and 'C', write a Python function to re-index the DataFrame with a new index that starts from 1 and increments by 2 for each row.\n"
      ]
    },
    {
      "cell_type": "code",
      "execution_count": null,
      "id": "316841c3",
      "metadata": {
        "id": "316841c3",
        "outputId": "a4c541e2-78e9-4674-fa74-aa2ec44e824d"
      },
      "outputs": [
        {
          "data": {
            "text/html": [
              "<div>\n",
              "<style scoped>\n",
              "    .dataframe tbody tr th:only-of-type {\n",
              "        vertical-align: middle;\n",
              "    }\n",
              "\n",
              "    .dataframe tbody tr th {\n",
              "        vertical-align: top;\n",
              "    }\n",
              "\n",
              "    .dataframe thead th {\n",
              "        text-align: right;\n",
              "    }\n",
              "</style>\n",
              "<table border=\"1\" class=\"dataframe\">\n",
              "  <thead>\n",
              "    <tr style=\"text-align: right;\">\n",
              "      <th></th>\n",
              "      <th>A</th>\n",
              "      <th>B</th>\n",
              "      <th>C</th>\n",
              "    </tr>\n",
              "  </thead>\n",
              "  <tbody>\n",
              "    <tr>\n",
              "      <th>0</th>\n",
              "      <td>lea</td>\n",
              "      <td>hea</td>\n",
              "      <td>few</td>\n",
              "    </tr>\n",
              "    <tr>\n",
              "      <th>1</th>\n",
              "      <td>foo</td>\n",
              "      <td>zoo</td>\n",
              "      <td>moo</td>\n",
              "    </tr>\n",
              "    <tr>\n",
              "      <th>2</th>\n",
              "      <td>bean</td>\n",
              "      <td>team</td>\n",
              "      <td>lore</td>\n",
              "    </tr>\n",
              "  </tbody>\n",
              "</table>\n",
              "</div>"
            ],
            "text/plain": [
              "      A     B     C\n",
              "0   lea   hea   few\n",
              "1   foo   zoo   moo\n",
              "2  bean  team  lore"
            ]
          },
          "execution_count": 7,
          "metadata": {},
          "output_type": "execute_result"
        }
      ],
      "source": [
        "data = [['lea','hea','few'],['foo','zoo','moo'],['bean','team','lore']]\n",
        "df = pd.DataFrame(data, columns = ['A','B','C'])\n",
        "df"
      ]
    },
    {
      "cell_type": "code",
      "execution_count": null,
      "id": "dfe16e52",
      "metadata": {
        "id": "dfe16e52",
        "outputId": "bbbb1f87-6e2a-445e-abb9-ab3cc37ad3f3"
      },
      "outputs": [
        {
          "data": {
            "text/html": [
              "<div>\n",
              "<style scoped>\n",
              "    .dataframe tbody tr th:only-of-type {\n",
              "        vertical-align: middle;\n",
              "    }\n",
              "\n",
              "    .dataframe tbody tr th {\n",
              "        vertical-align: top;\n",
              "    }\n",
              "\n",
              "    .dataframe thead th {\n",
              "        text-align: right;\n",
              "    }\n",
              "</style>\n",
              "<table border=\"1\" class=\"dataframe\">\n",
              "  <thead>\n",
              "    <tr style=\"text-align: right;\">\n",
              "      <th></th>\n",
              "      <th>A</th>\n",
              "      <th>B</th>\n",
              "      <th>C</th>\n",
              "    </tr>\n",
              "  </thead>\n",
              "  <tbody>\n",
              "    <tr>\n",
              "      <th>1</th>\n",
              "      <td>foo</td>\n",
              "      <td>zoo</td>\n",
              "      <td>moo</td>\n",
              "    </tr>\n",
              "    <tr>\n",
              "      <th>3</th>\n",
              "      <td>NaN</td>\n",
              "      <td>NaN</td>\n",
              "      <td>NaN</td>\n",
              "    </tr>\n",
              "  </tbody>\n",
              "</table>\n",
              "</div>"
            ],
            "text/plain": [
              "     A    B    C\n",
              "1  foo  zoo  moo\n",
              "3  NaN  NaN  NaN"
            ]
          },
          "execution_count": 8,
          "metadata": {},
          "output_type": "execute_result"
        }
      ],
      "source": [
        "df.reindex([1,3])"
      ]
    },
    {
      "cell_type": "markdown",
      "id": "d6eb411e",
      "metadata": {
        "id": "d6eb411e"
      },
      "source": [
        "#### Q3. You have a Pandas DataFrame df with a column named 'Values'. Write a Python function that iterates over the DataFrame and calculates the sum of the first three values in the 'Values' column. The function should print the sum to the console.\n",
        "\n",
        "#### For example, if the 'Values' column of df contains the values [10, 20, 30, 40, 50], your function should calculate and print the sum of the first three values, which is 60.\n"
      ]
    },
    {
      "cell_type": "code",
      "execution_count": null,
      "id": "9ac01643",
      "metadata": {
        "id": "9ac01643",
        "outputId": "fb254f57-de75-4825-c3d9-f3a4c8286ab0"
      },
      "outputs": [
        {
          "data": {
            "text/html": [
              "<div>\n",
              "<style scoped>\n",
              "    .dataframe tbody tr th:only-of-type {\n",
              "        vertical-align: middle;\n",
              "    }\n",
              "\n",
              "    .dataframe tbody tr th {\n",
              "        vertical-align: top;\n",
              "    }\n",
              "\n",
              "    .dataframe thead th {\n",
              "        text-align: right;\n",
              "    }\n",
              "</style>\n",
              "<table border=\"1\" class=\"dataframe\">\n",
              "  <thead>\n",
              "    <tr style=\"text-align: right;\">\n",
              "      <th></th>\n",
              "      <th>Values</th>\n",
              "    </tr>\n",
              "  </thead>\n",
              "  <tbody>\n",
              "    <tr>\n",
              "      <th>0</th>\n",
              "      <td>10</td>\n",
              "    </tr>\n",
              "    <tr>\n",
              "      <th>1</th>\n",
              "      <td>20</td>\n",
              "    </tr>\n",
              "    <tr>\n",
              "      <th>2</th>\n",
              "      <td>30</td>\n",
              "    </tr>\n",
              "    <tr>\n",
              "      <th>3</th>\n",
              "      <td>40</td>\n",
              "    </tr>\n",
              "    <tr>\n",
              "      <th>4</th>\n",
              "      <td>50</td>\n",
              "    </tr>\n",
              "  </tbody>\n",
              "</table>\n",
              "</div>"
            ],
            "text/plain": [
              "   Values\n",
              "0      10\n",
              "1      20\n",
              "2      30\n",
              "3      40\n",
              "4      50"
            ]
          },
          "execution_count": 9,
          "metadata": {},
          "output_type": "execute_result"
        }
      ],
      "source": [
        "data = {'Values': [10, 20, 30, 40, 50]}\n",
        "df = pd.DataFrame(data)\n",
        "df"
      ]
    },
    {
      "cell_type": "code",
      "execution_count": null,
      "id": "5ebb5c4e",
      "metadata": {
        "id": "5ebb5c4e",
        "outputId": "f0afae9b-8e18-4ce4-c9a2-6d055bbbd527"
      },
      "outputs": [
        {
          "data": {
            "text/plain": [
              "Values    60\n",
              "dtype: int64"
            ]
          },
          "execution_count": 10,
          "metadata": {},
          "output_type": "execute_result"
        }
      ],
      "source": [
        "def sum_three(df):\n",
        "    first_three = df.iloc[:3]  # select the first three rows\n",
        "    return first_three.sum()\n",
        "sum_three(df)"
      ]
    },
    {
      "cell_type": "markdown",
      "id": "689c45d6",
      "metadata": {
        "id": "689c45d6"
      },
      "source": [
        "#### Q4. Given a Pandas DataFrame df with a column 'Text', write a Python function to create a new column 'Word_Count' that contains the number of words in each row of the 'Text' column.\n"
      ]
    },
    {
      "cell_type": "code",
      "execution_count": null,
      "id": "74ead5a4",
      "metadata": {
        "id": "74ead5a4",
        "outputId": "5de12bb4-6498-42f6-bf9e-c04fe4acce20"
      },
      "outputs": [
        {
          "data": {
            "text/html": [
              "<div>\n",
              "<style scoped>\n",
              "    .dataframe tbody tr th:only-of-type {\n",
              "        vertical-align: middle;\n",
              "    }\n",
              "\n",
              "    .dataframe tbody tr th {\n",
              "        vertical-align: top;\n",
              "    }\n",
              "\n",
              "    .dataframe thead th {\n",
              "        text-align: right;\n",
              "    }\n",
              "</style>\n",
              "<table border=\"1\" class=\"dataframe\">\n",
              "  <thead>\n",
              "    <tr style=\"text-align: right;\">\n",
              "      <th></th>\n",
              "      <th>Text</th>\n",
              "    </tr>\n",
              "  </thead>\n",
              "  <tbody>\n",
              "    <tr>\n",
              "      <th>0</th>\n",
              "      <td>goo</td>\n",
              "    </tr>\n",
              "    <tr>\n",
              "      <th>1</th>\n",
              "      <td>retr</td>\n",
              "    </tr>\n",
              "    <tr>\n",
              "      <th>2</th>\n",
              "      <td>iokjui</td>\n",
              "    </tr>\n",
              "  </tbody>\n",
              "</table>\n",
              "</div>"
            ],
            "text/plain": [
              "     Text\n",
              "0     goo\n",
              "1    retr\n",
              "2  iokjui"
            ]
          },
          "execution_count": 11,
          "metadata": {},
          "output_type": "execute_result"
        }
      ],
      "source": [
        "data = {'Text':['goo','retr','iokjui']}\n",
        "df = pd.DataFrame(data)\n",
        "df"
      ]
    },
    {
      "cell_type": "code",
      "execution_count": null,
      "id": "47391358",
      "metadata": {
        "id": "47391358",
        "outputId": "af86508a-9599-494f-fe20-eb583def224a"
      },
      "outputs": [
        {
          "data": {
            "text/html": [
              "<div>\n",
              "<style scoped>\n",
              "    .dataframe tbody tr th:only-of-type {\n",
              "        vertical-align: middle;\n",
              "    }\n",
              "\n",
              "    .dataframe tbody tr th {\n",
              "        vertical-align: top;\n",
              "    }\n",
              "\n",
              "    .dataframe thead th {\n",
              "        text-align: right;\n",
              "    }\n",
              "</style>\n",
              "<table border=\"1\" class=\"dataframe\">\n",
              "  <thead>\n",
              "    <tr style=\"text-align: right;\">\n",
              "      <th></th>\n",
              "      <th>Text</th>\n",
              "      <th>Word_Count</th>\n",
              "    </tr>\n",
              "  </thead>\n",
              "  <tbody>\n",
              "    <tr>\n",
              "      <th>0</th>\n",
              "      <td>goo</td>\n",
              "      <td>3</td>\n",
              "    </tr>\n",
              "    <tr>\n",
              "      <th>1</th>\n",
              "      <td>retr</td>\n",
              "      <td>4</td>\n",
              "    </tr>\n",
              "    <tr>\n",
              "      <th>2</th>\n",
              "      <td>iokjui</td>\n",
              "      <td>6</td>\n",
              "    </tr>\n",
              "  </tbody>\n",
              "</table>\n",
              "</div>"
            ],
            "text/plain": [
              "     Text  Word_Count\n",
              "0     goo           3\n",
              "1    retr           4\n",
              "2  iokjui           6"
            ]
          },
          "execution_count": 12,
          "metadata": {},
          "output_type": "execute_result"
        }
      ],
      "source": [
        "df['Word_Count'] = df['Text'].str.len()\n",
        "df"
      ]
    },
    {
      "cell_type": "markdown",
      "id": "a2c1ea71",
      "metadata": {
        "id": "a2c1ea71"
      },
      "source": [
        "#### Q5. How are DataFrame.size() and DataFrame.shape() different?\n"
      ]
    },
    {
      "cell_type": "markdown",
      "id": "767c0999",
      "metadata": {
        "id": "767c0999"
      },
      "source": [
        "**DataFrame.size** it is return <u>number_row*number_column</u>"
      ]
    },
    {
      "cell_type": "code",
      "execution_count": null,
      "id": "704bafbf",
      "metadata": {
        "id": "704bafbf",
        "outputId": "3f84b6ba-84d3-453a-cd40-12ec23d81b14"
      },
      "outputs": [
        {
          "data": {
            "text/plain": [
              "8"
            ]
          },
          "execution_count": 13,
          "metadata": {},
          "output_type": "execute_result"
        }
      ],
      "source": [
        "df = pd.DataFrame({'name':['ye','fee','gol','jho'],\n",
        "                   'Age':[3,4,5,7]})\n",
        "df.size"
      ]
    },
    {
      "cell_type": "markdown",
      "id": "479c725f",
      "metadata": {
        "id": "479c725f"
      },
      "source": [
        "**DataFrame.shape** it is return <u>number_row,number_column</u>"
      ]
    },
    {
      "cell_type": "code",
      "execution_count": null,
      "id": "5efc6566",
      "metadata": {
        "id": "5efc6566",
        "outputId": "8d3f5cdf-e192-47bc-f35c-c8d08fcf5e98"
      },
      "outputs": [
        {
          "data": {
            "text/plain": [
              "(4, 2)"
            ]
          },
          "execution_count": 14,
          "metadata": {},
          "output_type": "execute_result"
        }
      ],
      "source": [
        "df = pd.DataFrame({'name':['ye','fee','gol','jho'],\n",
        "                   'Age':[3,4,5,7]})\n",
        "df.shape"
      ]
    },
    {
      "cell_type": "code",
      "execution_count": null,
      "id": "6595caf0",
      "metadata": {
        "id": "6595caf0",
        "outputId": "757c7bb7-c3f7-42cc-baa8-f08192d735d4"
      },
      "outputs": [
        {
          "data": {
            "text/html": [
              "<div>\n",
              "<style scoped>\n",
              "    .dataframe tbody tr th:only-of-type {\n",
              "        vertical-align: middle;\n",
              "    }\n",
              "\n",
              "    .dataframe tbody tr th {\n",
              "        vertical-align: top;\n",
              "    }\n",
              "\n",
              "    .dataframe thead th {\n",
              "        text-align: right;\n",
              "    }\n",
              "</style>\n",
              "<table border=\"1\" class=\"dataframe\">\n",
              "  <thead>\n",
              "    <tr style=\"text-align: right;\">\n",
              "      <th></th>\n",
              "      <th>name</th>\n",
              "      <th>Age</th>\n",
              "    </tr>\n",
              "  </thead>\n",
              "  <tbody>\n",
              "    <tr>\n",
              "      <th>0</th>\n",
              "      <td>ye</td>\n",
              "      <td>3</td>\n",
              "    </tr>\n",
              "    <tr>\n",
              "      <th>1</th>\n",
              "      <td>fee</td>\n",
              "      <td>4</td>\n",
              "    </tr>\n",
              "    <tr>\n",
              "      <th>2</th>\n",
              "      <td>gol</td>\n",
              "      <td>5</td>\n",
              "    </tr>\n",
              "    <tr>\n",
              "      <th>3</th>\n",
              "      <td>jho</td>\n",
              "      <td>7</td>\n",
              "    </tr>\n",
              "  </tbody>\n",
              "</table>\n",
              "</div>"
            ],
            "text/plain": [
              "  name  Age\n",
              "0   ye    3\n",
              "1  fee    4\n",
              "2  gol    5\n",
              "3  jho    7"
            ]
          },
          "execution_count": 15,
          "metadata": {},
          "output_type": "execute_result"
        }
      ],
      "source": [
        "df"
      ]
    },
    {
      "cell_type": "markdown",
      "id": "75ac7f00",
      "metadata": {
        "id": "75ac7f00"
      },
      "source": [
        "#### Q6. Which function of pandas do we use to read an excel file?\n"
      ]
    },
    {
      "cell_type": "code",
      "execution_count": null,
      "id": "dae3ff3c",
      "metadata": {
        "id": "dae3ff3c"
      },
      "outputs": [],
      "source": [
        "pd.read_excel(\"excel_file_path\")"
      ]
    },
    {
      "cell_type": "code",
      "execution_count": null,
      "id": "8f0ff93b",
      "metadata": {
        "id": "8f0ff93b"
      },
      "outputs": [],
      "source": []
    },
    {
      "cell_type": "markdown",
      "id": "0774c4f2",
      "metadata": {
        "id": "0774c4f2"
      },
      "source": [
        "#### Q7. You have a Pandas DataFrame df that contains a column named 'Email' that contains email addresses in the format 'username@domain.com'. Write a Python function that creates a new column 'Username' in df that contains only the username part of each email address.\n",
        "\n",
        "#### The username is the part of the email address that appears before the '@' symbol. For example, if the email address is 'john.doe@example.com', the 'Username' column should contain 'john.doe'. Your function should extract the username from each email address and store it in the new 'Username' column."
      ]
    },
    {
      "cell_type": "code",
      "execution_count": null,
      "id": "15cbdc64",
      "metadata": {
        "id": "15cbdc64",
        "outputId": "347ee7cb-c991-4b6d-bdc0-a333fca55218"
      },
      "outputs": [
        {
          "data": {
            "text/html": [
              "<div>\n",
              "<style scoped>\n",
              "    .dataframe tbody tr th:only-of-type {\n",
              "        vertical-align: middle;\n",
              "    }\n",
              "\n",
              "    .dataframe tbody tr th {\n",
              "        vertical-align: top;\n",
              "    }\n",
              "\n",
              "    .dataframe thead th {\n",
              "        text-align: right;\n",
              "    }\n",
              "</style>\n",
              "<table border=\"1\" class=\"dataframe\">\n",
              "  <thead>\n",
              "    <tr style=\"text-align: right;\">\n",
              "      <th></th>\n",
              "      <th>Email</th>\n",
              "    </tr>\n",
              "  </thead>\n",
              "  <tbody>\n",
              "    <tr>\n",
              "      <th>0</th>\n",
              "      <td>john.doe@example.com</td>\n",
              "    </tr>\n",
              "    <tr>\n",
              "      <th>1</th>\n",
              "      <td>nazer@gmail.com</td>\n",
              "    </tr>\n",
              "  </tbody>\n",
              "</table>\n",
              "</div>"
            ],
            "text/plain": [
              "                  Email\n",
              "0  john.doe@example.com\n",
              "1       nazer@gmail.com"
            ]
          },
          "execution_count": 16,
          "metadata": {},
          "output_type": "execute_result"
        }
      ],
      "source": [
        "df = pd.DataFrame({'Email':['john.doe@example.com','nazer@gmail.com']})\n",
        "df"
      ]
    },
    {
      "cell_type": "code",
      "execution_count": null,
      "id": "540af4a3",
      "metadata": {
        "id": "540af4a3",
        "outputId": "90f62fbb-33d5-4b64-a57e-ae919902cbce"
      },
      "outputs": [
        {
          "data": {
            "text/html": [
              "<div>\n",
              "<style scoped>\n",
              "    .dataframe tbody tr th:only-of-type {\n",
              "        vertical-align: middle;\n",
              "    }\n",
              "\n",
              "    .dataframe tbody tr th {\n",
              "        vertical-align: top;\n",
              "    }\n",
              "\n",
              "    .dataframe thead th {\n",
              "        text-align: right;\n",
              "    }\n",
              "</style>\n",
              "<table border=\"1\" class=\"dataframe\">\n",
              "  <thead>\n",
              "    <tr style=\"text-align: right;\">\n",
              "      <th></th>\n",
              "      <th>Email</th>\n",
              "      <th>username</th>\n",
              "    </tr>\n",
              "  </thead>\n",
              "  <tbody>\n",
              "    <tr>\n",
              "      <th>0</th>\n",
              "      <td>john.doe@example.com</td>\n",
              "      <td>john.doe</td>\n",
              "    </tr>\n",
              "    <tr>\n",
              "      <th>1</th>\n",
              "      <td>nazer@gmail.com</td>\n",
              "      <td>nazer</td>\n",
              "    </tr>\n",
              "  </tbody>\n",
              "</table>\n",
              "</div>"
            ],
            "text/plain": [
              "                  Email  username\n",
              "0  john.doe@example.com  john.doe\n",
              "1       nazer@gmail.com     nazer"
            ]
          },
          "execution_count": 17,
          "metadata": {},
          "output_type": "execute_result"
        }
      ],
      "source": [
        "df[['username','company']] = df['Email'].str.split(\"@\",expand=True,)\n",
        "df.drop(df.columns[2], axis=1, inplace=True)\n",
        "df"
      ]
    },
    {
      "cell_type": "code",
      "execution_count": null,
      "id": "ff0daef0",
      "metadata": {
        "id": "ff0daef0"
      },
      "outputs": [],
      "source": []
    },
    {
      "cell_type": "markdown",
      "id": "4d3e4258",
      "metadata": {
        "id": "4d3e4258"
      },
      "source": [
        "#### Q8. You have a Pandas DataFrame df with columns 'A', 'B', and 'C'. Write a Python function that selects all rows where the value in column 'A' is greater than 5 and the value in column 'B' is less than 10. The function should return a new DataFrame that contains only the selected rows.\n",
        "#### For example, if df contains the following values:\n",
        "   **A B C**    \n",
        " **0 3 5 1**    \n",
        " **1 8 2 7**    \n",
        " **2 6 9 4**    \n",
        " **3 2 3 5**   \n",
        " **4 9 1 2**   \n",
        "#### Your function should select the following rows:\n",
        "   **A B C**   \n",
        "**1 8 2 7**   \n",
        "**4 9 1 2**   \n",
        "#### The function should return a new DataFrame that contains only the selected rows."
      ]
    },
    {
      "cell_type": "code",
      "execution_count": null,
      "id": "bb1aa23d",
      "metadata": {
        "id": "bb1aa23d",
        "outputId": "cc55da82-116f-4ef1-8042-13ed933693e2"
      },
      "outputs": [
        {
          "data": {
            "text/html": [
              "<div>\n",
              "<style scoped>\n",
              "    .dataframe tbody tr th:only-of-type {\n",
              "        vertical-align: middle;\n",
              "    }\n",
              "\n",
              "    .dataframe tbody tr th {\n",
              "        vertical-align: top;\n",
              "    }\n",
              "\n",
              "    .dataframe thead th {\n",
              "        text-align: right;\n",
              "    }\n",
              "</style>\n",
              "<table border=\"1\" class=\"dataframe\">\n",
              "  <thead>\n",
              "    <tr style=\"text-align: right;\">\n",
              "      <th></th>\n",
              "      <th>A</th>\n",
              "      <th>B</th>\n",
              "      <th>C</th>\n",
              "    </tr>\n",
              "  </thead>\n",
              "  <tbody>\n",
              "    <tr>\n",
              "      <th>0</th>\n",
              "      <td>3</td>\n",
              "      <td>5</td>\n",
              "      <td>1</td>\n",
              "    </tr>\n",
              "    <tr>\n",
              "      <th>1</th>\n",
              "      <td>8</td>\n",
              "      <td>2</td>\n",
              "      <td>7</td>\n",
              "    </tr>\n",
              "    <tr>\n",
              "      <th>2</th>\n",
              "      <td>6</td>\n",
              "      <td>9</td>\n",
              "      <td>4</td>\n",
              "    </tr>\n",
              "    <tr>\n",
              "      <th>3</th>\n",
              "      <td>2</td>\n",
              "      <td>3</td>\n",
              "      <td>5</td>\n",
              "    </tr>\n",
              "    <tr>\n",
              "      <th>4</th>\n",
              "      <td>9</td>\n",
              "      <td>1</td>\n",
              "      <td>2</td>\n",
              "    </tr>\n",
              "  </tbody>\n",
              "</table>\n",
              "</div>"
            ],
            "text/plain": [
              "   A  B  C\n",
              "0  3  5  1\n",
              "1  8  2  7\n",
              "2  6  9  4\n",
              "3  2  3  5\n",
              "4  9  1  2"
            ]
          },
          "execution_count": 18,
          "metadata": {},
          "output_type": "execute_result"
        }
      ],
      "source": [
        "data = [[ 3, 5, 1],[8, 2, 7],[6, 9, 4],[2, 3, 5],[9, 1, 2]]\n",
        "df = pd.DataFrame(data, columns = ['A','B','C'])\n",
        "df"
      ]
    },
    {
      "cell_type": "code",
      "execution_count": null,
      "id": "91f550de",
      "metadata": {
        "id": "91f550de",
        "outputId": "05840636-561b-4d3b-8a59-ee01a2777b9d"
      },
      "outputs": [
        {
          "data": {
            "text/html": [
              "<div>\n",
              "<style scoped>\n",
              "    .dataframe tbody tr th:only-of-type {\n",
              "        vertical-align: middle;\n",
              "    }\n",
              "\n",
              "    .dataframe tbody tr th {\n",
              "        vertical-align: top;\n",
              "    }\n",
              "\n",
              "    .dataframe thead th {\n",
              "        text-align: right;\n",
              "    }\n",
              "</style>\n",
              "<table border=\"1\" class=\"dataframe\">\n",
              "  <thead>\n",
              "    <tr style=\"text-align: right;\">\n",
              "      <th></th>\n",
              "      <th>A</th>\n",
              "      <th>B</th>\n",
              "      <th>C</th>\n",
              "    </tr>\n",
              "  </thead>\n",
              "  <tbody>\n",
              "    <tr>\n",
              "      <th>1</th>\n",
              "      <td>8</td>\n",
              "      <td>2</td>\n",
              "      <td>7</td>\n",
              "    </tr>\n",
              "    <tr>\n",
              "      <th>2</th>\n",
              "      <td>6</td>\n",
              "      <td>9</td>\n",
              "      <td>4</td>\n",
              "    </tr>\n",
              "    <tr>\n",
              "      <th>4</th>\n",
              "      <td>9</td>\n",
              "      <td>1</td>\n",
              "      <td>2</td>\n",
              "    </tr>\n",
              "  </tbody>\n",
              "</table>\n",
              "</div>"
            ],
            "text/plain": [
              "   A  B  C\n",
              "1  8  2  7\n",
              "2  6  9  4\n",
              "4  9  1  2"
            ]
          },
          "execution_count": 19,
          "metadata": {},
          "output_type": "execute_result"
        }
      ],
      "source": [
        "new_df = df[(df['A'] > 5)  & (df['B'] < 10 )]\n",
        "new_df"
      ]
    },
    {
      "cell_type": "markdown",
      "id": "40e147b1",
      "metadata": {
        "id": "40e147b1"
      },
      "source": [
        "#### Q9. Given a Pandas DataFrame df with a column 'Values', write a Python function to calculate the mean, median, and standard deviation of the values in the 'Values' column.\n"
      ]
    },
    {
      "cell_type": "code",
      "execution_count": null,
      "id": "0ed241a9",
      "metadata": {
        "id": "0ed241a9",
        "outputId": "c44a1a38-da1c-4bd3-fa71-fb69040ce4d3"
      },
      "outputs": [
        {
          "data": {
            "text/html": [
              "<div>\n",
              "<style scoped>\n",
              "    .dataframe tbody tr th:only-of-type {\n",
              "        vertical-align: middle;\n",
              "    }\n",
              "\n",
              "    .dataframe tbody tr th {\n",
              "        vertical-align: top;\n",
              "    }\n",
              "\n",
              "    .dataframe thead th {\n",
              "        text-align: right;\n",
              "    }\n",
              "</style>\n",
              "<table border=\"1\" class=\"dataframe\">\n",
              "  <thead>\n",
              "    <tr style=\"text-align: right;\">\n",
              "      <th></th>\n",
              "      <th>Values</th>\n",
              "    </tr>\n",
              "  </thead>\n",
              "  <tbody>\n",
              "    <tr>\n",
              "      <th>0</th>\n",
              "      <td>2</td>\n",
              "    </tr>\n",
              "    <tr>\n",
              "      <th>1</th>\n",
              "      <td>3</td>\n",
              "    </tr>\n",
              "    <tr>\n",
              "      <th>2</th>\n",
              "      <td>4</td>\n",
              "    </tr>\n",
              "    <tr>\n",
              "      <th>3</th>\n",
              "      <td>5</td>\n",
              "    </tr>\n",
              "    <tr>\n",
              "      <th>4</th>\n",
              "      <td>6</td>\n",
              "    </tr>\n",
              "    <tr>\n",
              "      <th>5</th>\n",
              "      <td>7</td>\n",
              "    </tr>\n",
              "    <tr>\n",
              "      <th>6</th>\n",
              "      <td>8</td>\n",
              "    </tr>\n",
              "  </tbody>\n",
              "</table>\n",
              "</div>"
            ],
            "text/plain": [
              "   Values\n",
              "0       2\n",
              "1       3\n",
              "2       4\n",
              "3       5\n",
              "4       6\n",
              "5       7\n",
              "6       8"
            ]
          },
          "execution_count": 20,
          "metadata": {},
          "output_type": "execute_result"
        }
      ],
      "source": [
        "df = pd.DataFrame({'Values': [2,3,4,5,6,7,8]})\n",
        "df"
      ]
    },
    {
      "cell_type": "code",
      "execution_count": null,
      "id": "7a93f9e6",
      "metadata": {
        "scrolled": true,
        "id": "7a93f9e6",
        "outputId": "5f1a38e7-945e-4357-b35d-a6a968ee8bba"
      },
      "outputs": [
        {
          "data": {
            "text/html": [
              "<div>\n",
              "<style scoped>\n",
              "    .dataframe tbody tr th:only-of-type {\n",
              "        vertical-align: middle;\n",
              "    }\n",
              "\n",
              "    .dataframe tbody tr th {\n",
              "        vertical-align: top;\n",
              "    }\n",
              "\n",
              "    .dataframe thead th {\n",
              "        text-align: right;\n",
              "    }\n",
              "</style>\n",
              "<table border=\"1\" class=\"dataframe\">\n",
              "  <thead>\n",
              "    <tr style=\"text-align: right;\">\n",
              "      <th></th>\n",
              "      <th>Values</th>\n",
              "    </tr>\n",
              "  </thead>\n",
              "  <tbody>\n",
              "    <tr>\n",
              "      <th>count</th>\n",
              "      <td>7.000000</td>\n",
              "    </tr>\n",
              "    <tr>\n",
              "      <th>mean</th>\n",
              "      <td>5.000000</td>\n",
              "    </tr>\n",
              "    <tr>\n",
              "      <th>std</th>\n",
              "      <td>2.160247</td>\n",
              "    </tr>\n",
              "    <tr>\n",
              "      <th>min</th>\n",
              "      <td>2.000000</td>\n",
              "    </tr>\n",
              "    <tr>\n",
              "      <th>25%</th>\n",
              "      <td>3.500000</td>\n",
              "    </tr>\n",
              "    <tr>\n",
              "      <th>50%</th>\n",
              "      <td>5.000000</td>\n",
              "    </tr>\n",
              "    <tr>\n",
              "      <th>75%</th>\n",
              "      <td>6.500000</td>\n",
              "    </tr>\n",
              "    <tr>\n",
              "      <th>max</th>\n",
              "      <td>8.000000</td>\n",
              "    </tr>\n",
              "  </tbody>\n",
              "</table>\n",
              "</div>"
            ],
            "text/plain": [
              "         Values\n",
              "count  7.000000\n",
              "mean   5.000000\n",
              "std    2.160247\n",
              "min    2.000000\n",
              "25%    3.500000\n",
              "50%    5.000000\n",
              "75%    6.500000\n",
              "max    8.000000"
            ]
          },
          "execution_count": 21,
          "metadata": {},
          "output_type": "execute_result"
        }
      ],
      "source": [
        "df.describe()                 # all statistics calculation"
      ]
    },
    {
      "cell_type": "code",
      "execution_count": null,
      "id": "5bb01b5f",
      "metadata": {
        "id": "5bb01b5f",
        "outputId": "969f701d-e45d-4f82-c06c-c9bb5048629c"
      },
      "outputs": [
        {
          "data": {
            "text/plain": [
              "Values    5.0\n",
              "dtype: float64"
            ]
          },
          "execution_count": 22,
          "metadata": {},
          "output_type": "execute_result"
        }
      ],
      "source": [
        "df.mean()                    # get mean of value column"
      ]
    },
    {
      "cell_type": "code",
      "execution_count": null,
      "id": "323a3f53",
      "metadata": {
        "id": "323a3f53",
        "outputId": "7a2e19cf-7102-4955-96c4-e029425a813b"
      },
      "outputs": [
        {
          "data": {
            "text/plain": [
              "Values    5.0\n",
              "dtype: float64"
            ]
          },
          "execution_count": 23,
          "metadata": {},
          "output_type": "execute_result"
        }
      ],
      "source": [
        "df.median()                   # get median of values column"
      ]
    },
    {
      "cell_type": "code",
      "execution_count": null,
      "id": "0190cf2c",
      "metadata": {
        "id": "0190cf2c",
        "outputId": "59a63a4f-4002-4bbf-cbc7-192ca2c56051"
      },
      "outputs": [
        {
          "data": {
            "text/plain": [
              "Values    2.160247\n",
              "dtype: float64"
            ]
          },
          "execution_count": 24,
          "metadata": {},
          "output_type": "execute_result"
        }
      ],
      "source": [
        "df.std()                      # get standard deviation"
      ]
    },
    {
      "cell_type": "code",
      "execution_count": null,
      "id": "d5ea4596",
      "metadata": {
        "id": "d5ea4596"
      },
      "outputs": [],
      "source": []
    },
    {
      "cell_type": "code",
      "execution_count": null,
      "id": "12f6a698",
      "metadata": {
        "id": "12f6a698"
      },
      "outputs": [],
      "source": []
    },
    {
      "cell_type": "markdown",
      "id": "b4025e8a",
      "metadata": {
        "id": "b4025e8a"
      },
      "source": [
        "#### Q10. Given a Pandas DataFrame df with a column 'Sales' and a column 'Date', write a Python function to create a new column 'Moving Average' that contains the moving average of the sales for the past 7 days for each row in the DataFrame. The moving average should be calculated using a window of size 7 and should include the current day.\n"
      ]
    },
    {
      "cell_type": "code",
      "execution_count": null,
      "id": "6f72d1d3",
      "metadata": {
        "id": "6f72d1d3"
      },
      "outputs": [],
      "source": [
        "import numpy as np"
      ]
    },
    {
      "cell_type": "code",
      "execution_count": null,
      "id": "0e125706",
      "metadata": {
        "id": "0e125706",
        "outputId": "ef50b1fe-9c86-415a-b1a6-c09e39795497"
      },
      "outputs": [
        {
          "data": {
            "text/html": [
              "<div>\n",
              "<style scoped>\n",
              "    .dataframe tbody tr th:only-of-type {\n",
              "        vertical-align: middle;\n",
              "    }\n",
              "\n",
              "    .dataframe tbody tr th {\n",
              "        vertical-align: top;\n",
              "    }\n",
              "\n",
              "    .dataframe thead th {\n",
              "        text-align: right;\n",
              "    }\n",
              "</style>\n",
              "<table border=\"1\" class=\"dataframe\">\n",
              "  <thead>\n",
              "    <tr style=\"text-align: right;\">\n",
              "      <th></th>\n",
              "      <th>Sales</th>\n",
              "      <th>Date</th>\n",
              "    </tr>\n",
              "  </thead>\n",
              "  <tbody>\n",
              "    <tr>\n",
              "      <th>0</th>\n",
              "      <td>319</td>\n",
              "      <td>2023-02-10</td>\n",
              "    </tr>\n",
              "    <tr>\n",
              "      <th>1</th>\n",
              "      <td>557</td>\n",
              "      <td>2023-02-11</td>\n",
              "    </tr>\n",
              "    <tr>\n",
              "      <th>2</th>\n",
              "      <td>235</td>\n",
              "      <td>2023-02-12</td>\n",
              "    </tr>\n",
              "    <tr>\n",
              "      <th>3</th>\n",
              "      <td>203</td>\n",
              "      <td>2023-02-13</td>\n",
              "    </tr>\n",
              "    <tr>\n",
              "      <th>4</th>\n",
              "      <td>102</td>\n",
              "      <td>2023-02-14</td>\n",
              "    </tr>\n",
              "    <tr>\n",
              "      <th>5</th>\n",
              "      <td>136</td>\n",
              "      <td>2023-02-15</td>\n",
              "    </tr>\n",
              "    <tr>\n",
              "      <th>6</th>\n",
              "      <td>984</td>\n",
              "      <td>2023-02-16</td>\n",
              "    </tr>\n",
              "    <tr>\n",
              "      <th>7</th>\n",
              "      <td>573</td>\n",
              "      <td>2023-02-17</td>\n",
              "    </tr>\n",
              "    <tr>\n",
              "      <th>8</th>\n",
              "      <td>948</td>\n",
              "      <td>2023-02-18</td>\n",
              "    </tr>\n",
              "    <tr>\n",
              "      <th>9</th>\n",
              "      <td>506</td>\n",
              "      <td>2023-02-19</td>\n",
              "    </tr>\n",
              "    <tr>\n",
              "      <th>10</th>\n",
              "      <td>875</td>\n",
              "      <td>2023-02-20</td>\n",
              "    </tr>\n",
              "    <tr>\n",
              "      <th>11</th>\n",
              "      <td>888</td>\n",
              "      <td>2023-02-21</td>\n",
              "    </tr>\n",
              "    <tr>\n",
              "      <th>12</th>\n",
              "      <td>319</td>\n",
              "      <td>2023-02-22</td>\n",
              "    </tr>\n",
              "    <tr>\n",
              "      <th>13</th>\n",
              "      <td>772</td>\n",
              "      <td>2023-02-23</td>\n",
              "    </tr>\n",
              "    <tr>\n",
              "      <th>14</th>\n",
              "      <td>296</td>\n",
              "      <td>2023-02-24</td>\n",
              "    </tr>\n",
              "    <tr>\n",
              "      <th>15</th>\n",
              "      <td>332</td>\n",
              "      <td>2023-02-25</td>\n",
              "    </tr>\n",
              "    <tr>\n",
              "      <th>16</th>\n",
              "      <td>740</td>\n",
              "      <td>2023-02-26</td>\n",
              "    </tr>\n",
              "  </tbody>\n",
              "</table>\n",
              "</div>"
            ],
            "text/plain": [
              "    Sales       Date\n",
              "0     319 2023-02-10\n",
              "1     557 2023-02-11\n",
              "2     235 2023-02-12\n",
              "3     203 2023-02-13\n",
              "4     102 2023-02-14\n",
              "5     136 2023-02-15\n",
              "6     984 2023-02-16\n",
              "7     573 2023-02-17\n",
              "8     948 2023-02-18\n",
              "9     506 2023-02-19\n",
              "10    875 2023-02-20\n",
              "11    888 2023-02-21\n",
              "12    319 2023-02-22\n",
              "13    772 2023-02-23\n",
              "14    296 2023-02-24\n",
              "15    332 2023-02-25\n",
              "16    740 2023-02-26"
            ]
          },
          "execution_count": 28,
          "metadata": {},
          "output_type": "execute_result"
        }
      ],
      "source": [
        "df = pd.DataFrame(pd.date_range(start='2023-02-10' , end = '2023-02-26'), columns = ['Date'])\n",
        "df['Sales'] = np.random.randint(100,1000,size=(17))\n",
        "df[['Sales','Date']]"
      ]
    },
    {
      "cell_type": "code",
      "execution_count": null,
      "id": "742c7e86",
      "metadata": {
        "id": "742c7e86",
        "outputId": "d7123254-7bb0-4398-dd13-2d582e05c9d1"
      },
      "outputs": [
        {
          "data": {
            "text/html": [
              "<div>\n",
              "<style scoped>\n",
              "    .dataframe tbody tr th:only-of-type {\n",
              "        vertical-align: middle;\n",
              "    }\n",
              "\n",
              "    .dataframe tbody tr th {\n",
              "        vertical-align: top;\n",
              "    }\n",
              "\n",
              "    .dataframe thead th {\n",
              "        text-align: right;\n",
              "    }\n",
              "</style>\n",
              "<table border=\"1\" class=\"dataframe\">\n",
              "  <thead>\n",
              "    <tr style=\"text-align: right;\">\n",
              "      <th></th>\n",
              "      <th>Date</th>\n",
              "      <th>Sales</th>\n",
              "      <th>Moving Average</th>\n",
              "    </tr>\n",
              "  </thead>\n",
              "  <tbody>\n",
              "    <tr>\n",
              "      <th>0</th>\n",
              "      <td>2023-02-10</td>\n",
              "      <td>319</td>\n",
              "      <td>NaN</td>\n",
              "    </tr>\n",
              "    <tr>\n",
              "      <th>1</th>\n",
              "      <td>2023-02-11</td>\n",
              "      <td>557</td>\n",
              "      <td>NaN</td>\n",
              "    </tr>\n",
              "    <tr>\n",
              "      <th>2</th>\n",
              "      <td>2023-02-12</td>\n",
              "      <td>235</td>\n",
              "      <td>NaN</td>\n",
              "    </tr>\n",
              "    <tr>\n",
              "      <th>3</th>\n",
              "      <td>2023-02-13</td>\n",
              "      <td>203</td>\n",
              "      <td>NaN</td>\n",
              "    </tr>\n",
              "    <tr>\n",
              "      <th>4</th>\n",
              "      <td>2023-02-14</td>\n",
              "      <td>102</td>\n",
              "      <td>NaN</td>\n",
              "    </tr>\n",
              "    <tr>\n",
              "      <th>5</th>\n",
              "      <td>2023-02-15</td>\n",
              "      <td>136</td>\n",
              "      <td>NaN</td>\n",
              "    </tr>\n",
              "    <tr>\n",
              "      <th>6</th>\n",
              "      <td>2023-02-16</td>\n",
              "      <td>984</td>\n",
              "      <td>362.29</td>\n",
              "    </tr>\n",
              "    <tr>\n",
              "      <th>7</th>\n",
              "      <td>2023-02-17</td>\n",
              "      <td>573</td>\n",
              "      <td>398.57</td>\n",
              "    </tr>\n",
              "    <tr>\n",
              "      <th>8</th>\n",
              "      <td>2023-02-18</td>\n",
              "      <td>948</td>\n",
              "      <td>454.43</td>\n",
              "    </tr>\n",
              "    <tr>\n",
              "      <th>9</th>\n",
              "      <td>2023-02-19</td>\n",
              "      <td>506</td>\n",
              "      <td>493.14</td>\n",
              "    </tr>\n",
              "    <tr>\n",
              "      <th>10</th>\n",
              "      <td>2023-02-20</td>\n",
              "      <td>875</td>\n",
              "      <td>589.14</td>\n",
              "    </tr>\n",
              "    <tr>\n",
              "      <th>11</th>\n",
              "      <td>2023-02-21</td>\n",
              "      <td>888</td>\n",
              "      <td>701.43</td>\n",
              "    </tr>\n",
              "    <tr>\n",
              "      <th>12</th>\n",
              "      <td>2023-02-22</td>\n",
              "      <td>319</td>\n",
              "      <td>727.57</td>\n",
              "    </tr>\n",
              "    <tr>\n",
              "      <th>13</th>\n",
              "      <td>2023-02-23</td>\n",
              "      <td>772</td>\n",
              "      <td>697.29</td>\n",
              "    </tr>\n",
              "    <tr>\n",
              "      <th>14</th>\n",
              "      <td>2023-02-24</td>\n",
              "      <td>296</td>\n",
              "      <td>657.71</td>\n",
              "    </tr>\n",
              "    <tr>\n",
              "      <th>15</th>\n",
              "      <td>2023-02-25</td>\n",
              "      <td>332</td>\n",
              "      <td>569.71</td>\n",
              "    </tr>\n",
              "    <tr>\n",
              "      <th>16</th>\n",
              "      <td>2023-02-26</td>\n",
              "      <td>740</td>\n",
              "      <td>603.14</td>\n",
              "    </tr>\n",
              "  </tbody>\n",
              "</table>\n",
              "</div>"
            ],
            "text/plain": [
              "         Date  Sales  Moving Average\n",
              "0  2023-02-10    319             NaN\n",
              "1  2023-02-11    557             NaN\n",
              "2  2023-02-12    235             NaN\n",
              "3  2023-02-13    203             NaN\n",
              "4  2023-02-14    102             NaN\n",
              "5  2023-02-15    136             NaN\n",
              "6  2023-02-16    984          362.29\n",
              "7  2023-02-17    573          398.57\n",
              "8  2023-02-18    948          454.43\n",
              "9  2023-02-19    506          493.14\n",
              "10 2023-02-20    875          589.14\n",
              "11 2023-02-21    888          701.43\n",
              "12 2023-02-22    319          727.57\n",
              "13 2023-02-23    772          697.29\n",
              "14 2023-02-24    296          657.71\n",
              "15 2023-02-25    332          569.71\n",
              "16 2023-02-26    740          603.14"
            ]
          },
          "execution_count": 29,
          "metadata": {},
          "output_type": "execute_result"
        }
      ],
      "source": [
        "df['Moving Average'] = df['Sales'].rolling(window=7).mean().round(2)\n",
        "df"
      ]
    },
    {
      "cell_type": "code",
      "execution_count": null,
      "id": "ecce3257",
      "metadata": {
        "id": "ecce3257"
      },
      "outputs": [],
      "source": []
    },
    {
      "cell_type": "markdown",
      "id": "611ceb04",
      "metadata": {
        "id": "611ceb04"
      },
      "source": [
        "#### Q11. You have a Pandas DataFrame df with a column 'Date'. Write a Python function that creates a new column 'Weekday' in the DataFrame. The 'Weekday' column should contain the weekday name (e.g. Monday, Tuesday) corresponding to each date in the 'Date' column.\n",
        "#### For example, if df contains the following values:\n",
        "#### Date\n",
        "**O 2023-01-01    \n",
        "1 2023-01-02    \n",
        "2 2023-01-03    \n",
        "3 2023-01-04    \n",
        "4 2023-01-05**\n",
        "\n",
        "#### Your function should create the following DataFrame:\n",
        "**Date                Weekday                \n",
        "0 2023-01-01          Sunday            \n",
        "1 2023-01-02 Monday              \n",
        "2 2023-01-03 Tuesday         \n",
        "3 2023-01-04 Wednesday        \n",
        "4 2023-01-05 Thursday**\n",
        "#### The function should return the modified DataFrame."
      ]
    },
    {
      "cell_type": "code",
      "execution_count": null,
      "id": "f92b8aec",
      "metadata": {
        "id": "f92b8aec",
        "outputId": "993747f0-16d7-485e-808f-79e9f57fc52e"
      },
      "outputs": [
        {
          "data": {
            "text/html": [
              "<div>\n",
              "<style scoped>\n",
              "    .dataframe tbody tr th:only-of-type {\n",
              "        vertical-align: middle;\n",
              "    }\n",
              "\n",
              "    .dataframe tbody tr th {\n",
              "        vertical-align: top;\n",
              "    }\n",
              "\n",
              "    .dataframe thead th {\n",
              "        text-align: right;\n",
              "    }\n",
              "</style>\n",
              "<table border=\"1\" class=\"dataframe\">\n",
              "  <thead>\n",
              "    <tr style=\"text-align: right;\">\n",
              "      <th></th>\n",
              "      <th>Date</th>\n",
              "    </tr>\n",
              "  </thead>\n",
              "  <tbody>\n",
              "    <tr>\n",
              "      <th>0</th>\n",
              "      <td>2023-01-01</td>\n",
              "    </tr>\n",
              "    <tr>\n",
              "      <th>1</th>\n",
              "      <td>2023-01-02</td>\n",
              "    </tr>\n",
              "    <tr>\n",
              "      <th>2</th>\n",
              "      <td>2023-01-03</td>\n",
              "    </tr>\n",
              "    <tr>\n",
              "      <th>3</th>\n",
              "      <td>2023-01-04</td>\n",
              "    </tr>\n",
              "    <tr>\n",
              "      <th>4</th>\n",
              "      <td>2023-01-05</td>\n",
              "    </tr>\n",
              "  </tbody>\n",
              "</table>\n",
              "</div>"
            ],
            "text/plain": [
              "        Date\n",
              "0 2023-01-01\n",
              "1 2023-01-02\n",
              "2 2023-01-03\n",
              "3 2023-01-04\n",
              "4 2023-01-05"
            ]
          },
          "execution_count": 30,
          "metadata": {},
          "output_type": "execute_result"
        }
      ],
      "source": [
        "date = pd.date_range(start='2023-01-01' , end = '2023-01-05')\n",
        "df = pd.DataFrame({'Date':date})\n",
        "df"
      ]
    },
    {
      "cell_type": "code",
      "execution_count": null,
      "id": "95ca9ee5",
      "metadata": {
        "id": "95ca9ee5",
        "outputId": "d7b59e2a-bf54-4c11-884e-87cc7aea2c7d"
      },
      "outputs": [
        {
          "data": {
            "text/html": [
              "<div>\n",
              "<style scoped>\n",
              "    .dataframe tbody tr th:only-of-type {\n",
              "        vertical-align: middle;\n",
              "    }\n",
              "\n",
              "    .dataframe tbody tr th {\n",
              "        vertical-align: top;\n",
              "    }\n",
              "\n",
              "    .dataframe thead th {\n",
              "        text-align: right;\n",
              "    }\n",
              "</style>\n",
              "<table border=\"1\" class=\"dataframe\">\n",
              "  <thead>\n",
              "    <tr style=\"text-align: right;\">\n",
              "      <th></th>\n",
              "      <th>Date</th>\n",
              "      <th>Weekday</th>\n",
              "    </tr>\n",
              "  </thead>\n",
              "  <tbody>\n",
              "    <tr>\n",
              "      <th>0</th>\n",
              "      <td>2023-01-01</td>\n",
              "      <td>Sunday</td>\n",
              "    </tr>\n",
              "    <tr>\n",
              "      <th>1</th>\n",
              "      <td>2023-01-02</td>\n",
              "      <td>Monday</td>\n",
              "    </tr>\n",
              "    <tr>\n",
              "      <th>2</th>\n",
              "      <td>2023-01-03</td>\n",
              "      <td>Tuesday</td>\n",
              "    </tr>\n",
              "    <tr>\n",
              "      <th>3</th>\n",
              "      <td>2023-01-04</td>\n",
              "      <td>Wednesday</td>\n",
              "    </tr>\n",
              "    <tr>\n",
              "      <th>4</th>\n",
              "      <td>2023-01-05</td>\n",
              "      <td>Thursday</td>\n",
              "    </tr>\n",
              "  </tbody>\n",
              "</table>\n",
              "</div>"
            ],
            "text/plain": [
              "        Date    Weekday\n",
              "0 2023-01-01     Sunday\n",
              "1 2023-01-02     Monday\n",
              "2 2023-01-03    Tuesday\n",
              "3 2023-01-04  Wednesday\n",
              "4 2023-01-05   Thursday"
            ]
          },
          "execution_count": 31,
          "metadata": {},
          "output_type": "execute_result"
        }
      ],
      "source": [
        "df['Weekday'] = df['Date'].dt.day_name()\n",
        "df"
      ]
    },
    {
      "cell_type": "markdown",
      "id": "ba063c54",
      "metadata": {
        "id": "ba063c54"
      },
      "source": [
        "#### Q12. Given a Pandas DataFrame df with a column 'Date' that contains timestamps, write a Python function to select all rows where the date is between '2023-01-01' and '2023-01-31'.\n"
      ]
    },
    {
      "cell_type": "code",
      "execution_count": null,
      "id": "8bd828c0",
      "metadata": {
        "id": "8bd828c0",
        "outputId": "a4d4f9cc-15a9-411c-c6e3-bf05cfa4a551"
      },
      "outputs": [
        {
          "data": {
            "text/html": [
              "<div>\n",
              "<style scoped>\n",
              "    .dataframe tbody tr th:only-of-type {\n",
              "        vertical-align: middle;\n",
              "    }\n",
              "\n",
              "    .dataframe tbody tr th {\n",
              "        vertical-align: top;\n",
              "    }\n",
              "\n",
              "    .dataframe thead th {\n",
              "        text-align: right;\n",
              "    }\n",
              "</style>\n",
              "<table border=\"1\" class=\"dataframe\">\n",
              "  <thead>\n",
              "    <tr style=\"text-align: right;\">\n",
              "      <th></th>\n",
              "      <th>Date</th>\n",
              "    </tr>\n",
              "  </thead>\n",
              "  <tbody>\n",
              "    <tr>\n",
              "      <th>0</th>\n",
              "      <td>2022-12-01</td>\n",
              "    </tr>\n",
              "    <tr>\n",
              "      <th>1</th>\n",
              "      <td>2022-12-02</td>\n",
              "    </tr>\n",
              "    <tr>\n",
              "      <th>2</th>\n",
              "      <td>2022-12-03</td>\n",
              "    </tr>\n",
              "    <tr>\n",
              "      <th>3</th>\n",
              "      <td>2022-12-04</td>\n",
              "    </tr>\n",
              "    <tr>\n",
              "      <th>4</th>\n",
              "      <td>2022-12-05</td>\n",
              "    </tr>\n",
              "    <tr>\n",
              "      <th>...</th>\n",
              "      <td>...</td>\n",
              "    </tr>\n",
              "    <tr>\n",
              "      <th>85</th>\n",
              "      <td>2023-02-24</td>\n",
              "    </tr>\n",
              "    <tr>\n",
              "      <th>86</th>\n",
              "      <td>2023-02-25</td>\n",
              "    </tr>\n",
              "    <tr>\n",
              "      <th>87</th>\n",
              "      <td>2023-02-26</td>\n",
              "    </tr>\n",
              "    <tr>\n",
              "      <th>88</th>\n",
              "      <td>2023-02-27</td>\n",
              "    </tr>\n",
              "    <tr>\n",
              "      <th>89</th>\n",
              "      <td>2023-02-28</td>\n",
              "    </tr>\n",
              "  </tbody>\n",
              "</table>\n",
              "<p>90 rows × 1 columns</p>\n",
              "</div>"
            ],
            "text/plain": [
              "         Date\n",
              "0  2022-12-01\n",
              "1  2022-12-02\n",
              "2  2022-12-03\n",
              "3  2022-12-04\n",
              "4  2022-12-05\n",
              "..        ...\n",
              "85 2023-02-24\n",
              "86 2023-02-25\n",
              "87 2023-02-26\n",
              "88 2023-02-27\n",
              "89 2023-02-28\n",
              "\n",
              "[90 rows x 1 columns]"
            ]
          },
          "execution_count": 32,
          "metadata": {},
          "output_type": "execute_result"
        }
      ],
      "source": [
        "data = pd.date_range(start='2022-12-01', end='2023-02-28')\n",
        "df_date = pd.DataFrame(data, columns=['Date'])\n",
        "df_date"
      ]
    },
    {
      "cell_type": "code",
      "execution_count": null,
      "id": "45e875b1",
      "metadata": {
        "id": "45e875b1",
        "outputId": "f082e650-2b67-4534-b5c3-f682bc01f4f2"
      },
      "outputs": [
        {
          "data": {
            "text/html": [
              "<div>\n",
              "<style scoped>\n",
              "    .dataframe tbody tr th:only-of-type {\n",
              "        vertical-align: middle;\n",
              "    }\n",
              "\n",
              "    .dataframe tbody tr th {\n",
              "        vertical-align: top;\n",
              "    }\n",
              "\n",
              "    .dataframe thead th {\n",
              "        text-align: right;\n",
              "    }\n",
              "</style>\n",
              "<table border=\"1\" class=\"dataframe\">\n",
              "  <thead>\n",
              "    <tr style=\"text-align: right;\">\n",
              "      <th></th>\n",
              "      <th>Date</th>\n",
              "      <th>Weekday</th>\n",
              "    </tr>\n",
              "  </thead>\n",
              "  <tbody>\n",
              "    <tr>\n",
              "      <th>1</th>\n",
              "      <td>2023-01-02</td>\n",
              "      <td>Monday</td>\n",
              "    </tr>\n",
              "    <tr>\n",
              "      <th>2</th>\n",
              "      <td>2023-01-03</td>\n",
              "      <td>Tuesday</td>\n",
              "    </tr>\n",
              "    <tr>\n",
              "      <th>3</th>\n",
              "      <td>2023-01-04</td>\n",
              "      <td>Wednesday</td>\n",
              "    </tr>\n",
              "    <tr>\n",
              "      <th>4</th>\n",
              "      <td>2023-01-05</td>\n",
              "      <td>Thursday</td>\n",
              "    </tr>\n",
              "  </tbody>\n",
              "</table>\n",
              "</div>"
            ],
            "text/plain": [
              "        Date    Weekday\n",
              "1 2023-01-02     Monday\n",
              "2 2023-01-03    Tuesday\n",
              "3 2023-01-04  Wednesday\n",
              "4 2023-01-05   Thursday"
            ]
          },
          "execution_count": 33,
          "metadata": {},
          "output_type": "execute_result"
        }
      ],
      "source": [
        "start = '2023-01-01'\n",
        "end =  '2023-01-31'\n",
        "mask = (df['Date'] > start) & (df['Date'] < end)\n",
        "df.loc[mask]"
      ]
    },
    {
      "cell_type": "code",
      "execution_count": null,
      "id": "0db1e73a",
      "metadata": {
        "id": "0db1e73a"
      },
      "outputs": [],
      "source": []
    },
    {
      "cell_type": "markdown",
      "id": "d29c5601",
      "metadata": {
        "id": "d29c5601"
      },
      "source": [
        "#### Q13. To use the basic functions of pandas, what is the first and foremost necessary library that needs to be imported?"
      ]
    },
    {
      "cell_type": "markdown",
      "id": "c027829b",
      "metadata": {
        "id": "c027829b"
      },
      "source": [
        "**Pandas libraty**"
      ]
    },
    {
      "cell_type": "code",
      "execution_count": null,
      "id": "fac0e27c",
      "metadata": {
        "id": "fac0e27c"
      },
      "outputs": [],
      "source": [
        "import pandas as pd"
      ]
    },
    {
      "cell_type": "code",
      "execution_count": null,
      "id": "dbe9e0a4",
      "metadata": {
        "id": "dbe9e0a4"
      },
      "outputs": [],
      "source": []
    }
  ],
  "metadata": {
    "kernelspec": {
      "display_name": "Python 3 (ipykernel)",
      "language": "python",
      "name": "python3"
    },
    "language_info": {
      "codemirror_mode": {
        "name": "ipython",
        "version": 3
      },
      "file_extension": ".py",
      "mimetype": "text/x-python",
      "name": "python",
      "nbconvert_exporter": "python",
      "pygments_lexer": "ipython3",
      "version": "3.7.1"
    },
    "colab": {
      "provenance": [],
      "include_colab_link": true
    }
  },
  "nbformat": 4,
  "nbformat_minor": 5
}