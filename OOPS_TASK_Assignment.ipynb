{
  "nbformat": 4,
  "nbformat_minor": 0,
  "metadata": {
    "colab": {
      "provenance": []
    },
    "kernelspec": {
      "name": "python3",
      "display_name": "Python 3"
    },
    "language_info": {
      "name": "python"
    }
  },
  "cells": [
    {
      "cell_type": "markdown",
      "source": [
        "Q1, Create a vehicle class with an init method having instance variables as name_of_vehicle, max_speed\n",
        "and average_of_vehicle.\n"
      ],
      "metadata": {
        "id": "pAx0WgWVEgDG"
      }
    },
    {
      "cell_type": "code",
      "source": [],
      "metadata": {
        "id": "Ft7EFFYHEmmq"
      },
      "execution_count": null,
      "outputs": []
    },
    {
      "cell_type": "markdown",
      "source": [
        "Q2. Create a child class car from the vehicle class created in Que 1, which will inherit the vehicle class.\n",
        "Create a method named seating_capacity which takes capacity as an argument and returns the name of\n",
        "the vehicle and its seating capacity."
      ],
      "metadata": {
        "id": "JltvWs1xEp7E"
      }
    },
    {
      "cell_type": "code",
      "source": [],
      "metadata": {
        "id": "kBLAOH6DEsom"
      },
      "execution_count": null,
      "outputs": []
    },
    {
      "cell_type": "markdown",
      "source": [
        "Q3. What is multiple inheritance? Write a python code to demonstrate multiple inheritance."
      ],
      "metadata": {
        "id": "4QJPv_WfEtl3"
      }
    },
    {
      "cell_type": "code",
      "source": [],
      "metadata": {
        "id": "5x5A_YrvEwSy"
      },
      "execution_count": null,
      "outputs": []
    },
    {
      "cell_type": "markdown",
      "source": [
        "Q4. What are getter and setter in python? Create a class and create a getter and a setter method in this\n",
        "class."
      ],
      "metadata": {
        "id": "h96INsunExAR"
      }
    },
    {
      "cell_type": "code",
      "source": [],
      "metadata": {
        "id": "bprQD-ErEzMU"
      },
      "execution_count": null,
      "outputs": []
    },
    {
      "cell_type": "markdown",
      "source": [
        "Q5.What is method overriding in python? Write a python code to demonstrate method overriding."
      ],
      "metadata": {
        "id": "t3a0ChV4E0Ao"
      }
    },
    {
      "cell_type": "code",
      "source": [],
      "metadata": {
        "id": "MnndbqecE2j8"
      },
      "execution_count": null,
      "outputs": []
    }
  ]
}